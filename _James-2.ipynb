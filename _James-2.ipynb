{
 "cells": [
  {
   "cell_type": "code",
   "execution_count": 73,
   "id": "0f259d90-e757-4c0b-b012-ad1f893aa211",
   "metadata": {},
   "outputs": [],
   "source": [
    "# Import required libraries\n",
    "import os\n",
    "import requests\n",
    "import json\n",
    "import pandas as pd\n",
    "# Import hvplot.pandas\n",
    "from dotenv import load_dotenv\n",
    "import alpaca_trade_api as tradeapi\n",
    "import datetime\n",
    "import numpy as np\n",
    "import numpy.random as rnd\n",
    "import requests\n",
    "from MCForecastTools import MCSimulation\n",
    "import ipywidgets as widgets\n",
    "from ipywidgets import widgets\n",
    "from ipywidgets import interact, interactive, fixed, interact_manual\n",
    "%matplotlib inline"
   ]
  },
  {
   "cell_type": "code",
   "execution_count": 74,
   "id": "09ac9058-9ace-43aa-b94c-fd24d481af28",
   "metadata": {},
   "outputs": [
    {
     "data": {
      "text/plain": [
       "True"
      ]
     },
     "execution_count": 74,
     "metadata": {},
     "output_type": "execute_result"
    }
   ],
   "source": [
    "# Load the environment variables from the .env file\n",
    "# Call the load_dotenv function\n",
    "load_dotenv()"
   ]
  },
  {
   "cell_type": "code",
   "execution_count": 75,
   "id": "090fea85-d223-4f6f-b138-eb4c95943458",
   "metadata": {},
   "outputs": [],
   "source": [
    "# Set the variables for the Alpaca API and secret keys\n",
    "alpaca_api_key = os.getenv(\"ALPACA_API_KEY\")\n",
    "alpaca_secret_key = os.getenv(\"ALPACA_SECRET_KEY\")\n",
    "# Create the Alpaca tradeapi.REST object\n",
    "alpaca = tradeapi.REST(\n",
    "            alpaca_api_key,\n",
    "            alpaca_secret_key,\n",
    "            api_version = \"v2\")"
   ]
  },
  {
   "cell_type": "code",
   "execution_count": 76,
   "id": "e9fd7b2e-f574-46c0-8f22-d282303b138e",
   "metadata": {},
   "outputs": [
    {
     "data": {
      "application/vnd.jupyter.widget-view+json": {
       "model_id": "3b6d48d1d22f44bc8917b5476d7b4872",
       "version_major": 2,
       "version_minor": 0
      },
      "text/plain": [
       "SelectMultiple(description='Select ETFs for analysis', index=(0,), options=('AGG', 'SPY', 'XLF', 'QQQ', 'EEM',…"
      ]
     },
     "metadata": {},
     "output_type": "display_data"
    }
   ],
   "source": [
    "# Can allow user defined with IPY Widgets \n",
    "# widgets.Dropdown(options=[\"AGG\", \"SPY\", \"XLF\", \"QQQ\", \"EEM\", \"XLE\", \"GDX\", \"IWM\", \"IWV\"], description=\"Select ETF\")\n",
    "\n",
    "ui= widgets.SelectMultiple(\n",
    "            options=[\"AGG\", \"SPY\", \"XLF\", \"QQQ\", \"EEM\", \"XLE\", \"GDX\", \"IWM\", \"IWV\"],\n",
    "            value=['AGG'],\n",
    "            description='Select ETFs for analysis',\n",
    "            readout= True,\n",
    "            disabled=False\n",
    ")\n",
    "display(ui)"
   ]
  },
  {
   "cell_type": "code",
   "execution_count": 77,
   "id": "8e31a9a9-da2c-4b57-9f14-fbd487204f9f",
   "metadata": {},
   "outputs": [
    {
     "name": "stdout",
     "output_type": "stream",
     "text": [
      "['AGG']\n"
     ]
    }
   ],
   "source": [
    "ui= list(ui.value)\n",
    "print(ui)"
   ]
  },
  {
   "cell_type": "code",
   "execution_count": 78,
   "id": "946b74a0-4b67-41c7-8096-5179f2412a57",
   "metadata": {},
   "outputs": [],
   "source": [
    "timeframe = \"1D\"\n",
    "\n",
    "today = str(datetime.datetime.today()).split()[0]\n",
    "\n",
    "three_years_ago= str(datetime.datetime.today()- datetime.timedelta(days=1095)).split()[0]\n",
    "\n",
    "start_date= pd.Timestamp(three_years_ago, tz=\"America/New_York\").isoformat()\n",
    "\n",
    "end_date= pd.Timestamp(today, tz=\"America/New_York\").isoformat()\n",
    "                       \n",
    "limit_rows=1000\n",
    "# Can allow user defined with IPY Widgets above \n",
    "tickers = ui"
   ]
  },
  {
   "cell_type": "code",
   "execution_count": 79,
   "id": "2c1b99de-1f9b-4ab5-a8a6-d567e1ba5aaf",
   "metadata": {},
   "outputs": [
    {
     "name": "stdout",
     "output_type": "stream",
     "text": [
      "Preparing 3 years of historical data... Please wait\n"
     ]
    },
    {
     "data": {
      "text/html": [
       "<div>\n",
       "<style scoped>\n",
       "    .dataframe tbody tr th:only-of-type {\n",
       "        vertical-align: middle;\n",
       "    }\n",
       "\n",
       "    .dataframe tbody tr th {\n",
       "        vertical-align: top;\n",
       "    }\n",
       "\n",
       "    .dataframe thead tr th {\n",
       "        text-align: left;\n",
       "    }\n",
       "\n",
       "    .dataframe thead tr:last-of-type th {\n",
       "        text-align: right;\n",
       "    }\n",
       "</style>\n",
       "<table border=\"1\" class=\"dataframe\">\n",
       "  <thead>\n",
       "    <tr>\n",
       "      <th></th>\n",
       "      <th colspan=\"5\" halign=\"left\">AGG</th>\n",
       "    </tr>\n",
       "    <tr>\n",
       "      <th></th>\n",
       "      <th>open</th>\n",
       "      <th>high</th>\n",
       "      <th>low</th>\n",
       "      <th>close</th>\n",
       "      <th>volume</th>\n",
       "    </tr>\n",
       "    <tr>\n",
       "      <th>time</th>\n",
       "      <th></th>\n",
       "      <th></th>\n",
       "      <th></th>\n",
       "      <th></th>\n",
       "      <th></th>\n",
       "    </tr>\n",
       "  </thead>\n",
       "  <tbody>\n",
       "    <tr>\n",
       "      <th>2018-08-17 00:00:00-04:00</th>\n",
       "      <td>106.43</td>\n",
       "      <td>106.545</td>\n",
       "      <td>106.38</td>\n",
       "      <td>106.460</td>\n",
       "      <td>1915186</td>\n",
       "    </tr>\n",
       "    <tr>\n",
       "      <th>2018-08-20 00:00:00-04:00</th>\n",
       "      <td>106.59</td>\n",
       "      <td>106.680</td>\n",
       "      <td>106.53</td>\n",
       "      <td>106.650</td>\n",
       "      <td>2105513</td>\n",
       "    </tr>\n",
       "    <tr>\n",
       "      <th>2018-08-21 00:00:00-04:00</th>\n",
       "      <td>106.58</td>\n",
       "      <td>106.620</td>\n",
       "      <td>106.51</td>\n",
       "      <td>106.575</td>\n",
       "      <td>2596721</td>\n",
       "    </tr>\n",
       "    <tr>\n",
       "      <th>2018-08-22 00:00:00-04:00</th>\n",
       "      <td>106.66</td>\n",
       "      <td>106.710</td>\n",
       "      <td>106.57</td>\n",
       "      <td>106.660</td>\n",
       "      <td>1725557</td>\n",
       "    </tr>\n",
       "    <tr>\n",
       "      <th>2018-08-23 00:00:00-04:00</th>\n",
       "      <td>106.67</td>\n",
       "      <td>106.705</td>\n",
       "      <td>106.62</td>\n",
       "      <td>106.620</td>\n",
       "      <td>1346950</td>\n",
       "    </tr>\n",
       "  </tbody>\n",
       "</table>\n",
       "</div>"
      ],
      "text/plain": [
       "                              AGG                                   \n",
       "                             open     high     low    close   volume\n",
       "time                                                                \n",
       "2018-08-17 00:00:00-04:00  106.43  106.545  106.38  106.460  1915186\n",
       "2018-08-20 00:00:00-04:00  106.59  106.680  106.53  106.650  2105513\n",
       "2018-08-21 00:00:00-04:00  106.58  106.620  106.51  106.575  2596721\n",
       "2018-08-22 00:00:00-04:00  106.66  106.710  106.57  106.660  1725557\n",
       "2018-08-23 00:00:00-04:00  106.67  106.705  106.62  106.620  1346950"
      ]
     },
     "metadata": {},
     "output_type": "display_data"
    },
    {
     "data": {
      "text/html": [
       "<div>\n",
       "<style scoped>\n",
       "    .dataframe tbody tr th:only-of-type {\n",
       "        vertical-align: middle;\n",
       "    }\n",
       "\n",
       "    .dataframe tbody tr th {\n",
       "        vertical-align: top;\n",
       "    }\n",
       "\n",
       "    .dataframe thead tr th {\n",
       "        text-align: left;\n",
       "    }\n",
       "\n",
       "    .dataframe thead tr:last-of-type th {\n",
       "        text-align: right;\n",
       "    }\n",
       "</style>\n",
       "<table border=\"1\" class=\"dataframe\">\n",
       "  <thead>\n",
       "    <tr>\n",
       "      <th></th>\n",
       "      <th colspan=\"5\" halign=\"left\">AGG</th>\n",
       "    </tr>\n",
       "    <tr>\n",
       "      <th></th>\n",
       "      <th>open</th>\n",
       "      <th>high</th>\n",
       "      <th>low</th>\n",
       "      <th>close</th>\n",
       "      <th>volume</th>\n",
       "    </tr>\n",
       "    <tr>\n",
       "      <th>time</th>\n",
       "      <th></th>\n",
       "      <th></th>\n",
       "      <th></th>\n",
       "      <th></th>\n",
       "      <th></th>\n",
       "    </tr>\n",
       "  </thead>\n",
       "  <tbody>\n",
       "    <tr>\n",
       "      <th>2021-08-10 00:00:00-04:00</th>\n",
       "      <td>115.65</td>\n",
       "      <td>115.6500</td>\n",
       "      <td>115.4350</td>\n",
       "      <td>115.44</td>\n",
       "      <td>6692325</td>\n",
       "    </tr>\n",
       "    <tr>\n",
       "      <th>2021-08-11 00:00:00-04:00</th>\n",
       "      <td>115.46</td>\n",
       "      <td>115.7000</td>\n",
       "      <td>115.3400</td>\n",
       "      <td>115.55</td>\n",
       "      <td>6423130</td>\n",
       "    </tr>\n",
       "    <tr>\n",
       "      <th>2021-08-12 00:00:00-04:00</th>\n",
       "      <td>115.49</td>\n",
       "      <td>115.5799</td>\n",
       "      <td>115.4000</td>\n",
       "      <td>115.54</td>\n",
       "      <td>4248390</td>\n",
       "    </tr>\n",
       "    <tr>\n",
       "      <th>2021-08-13 00:00:00-04:00</th>\n",
       "      <td>115.65</td>\n",
       "      <td>115.9700</td>\n",
       "      <td>115.6401</td>\n",
       "      <td>115.97</td>\n",
       "      <td>4455924</td>\n",
       "    </tr>\n",
       "    <tr>\n",
       "      <th>2021-08-16 00:00:00-04:00</th>\n",
       "      <td>116.14</td>\n",
       "      <td>116.2700</td>\n",
       "      <td>116.0300</td>\n",
       "      <td>116.03</td>\n",
       "      <td>3406963</td>\n",
       "    </tr>\n",
       "  </tbody>\n",
       "</table>\n",
       "</div>"
      ],
      "text/plain": [
       "                              AGG                                     \n",
       "                             open      high       low   close   volume\n",
       "time                                                                  \n",
       "2021-08-10 00:00:00-04:00  115.65  115.6500  115.4350  115.44  6692325\n",
       "2021-08-11 00:00:00-04:00  115.46  115.7000  115.3400  115.55  6423130\n",
       "2021-08-12 00:00:00-04:00  115.49  115.5799  115.4000  115.54  4248390\n",
       "2021-08-13 00:00:00-04:00  115.65  115.9700  115.6401  115.97  4455924\n",
       "2021-08-16 00:00:00-04:00  116.14  116.2700  116.0300  116.03  3406963"
      ]
     },
     "metadata": {},
     "output_type": "display_data"
    }
   ],
   "source": [
    "print(\"Preparing 3 years of historical data... Please wait\")\n",
    "alpaca_df= alpaca.get_barset(\n",
    "               tickers,\n",
    "               timeframe,\n",
    "               limit= limit_rows,\n",
    "               start = start_date,\n",
    "               end = end_date\n",
    ").df\n",
    "display(alpaca_df.head())\n",
    "display(alpaca_df.tail())"
   ]
  },
  {
   "cell_type": "code",
   "execution_count": 80,
   "id": "2167579b-2cbc-43e4-b0e6-4d844d17b361",
   "metadata": {},
   "outputs": [],
   "source": [
    "# Set number of simulations\n",
    "# Use IPY Widgets to set sims and years\n",
    "#int_slider = widgets.IntSlider(min=50, max=500, value=25, step=10, description=\"Simulations?\")\n",
    "#int_slider"
   ]
  },
  {
   "cell_type": "code",
   "execution_count": 81,
   "id": "66de33c5-4139-41fa-9a30-320bf2921735",
   "metadata": {},
   "outputs": [],
   "source": [
    "#simulations = int_slider.value\n",
    "#print(simulations)"
   ]
  },
  {
   "cell_type": "code",
   "execution_count": 82,
   "id": "52bee644-a92b-4d14-9a04-9489773befb4",
   "metadata": {},
   "outputs": [],
   "source": [
    "#int_slider = widgets.IntSlider(min=1, max=10, value=25, step=1, description=\"Years?\")\n",
    "#int_slider"
   ]
  },
  {
   "cell_type": "code",
   "execution_count": 83,
   "id": "024aefa3-510a-4f53-b246-35c80904f187",
   "metadata": {},
   "outputs": [],
   "source": [
    "#years = int_slider.value\n",
    "#print(years)"
   ]
  },
  {
   "cell_type": "code",
   "execution_count": null,
   "id": "93e80d67-7340-4d91-a557-0f78501f6a01",
   "metadata": {},
   "outputs": [],
   "source": []
  },
  {
   "cell_type": "code",
   "execution_count": null,
   "id": "51c3be91-34ee-43ef-abcf-40136491d033",
   "metadata": {},
   "outputs": [],
   "source": []
  },
  {
   "cell_type": "code",
   "execution_count": 84,
   "id": "36b034a6-b0b4-4c88-b37e-64c1e48c2486",
   "metadata": {},
   "outputs": [
    {
     "data": {
      "application/vnd.jupyter.widget-view+json": {
       "model_id": "dd07fdb3306e48f98e2d0d78825584f7",
       "version_major": 2,
       "version_minor": 0
      },
      "text/plain": [
       "Select(description='num of simulations', index=1, options=('50', '100', '250', '500'), value='100')"
      ]
     },
     "metadata": {},
     "output_type": "display_data"
    }
   ],
   "source": [
    "simulations= widgets.Select(\n",
    "    options=['50','100', '250', '500'],\n",
    "    value='100',\n",
    "    description='num of simulations',\n",
    "    disabled=False\n",
    ")\n",
    "display(simulations)"
   ]
  },
  {
   "cell_type": "code",
   "execution_count": 85,
   "id": "d75c4fbf-921c-49f8-adcc-a65709627550",
   "metadata": {},
   "outputs": [
    {
     "name": "stdout",
     "output_type": "stream",
     "text": [
      "100\n"
     ]
    }
   ],
   "source": [
    "simulations=int(simulations.value)\n",
    "print(simulations)"
   ]
  },
  {
   "cell_type": "code",
   "execution_count": 86,
   "id": "d3dbc2c2-f4f6-4830-98af-cc3c85432ebc",
   "metadata": {},
   "outputs": [
    {
     "data": {
      "application/vnd.jupyter.widget-view+json": {
       "model_id": "99313a5a6fce45c3855b4d11f4aaca37",
       "version_major": 2,
       "version_minor": 0
      },
      "text/plain": [
       "IntSlider(value=10, continuous_update=False, description='Years:', max=30, min=1)"
      ]
     },
     "metadata": {},
     "output_type": "display_data"
    }
   ],
   "source": [
    "years=widgets.IntSlider(\n",
    "    value=10,\n",
    "    min=1,\n",
    "    max=30,\n",
    "    step=1,\n",
    "    description='Years:',\n",
    "    disabled=False,\n",
    "    continuous_update=False,\n",
    "    orientation='horizontal',\n",
    "    readout=True,\n",
    "    readout_format='d'\n",
    ")\n",
    "\n",
    "display(years)"
   ]
  },
  {
   "cell_type": "code",
   "execution_count": 87,
   "id": "e14e137e-45b1-47bf-be0f-dff701039904",
   "metadata": {},
   "outputs": [
    {
     "name": "stdout",
     "output_type": "stream",
     "text": [
      "10\n"
     ]
    }
   ],
   "source": [
    "years= int(years.value)\n",
    "print(years)"
   ]
  },
  {
   "cell_type": "code",
   "execution_count": 88,
   "id": "ad8b82a5-9b03-4974-bda3-147cedcdc8c3",
   "metadata": {},
   "outputs": [],
   "source": [
    "# set number of years and simulations from user inputs\n",
    "MC_ETF = MCSimulation(\n",
    "    portfolio_data = alpaca_df,\n",
    "    num_simulation = simulations,\n",
    "    num_trading_days = 252 * years\n",
    ")"
   ]
  },
  {
   "cell_type": "code",
   "execution_count": 89,
   "id": "9e4b6b94-9b73-4ad5-bb59-cb676f56c983",
   "metadata": {},
   "outputs": [
    {
     "name": "stdout",
     "output_type": "stream",
     "text": [
      "Running Monte Carlo simulation number 0.\n",
      "Running Monte Carlo simulation number 10.\n",
      "Running Monte Carlo simulation number 20.\n",
      "Running Monte Carlo simulation number 30.\n",
      "Running Monte Carlo simulation number 40.\n",
      "Running Monte Carlo simulation number 50.\n",
      "Running Monte Carlo simulation number 60.\n",
      "Running Monte Carlo simulation number 70.\n",
      "Running Monte Carlo simulation number 80.\n",
      "Running Monte Carlo simulation number 90.\n"
     ]
    },
    {
     "data": {
      "text/html": [
       "<div>\n",
       "<style scoped>\n",
       "    .dataframe tbody tr th:only-of-type {\n",
       "        vertical-align: middle;\n",
       "    }\n",
       "\n",
       "    .dataframe tbody tr th {\n",
       "        vertical-align: top;\n",
       "    }\n",
       "\n",
       "    .dataframe thead th {\n",
       "        text-align: right;\n",
       "    }\n",
       "</style>\n",
       "<table border=\"1\" class=\"dataframe\">\n",
       "  <thead>\n",
       "    <tr style=\"text-align: right;\">\n",
       "      <th></th>\n",
       "      <th>0</th>\n",
       "      <th>1</th>\n",
       "      <th>2</th>\n",
       "      <th>3</th>\n",
       "      <th>4</th>\n",
       "      <th>5</th>\n",
       "      <th>6</th>\n",
       "      <th>7</th>\n",
       "      <th>8</th>\n",
       "      <th>9</th>\n",
       "      <th>...</th>\n",
       "      <th>90</th>\n",
       "      <th>91</th>\n",
       "      <th>92</th>\n",
       "      <th>93</th>\n",
       "      <th>94</th>\n",
       "      <th>95</th>\n",
       "      <th>96</th>\n",
       "      <th>97</th>\n",
       "      <th>98</th>\n",
       "      <th>99</th>\n",
       "    </tr>\n",
       "  </thead>\n",
       "  <tbody>\n",
       "    <tr>\n",
       "      <th>0</th>\n",
       "      <td>1.000000</td>\n",
       "      <td>1.000000</td>\n",
       "      <td>1.000000</td>\n",
       "      <td>1.000000</td>\n",
       "      <td>1.000000</td>\n",
       "      <td>1.000000</td>\n",
       "      <td>1.000000</td>\n",
       "      <td>1.000000</td>\n",
       "      <td>1.000000</td>\n",
       "      <td>1.000000</td>\n",
       "      <td>...</td>\n",
       "      <td>1.000000</td>\n",
       "      <td>1.000000</td>\n",
       "      <td>1.000000</td>\n",
       "      <td>1.000000</td>\n",
       "      <td>1.000000</td>\n",
       "      <td>1.000000</td>\n",
       "      <td>1.000000</td>\n",
       "      <td>1.000000</td>\n",
       "      <td>1.000000</td>\n",
       "      <td>1.000000</td>\n",
       "    </tr>\n",
       "    <tr>\n",
       "      <th>1</th>\n",
       "      <td>1.000483</td>\n",
       "      <td>0.999613</td>\n",
       "      <td>0.998433</td>\n",
       "      <td>0.997406</td>\n",
       "      <td>0.995497</td>\n",
       "      <td>0.995400</td>\n",
       "      <td>1.001982</td>\n",
       "      <td>1.002614</td>\n",
       "      <td>1.000854</td>\n",
       "      <td>0.996440</td>\n",
       "      <td>...</td>\n",
       "      <td>0.996811</td>\n",
       "      <td>1.005956</td>\n",
       "      <td>0.998073</td>\n",
       "      <td>1.000971</td>\n",
       "      <td>1.000138</td>\n",
       "      <td>1.000464</td>\n",
       "      <td>1.000007</td>\n",
       "      <td>1.001819</td>\n",
       "      <td>1.004348</td>\n",
       "      <td>0.997637</td>\n",
       "    </tr>\n",
       "    <tr>\n",
       "      <th>2</th>\n",
       "      <td>0.997396</td>\n",
       "      <td>0.988855</td>\n",
       "      <td>0.997518</td>\n",
       "      <td>0.996610</td>\n",
       "      <td>0.996860</td>\n",
       "      <td>0.996994</td>\n",
       "      <td>1.004711</td>\n",
       "      <td>0.999745</td>\n",
       "      <td>1.000377</td>\n",
       "      <td>0.995609</td>\n",
       "      <td>...</td>\n",
       "      <td>0.998651</td>\n",
       "      <td>0.998314</td>\n",
       "      <td>0.995973</td>\n",
       "      <td>0.998979</td>\n",
       "      <td>0.997097</td>\n",
       "      <td>0.999890</td>\n",
       "      <td>0.996454</td>\n",
       "      <td>1.004027</td>\n",
       "      <td>1.001328</td>\n",
       "      <td>0.995764</td>\n",
       "    </tr>\n",
       "    <tr>\n",
       "      <th>3</th>\n",
       "      <td>1.001325</td>\n",
       "      <td>0.981965</td>\n",
       "      <td>1.000610</td>\n",
       "      <td>0.993776</td>\n",
       "      <td>0.999678</td>\n",
       "      <td>0.999794</td>\n",
       "      <td>1.004192</td>\n",
       "      <td>1.003212</td>\n",
       "      <td>1.005846</td>\n",
       "      <td>0.991532</td>\n",
       "      <td>...</td>\n",
       "      <td>0.997267</td>\n",
       "      <td>0.992009</td>\n",
       "      <td>0.991420</td>\n",
       "      <td>0.997130</td>\n",
       "      <td>0.997697</td>\n",
       "      <td>1.003669</td>\n",
       "      <td>0.995723</td>\n",
       "      <td>1.006657</td>\n",
       "      <td>1.003714</td>\n",
       "      <td>0.993304</td>\n",
       "    </tr>\n",
       "    <tr>\n",
       "      <th>4</th>\n",
       "      <td>1.000685</td>\n",
       "      <td>0.984057</td>\n",
       "      <td>0.996499</td>\n",
       "      <td>0.990929</td>\n",
       "      <td>1.001900</td>\n",
       "      <td>1.004655</td>\n",
       "      <td>1.004246</td>\n",
       "      <td>0.996226</td>\n",
       "      <td>1.007580</td>\n",
       "      <td>0.992019</td>\n",
       "      <td>...</td>\n",
       "      <td>0.999641</td>\n",
       "      <td>0.993361</td>\n",
       "      <td>0.990596</td>\n",
       "      <td>0.993020</td>\n",
       "      <td>1.000761</td>\n",
       "      <td>1.002955</td>\n",
       "      <td>0.997768</td>\n",
       "      <td>1.005263</td>\n",
       "      <td>0.995728</td>\n",
       "      <td>0.988211</td>\n",
       "    </tr>\n",
       "    <tr>\n",
       "      <th>...</th>\n",
       "      <td>...</td>\n",
       "      <td>...</td>\n",
       "      <td>...</td>\n",
       "      <td>...</td>\n",
       "      <td>...</td>\n",
       "      <td>...</td>\n",
       "      <td>...</td>\n",
       "      <td>...</td>\n",
       "      <td>...</td>\n",
       "      <td>...</td>\n",
       "      <td>...</td>\n",
       "      <td>...</td>\n",
       "      <td>...</td>\n",
       "      <td>...</td>\n",
       "      <td>...</td>\n",
       "      <td>...</td>\n",
       "      <td>...</td>\n",
       "      <td>...</td>\n",
       "      <td>...</td>\n",
       "      <td>...</td>\n",
       "      <td>...</td>\n",
       "    </tr>\n",
       "    <tr>\n",
       "      <th>2516</th>\n",
       "      <td>1.358137</td>\n",
       "      <td>1.458323</td>\n",
       "      <td>1.203384</td>\n",
       "      <td>2.050036</td>\n",
       "      <td>1.112341</td>\n",
       "      <td>1.114755</td>\n",
       "      <td>1.433442</td>\n",
       "      <td>1.285308</td>\n",
       "      <td>1.658513</td>\n",
       "      <td>1.237306</td>\n",
       "      <td>...</td>\n",
       "      <td>1.123090</td>\n",
       "      <td>1.197631</td>\n",
       "      <td>1.046176</td>\n",
       "      <td>0.955759</td>\n",
       "      <td>1.112052</td>\n",
       "      <td>1.246217</td>\n",
       "      <td>1.404095</td>\n",
       "      <td>1.199460</td>\n",
       "      <td>1.639422</td>\n",
       "      <td>1.372617</td>\n",
       "    </tr>\n",
       "    <tr>\n",
       "      <th>2517</th>\n",
       "      <td>1.349513</td>\n",
       "      <td>1.448682</td>\n",
       "      <td>1.198011</td>\n",
       "      <td>2.062360</td>\n",
       "      <td>1.113841</td>\n",
       "      <td>1.111786</td>\n",
       "      <td>1.427469</td>\n",
       "      <td>1.282739</td>\n",
       "      <td>1.657189</td>\n",
       "      <td>1.235232</td>\n",
       "      <td>...</td>\n",
       "      <td>1.120920</td>\n",
       "      <td>1.200741</td>\n",
       "      <td>1.049901</td>\n",
       "      <td>0.960292</td>\n",
       "      <td>1.112190</td>\n",
       "      <td>1.248585</td>\n",
       "      <td>1.406652</td>\n",
       "      <td>1.204679</td>\n",
       "      <td>1.651131</td>\n",
       "      <td>1.369501</td>\n",
       "    </tr>\n",
       "    <tr>\n",
       "      <th>2518</th>\n",
       "      <td>1.342045</td>\n",
       "      <td>1.438325</td>\n",
       "      <td>1.197267</td>\n",
       "      <td>2.062599</td>\n",
       "      <td>1.115578</td>\n",
       "      <td>1.113596</td>\n",
       "      <td>1.419785</td>\n",
       "      <td>1.283482</td>\n",
       "      <td>1.654165</td>\n",
       "      <td>1.233803</td>\n",
       "      <td>...</td>\n",
       "      <td>1.114683</td>\n",
       "      <td>1.208928</td>\n",
       "      <td>1.050404</td>\n",
       "      <td>0.956322</td>\n",
       "      <td>1.111473</td>\n",
       "      <td>1.248854</td>\n",
       "      <td>1.401400</td>\n",
       "      <td>1.205107</td>\n",
       "      <td>1.637167</td>\n",
       "      <td>1.367038</td>\n",
       "    </tr>\n",
       "    <tr>\n",
       "      <th>2519</th>\n",
       "      <td>1.337816</td>\n",
       "      <td>1.438329</td>\n",
       "      <td>1.201049</td>\n",
       "      <td>2.079028</td>\n",
       "      <td>1.115356</td>\n",
       "      <td>1.113379</td>\n",
       "      <td>1.427946</td>\n",
       "      <td>1.281421</td>\n",
       "      <td>1.654256</td>\n",
       "      <td>1.239782</td>\n",
       "      <td>...</td>\n",
       "      <td>1.119572</td>\n",
       "      <td>1.213165</td>\n",
       "      <td>1.046676</td>\n",
       "      <td>0.953700</td>\n",
       "      <td>1.119451</td>\n",
       "      <td>1.252590</td>\n",
       "      <td>1.399807</td>\n",
       "      <td>1.207099</td>\n",
       "      <td>1.633144</td>\n",
       "      <td>1.364961</td>\n",
       "    </tr>\n",
       "    <tr>\n",
       "      <th>2520</th>\n",
       "      <td>1.332834</td>\n",
       "      <td>1.441531</td>\n",
       "      <td>1.196031</td>\n",
       "      <td>2.080963</td>\n",
       "      <td>1.112381</td>\n",
       "      <td>1.111367</td>\n",
       "      <td>1.427369</td>\n",
       "      <td>1.286203</td>\n",
       "      <td>1.661720</td>\n",
       "      <td>1.240127</td>\n",
       "      <td>...</td>\n",
       "      <td>1.122776</td>\n",
       "      <td>1.208052</td>\n",
       "      <td>1.045734</td>\n",
       "      <td>0.953269</td>\n",
       "      <td>1.117222</td>\n",
       "      <td>1.251076</td>\n",
       "      <td>1.400132</td>\n",
       "      <td>1.214603</td>\n",
       "      <td>1.636324</td>\n",
       "      <td>1.362321</td>\n",
       "    </tr>\n",
       "  </tbody>\n",
       "</table>\n",
       "<p>2521 rows × 100 columns</p>\n",
       "</div>"
      ],
      "text/plain": [
       "            0         1         2         3         4         5         6   \\\n",
       "0     1.000000  1.000000  1.000000  1.000000  1.000000  1.000000  1.000000   \n",
       "1     1.000483  0.999613  0.998433  0.997406  0.995497  0.995400  1.001982   \n",
       "2     0.997396  0.988855  0.997518  0.996610  0.996860  0.996994  1.004711   \n",
       "3     1.001325  0.981965  1.000610  0.993776  0.999678  0.999794  1.004192   \n",
       "4     1.000685  0.984057  0.996499  0.990929  1.001900  1.004655  1.004246   \n",
       "...        ...       ...       ...       ...       ...       ...       ...   \n",
       "2516  1.358137  1.458323  1.203384  2.050036  1.112341  1.114755  1.433442   \n",
       "2517  1.349513  1.448682  1.198011  2.062360  1.113841  1.111786  1.427469   \n",
       "2518  1.342045  1.438325  1.197267  2.062599  1.115578  1.113596  1.419785   \n",
       "2519  1.337816  1.438329  1.201049  2.079028  1.115356  1.113379  1.427946   \n",
       "2520  1.332834  1.441531  1.196031  2.080963  1.112381  1.111367  1.427369   \n",
       "\n",
       "            7         8         9   ...        90        91        92  \\\n",
       "0     1.000000  1.000000  1.000000  ...  1.000000  1.000000  1.000000   \n",
       "1     1.002614  1.000854  0.996440  ...  0.996811  1.005956  0.998073   \n",
       "2     0.999745  1.000377  0.995609  ...  0.998651  0.998314  0.995973   \n",
       "3     1.003212  1.005846  0.991532  ...  0.997267  0.992009  0.991420   \n",
       "4     0.996226  1.007580  0.992019  ...  0.999641  0.993361  0.990596   \n",
       "...        ...       ...       ...  ...       ...       ...       ...   \n",
       "2516  1.285308  1.658513  1.237306  ...  1.123090  1.197631  1.046176   \n",
       "2517  1.282739  1.657189  1.235232  ...  1.120920  1.200741  1.049901   \n",
       "2518  1.283482  1.654165  1.233803  ...  1.114683  1.208928  1.050404   \n",
       "2519  1.281421  1.654256  1.239782  ...  1.119572  1.213165  1.046676   \n",
       "2520  1.286203  1.661720  1.240127  ...  1.122776  1.208052  1.045734   \n",
       "\n",
       "            93        94        95        96        97        98        99  \n",
       "0     1.000000  1.000000  1.000000  1.000000  1.000000  1.000000  1.000000  \n",
       "1     1.000971  1.000138  1.000464  1.000007  1.001819  1.004348  0.997637  \n",
       "2     0.998979  0.997097  0.999890  0.996454  1.004027  1.001328  0.995764  \n",
       "3     0.997130  0.997697  1.003669  0.995723  1.006657  1.003714  0.993304  \n",
       "4     0.993020  1.000761  1.002955  0.997768  1.005263  0.995728  0.988211  \n",
       "...        ...       ...       ...       ...       ...       ...       ...  \n",
       "2516  0.955759  1.112052  1.246217  1.404095  1.199460  1.639422  1.372617  \n",
       "2517  0.960292  1.112190  1.248585  1.406652  1.204679  1.651131  1.369501  \n",
       "2518  0.956322  1.111473  1.248854  1.401400  1.205107  1.637167  1.367038  \n",
       "2519  0.953700  1.119451  1.252590  1.399807  1.207099  1.633144  1.364961  \n",
       "2520  0.953269  1.117222  1.251076  1.400132  1.214603  1.636324  1.362321  \n",
       "\n",
       "[2521 rows x 100 columns]"
      ]
     },
     "execution_count": 89,
     "metadata": {},
     "output_type": "execute_result"
    }
   ],
   "source": [
    "# Run Monte Carlo simulations to forecast one year daily returns\n",
    "MC_ETF.calc_cumulative_return()"
   ]
  },
  {
   "cell_type": "code",
   "execution_count": 90,
   "id": "f3fb24eb-7bdb-4782-88d3-d159420d3b92",
   "metadata": {},
   "outputs": [
    {
     "data": {
      "image/png": "[encoded data removed]",
      "text/plain": [
       "<Figure size 432x288 with 1 Axes>"
      ]
     },
     "metadata": {
      "needs_background": "light"
     },
     "output_type": "display_data"
    }
   ],
   "source": [
    "# Plot simulation outcomes\n",
    "line_plot = MC_ETF.plot_simulation()"
   ]
  },
  {
   "cell_type": "code",
   "execution_count": 91,
   "id": "5c004698-2471-40ea-ac25-f2fbecfa0edd",
   "metadata": {},
   "outputs": [
    {
     "data": {
      "text/html": [
       "<div>\n",
       "<style scoped>\n",
       "    .dataframe tbody tr th:only-of-type {\n",
       "        vertical-align: middle;\n",
       "    }\n",
       "\n",
       "    .dataframe tbody tr th {\n",
       "        vertical-align: top;\n",
       "    }\n",
       "\n",
       "    .dataframe thead th {\n",
       "        text-align: right;\n",
       "    }\n",
       "</style>\n",
       "<table border=\"1\" class=\"dataframe\">\n",
       "  <thead>\n",
       "    <tr style=\"text-align: right;\">\n",
       "      <th></th>\n",
       "      <th>mean</th>\n",
       "      <th>median</th>\n",
       "      <th>min</th>\n",
       "      <th>max</th>\n",
       "    </tr>\n",
       "  </thead>\n",
       "  <tbody>\n",
       "    <tr>\n",
       "      <th>0</th>\n",
       "      <td>1.000000</td>\n",
       "      <td>1.000000</td>\n",
       "      <td>1.000000</td>\n",
       "      <td>1.000000</td>\n",
       "    </tr>\n",
       "    <tr>\n",
       "      <th>1</th>\n",
       "      <td>1.000089</td>\n",
       "      <td>1.000100</td>\n",
       "      <td>0.991642</td>\n",
       "      <td>1.009939</td>\n",
       "    </tr>\n",
       "    <tr>\n",
       "      <th>2</th>\n",
       "      <td>1.000212</td>\n",
       "      <td>1.000060</td>\n",
       "      <td>0.983329</td>\n",
       "      <td>1.015363</td>\n",
       "    </tr>\n",
       "    <tr>\n",
       "      <th>3</th>\n",
       "      <td>1.000446</td>\n",
       "      <td>1.000789</td>\n",
       "      <td>0.981965</td>\n",
       "      <td>1.018731</td>\n",
       "    </tr>\n",
       "    <tr>\n",
       "      <th>4</th>\n",
       "      <td>1.000288</td>\n",
       "      <td>1.000522</td>\n",
       "      <td>0.984057</td>\n",
       "      <td>1.021683</td>\n",
       "    </tr>\n",
       "    <tr>\n",
       "      <th>...</th>\n",
       "      <td>...</td>\n",
       "      <td>...</td>\n",
       "      <td>...</td>\n",
       "      <td>...</td>\n",
       "    </tr>\n",
       "    <tr>\n",
       "      <th>2516</th>\n",
       "      <td>1.365610</td>\n",
       "      <td>1.337010</td>\n",
       "      <td>0.801478</td>\n",
       "      <td>2.070446</td>\n",
       "    </tr>\n",
       "    <tr>\n",
       "      <th>2517</th>\n",
       "      <td>1.365610</td>\n",
       "      <td>1.338543</td>\n",
       "      <td>0.800480</td>\n",
       "      <td>2.065535</td>\n",
       "    </tr>\n",
       "    <tr>\n",
       "      <th>2518</th>\n",
       "      <td>1.364785</td>\n",
       "      <td>1.339218</td>\n",
       "      <td>0.802910</td>\n",
       "      <td>2.062599</td>\n",
       "    </tr>\n",
       "    <tr>\n",
       "      <th>2519</th>\n",
       "      <td>1.364491</td>\n",
       "      <td>1.334786</td>\n",
       "      <td>0.802577</td>\n",
       "      <td>2.079028</td>\n",
       "    </tr>\n",
       "    <tr>\n",
       "      <th>2520</th>\n",
       "      <td>1.364790</td>\n",
       "      <td>1.336918</td>\n",
       "      <td>0.804490</td>\n",
       "      <td>2.080963</td>\n",
       "    </tr>\n",
       "  </tbody>\n",
       "</table>\n",
       "<p>2521 rows × 4 columns</p>\n",
       "</div>"
      ],
      "text/plain": [
       "          mean    median       min       max\n",
       "0     1.000000  1.000000  1.000000  1.000000\n",
       "1     1.000089  1.000100  0.991642  1.009939\n",
       "2     1.000212  1.000060  0.983329  1.015363\n",
       "3     1.000446  1.000789  0.981965  1.018731\n",
       "4     1.000288  1.000522  0.984057  1.021683\n",
       "...        ...       ...       ...       ...\n",
       "2516  1.365610  1.337010  0.801478  2.070446\n",
       "2517  1.365610  1.338543  0.800480  2.065535\n",
       "2518  1.364785  1.339218  0.802910  2.062599\n",
       "2519  1.364491  1.334786  0.802577  2.079028\n",
       "2520  1.364790  1.336918  0.804490  2.080963\n",
       "\n",
       "[2521 rows x 4 columns]"
      ]
     },
     "execution_count": 91,
     "metadata": {},
     "output_type": "execute_result"
    }
   ],
   "source": [
    "# Compute summary statistics from the simulated daily returns\n",
    "simulated_returns_data = {\n",
    "    \"mean\": list(MC_ETF.simulated_return.mean(axis=1)),\n",
    "    \"median\": list(MC_ETF.simulated_return.median(axis=1)),\n",
    "    \"min\": list(MC_ETF.simulated_return.min(axis=1)),\n",
    "    \"max\": list(MC_ETF.simulated_return.max(axis=1))\n",
    "}\n",
    "\n",
    "# Create a DataFrame with the summary statistics\n",
    "df_simulated_returns = pd.DataFrame(simulated_returns_data)\n",
    "\n",
    "# Display sample data\n",
    "df_simulated_returns"
   ]
  },
  {
   "cell_type": "code",
   "execution_count": 92,
   "id": "2d27fc6b-254e-4a05-805c-a061aeabcd38",
   "metadata": {},
   "outputs": [
    {
     "data": {
      "text/plain": [
       "<AxesSubplot:title={'center':'Simulated Daily Returns Behavior of ETF Portfolio Over the Next Year'}>"
      ]
     },
     "execution_count": 92,
     "metadata": {},
     "output_type": "execute_result"
    },
    {
     "data": {
      "image/png": "[encoded data removed]",
      "text/plain": [
       "<Figure size 432x288 with 1 Axes>"
      ]
     },
     "metadata": {
      "needs_background": "light"
     },
     "output_type": "display_data"
    }
   ],
   "source": [
    "# Use the `plot` function to visually analyze the trajectory of AAPL stock daily returns on a 252 trading day simulation\n",
    "df_simulated_returns.plot(title=\"Simulated Daily Returns Behavior of ETF Portfolio Over the Next Year\")"
   ]
  },
  {
   "cell_type": "code",
   "execution_count": 93,
   "id": "ceb59ca2-d81b-41ce-8168-a57808a24d73",
   "metadata": {},
   "outputs": [],
   "source": [
    "# Set initial investment\n",
    "# Use widget to set investment amount\n",
    "# widgets.Textarea(value=\"Please enter text here..\")"
   ]
  },
  {
   "cell_type": "code",
   "execution_count": null,
   "id": "684632e2-5285-4400-bdb7-39892f240a52",
   "metadata": {},
   "outputs": [],
   "source": []
  },
  {
   "cell_type": "code",
   "execution_count": 94,
   "id": "681e8e91-8c6d-4326-a246-d9909844bbb2",
   "metadata": {},
   "outputs": [
    {
     "data": {
      "application/vnd.jupyter.widget-view+json": {
       "model_id": "e6c37d604b5b411390a52f0b1fb5cd13",
       "version_major": 2,
       "version_minor": 0
      },
      "text/plain": [
       "IntSlider(value=1000, continuous_update=False, description='Investment:', max=1000000, min=1000, step=1000)"
      ]
     },
     "metadata": {},
     "output_type": "display_data"
    }
   ],
   "source": [
    "investment=widgets.IntSlider(\n",
    "    value=10,\n",
    "    min=1000,\n",
    "    max=1000000,\n",
    "    step=1000,\n",
    "    description='Investment:',\n",
    "    disabled=False,\n",
    "    continuous_update=False,\n",
    "    orientation='horizontal',\n",
    "    readout=True,\n",
    "    readout_format='d'\n",
    ")\n",
    "\n",
    "display(investment)"
   ]
  },
  {
   "cell_type": "code",
   "execution_count": 95,
   "id": "031fbba6-8a39-46eb-a02d-53e02376d06c",
   "metadata": {},
   "outputs": [
    {
     "name": "stdout",
     "output_type": "stream",
     "text": [
      "1000\n"
     ]
    }
   ],
   "source": [
    "investment = int(investment.value)\n",
    "print(investment)"
   ]
  },
  {
   "cell_type": "code",
   "execution_count": 96,
   "id": "8c96ff28-87bc-4a03-b773-97d82b1b9665",
   "metadata": {},
   "outputs": [],
   "source": [
    "# Set initial investment\n",
    "initial_investment = investment\n",
    "\n",
    "# Multiply an initial investment by the daily returns of simulative stock prices to return the progression of daily returns in terms of money\n",
    "cumulative_pnl = initial_investment * df_simulated_returns\n",
    "\n",
    "# Display sample data\n",
    "#cumulative_pnl"
   ]
  },
  {
   "cell_type": "code",
   "execution_count": 97,
   "id": "6288eaac-4ee0-4ed5-a825-e74550b9bcb7",
   "metadata": {},
   "outputs": [
    {
     "data": {
      "text/plain": [
       "<AxesSubplot:title={'center':'Simulated Outcomes Behavior of ETF Stock Over the Next Year'}>"
      ]
     },
     "execution_count": 97,
     "metadata": {},
     "output_type": "execute_result"
    },
    {
     "data": {
      "image/png": "[encoded data removed]",
      "text/plain": [
       "<Figure size 432x288 with 1 Axes>"
      ]
     },
     "metadata": {
      "needs_background": "light"
     },
     "output_type": "display_data"
    }
   ],
   "source": [
    "# Use the 'plot' function to create a chart of the simulated profits/losses\n",
    "cumulative_pnl.plot(title=\"Simulated Outcomes Behavior of ETF Stock Over the Next Year\")"
   ]
  },
  {
   "cell_type": "code",
   "execution_count": 98,
   "id": "0fc002e4-1a34-4215-8929-88da5ddd5bfb",
   "metadata": {},
   "outputs": [
    {
     "name": "stdout",
     "output_type": "stream",
     "text": [
      "count           100.000000\n",
      "mean              1.364790\n",
      "std               0.250019\n",
      "min               0.804490\n",
      "25%               1.197641\n",
      "50%               1.336918\n",
      "75%               1.473064\n",
      "max               2.080963\n",
      "95% CI Lower      0.968468\n",
      "95% CI Upper      1.986824\n",
      "Name: 2520, dtype: float64\n"
     ]
    }
   ],
   "source": [
    "# Fetch summary statistics from the Monte Carlo simulation results\n",
    "tbl = MC_ETF.summarize_cumulative_return()\n",
    "\n",
    "# Print summary statistics\n",
    "print(tbl)"
   ]
  },
  {
   "cell_type": "code",
   "execution_count": 100,
   "id": "80fb971f-070f-4abd-8a9c-40f0932f79d8",
   "metadata": {},
   "outputs": [
    {
     "name": "stdout",
     "output_type": "stream",
     "text": [
      "There is a 95% chance that an initial investment of $1,000.00 in the portfolio over the next year will end within in the range of $968.47 and $1,986.82.\n"
     ]
    }
   ],
   "source": [
    "# Use the lower and upper `95%` confidence intervals to calculate the range of the possible outcomes of our $10,000 investments in ETF portfolio\n",
    "# Bridge back to Widget for initial investment\n",
    "ci_lower = tbl[8]* investment\n",
    "ci_upper = tbl[9]* investment\n",
    "\n",
    "# Print results\n",
    "print(f\"There is a 95% chance that an initial investment of ${initial_investment:,.2f} in the portfolio\"\n",
    "      f\" over the next year will end within in the range of\"\n",
    "      f\" ${ci_lower:,.2f} and ${ci_upper:,.2f}.\")"
   ]
  },
  {
   "cell_type": "code",
   "execution_count": null,
   "id": "af06d593-d2ef-444d-8f80-253fd2d572a3",
   "metadata": {},
   "outputs": [],
   "source": []
  }
 ],
 "metadata": {
  "kernelspec": {
   "display_name": "dev",
   "language": "python",
   "name": "dev"
  },
  "language_info": {
   "codemirror_mode": {
    "name": "ipython",
    "version": 3
   },
   "file_extension": ".py",
   "mimetype": "text/x-python",
   "name": "python",
   "nbconvert_exporter": "python",
   "pygments_lexer": "ipython3",
   "version": "3.8.8"
  }
 },
 "nbformat": 4,
 "nbformat_minor": 5
}
