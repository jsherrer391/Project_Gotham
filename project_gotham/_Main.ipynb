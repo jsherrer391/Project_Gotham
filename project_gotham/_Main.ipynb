{
 "cells": [
  {
   "cell_type": "code",
   "execution_count": 49,
   "id": "0f259d90-e757-4c0b-b012-ad1f893aa211",
   "metadata": {},
   "outputs": [
    {
     "ename": "ModuleNotFoundError",
     "evalue": "No module named 'hvplot'",
     "output_type": "error",
     "traceback": [
      "\u001b[1;31m---------------------------------------------------------------------------\u001b[0m",
      "\u001b[1;31mModuleNotFoundError\u001b[0m                       Traceback (most recent call last)",
      "\u001b[1;32m<ipython-input-49-0740e352b148>\u001b[0m in \u001b[0;36m<module>\u001b[1;34m\u001b[0m\n\u001b[0;32m      4\u001b[0m \u001b[1;32mimport\u001b[0m \u001b[0mjson\u001b[0m\u001b[1;33m\u001b[0m\u001b[1;33m\u001b[0m\u001b[0m\n\u001b[0;32m      5\u001b[0m \u001b[1;32mimport\u001b[0m \u001b[0mpandas\u001b[0m \u001b[1;32mas\u001b[0m \u001b[0mpd\u001b[0m\u001b[1;33m\u001b[0m\u001b[1;33m\u001b[0m\u001b[0m\n\u001b[1;32m----> 6\u001b[1;33m \u001b[1;32mimport\u001b[0m \u001b[0mhvplot\u001b[0m\u001b[1;33m.\u001b[0m\u001b[0mpandas\u001b[0m\u001b[1;33m\u001b[0m\u001b[1;33m\u001b[0m\u001b[0m\n\u001b[0m\u001b[0;32m      7\u001b[0m \u001b[1;32mfrom\u001b[0m \u001b[0mdotenv\u001b[0m \u001b[1;32mimport\u001b[0m \u001b[0mload_dotenv\u001b[0m\u001b[1;33m\u001b[0m\u001b[1;33m\u001b[0m\u001b[0m\n\u001b[0;32m      8\u001b[0m \u001b[1;32mimport\u001b[0m \u001b[0malpaca_trade_api\u001b[0m \u001b[1;32mas\u001b[0m \u001b[0mtradeapi\u001b[0m\u001b[1;33m\u001b[0m\u001b[1;33m\u001b[0m\u001b[0m\n",
      "\u001b[1;31mModuleNotFoundError\u001b[0m: No module named 'hvplot'"
     ]
    }
   ],
   "source": [
    "# Import required libraries\n",
    "import os\n",
    "import requests\n",
    "import json\n",
    "import pandas as pd\n",
    "import hvplot.pandas\n",
    "from dotenv import load_dotenv\n",
    "import alpaca_trade_api as tradeapi\n",
    "import datetime\n",
    "import numpy as np\n",
    "import numpy.random as rnd\n",
    "import requests\n",
    "from MCForecastTools import MCSimulation\n",
    "import ipywidgets as widgets\n",
    "from ipywidgets import widgets\n",
    "from ipywidgets import interact, interactive, fixed, interact_manual\n",
    "import pandas_datareader.data as web\n",
    "%matplotlib inline"
   ]
  },
  {
   "cell_type": "code",
   "execution_count": 5,
   "id": "09ac9058-9ace-43aa-b94c-fd24d481af28",
   "metadata": {},
   "outputs": [
    {
     "data": {
      "text/plain": [
       "True"
      ]
     },
     "execution_count": 5,
     "metadata": {},
     "output_type": "execute_result"
    }
   ],
   "source": [
    "# Load the environment variables from the .env file\n",
    "# Call the load_dotenv function\n",
    "load_dotenv()"
   ]
  },
  {
   "cell_type": "code",
   "execution_count": 6,
   "id": "090fea85-d223-4f6f-b138-eb4c95943458",
   "metadata": {},
   "outputs": [],
   "source": [
    "# Set the variables for the Alpaca API and secret keys\n",
    "alpaca_api_key = os.getenv(\"ALPACA_API_KEY\")\n",
    "alpaca_secret_key = os.getenv(\"ALPACA_SECRET_KEY\")\n",
    "# Create the Alpaca tradeapi.REST object\n",
    "alpaca = tradeapi.REST(\n",
    "            alpaca_api_key,\n",
    "            alpaca_secret_key,\n",
    "            api_version = \"v2\")"
   ]
  },
  {
   "cell_type": "code",
   "execution_count": 7,
   "id": "e9fd7b2e-f574-46c0-8f22-d282303b138e",
   "metadata": {},
   "outputs": [
    {
     "data": {
      "application/vnd.jupyter.widget-view+json": {
       "model_id": "0f9ac72607234f27b37750dd8fd91057",
       "version_major": 2,
       "version_minor": 0
      },
      "text/plain": [
       "SelectMultiple(description='Select ETFs for analysis', index=(0,), options=('AGG', 'SPY', 'XLF', 'QQQ', 'EEM',…"
      ]
     },
     "metadata": {},
     "output_type": "display_data"
    }
   ],
   "source": [
    "# Can allow user defined with IPY Widgets \n",
    "# widgets.Dropdown(options=[\"AGG\", \"SPY\", \"XLF\", \"QQQ\", \"EEM\", \"XLE\", \"GDX\", \"IWM\", \"IWV\"], description=\"Select ETF\")\n",
    "\n",
    "ui= widgets.SelectMultiple(\n",
    "            options=[\"AGG\", \"SPY\", \"XLF\", \"QQQ\", \"EEM\", \"XLE\", \"GDX\", \"IWM\", \"IWV\"],\n",
    "            value=['AGG'],\n",
    "            description='Select ETFs for analysis',\n",
    "            readout= True,\n",
    "            disabled=False\n",
    ")\n",
    "display(ui)"
   ]
  },
  {
   "cell_type": "code",
   "execution_count": 8,
   "id": "8e31a9a9-da2c-4b57-9f14-fbd487204f9f",
   "metadata": {},
   "outputs": [
    {
     "name": "stdout",
     "output_type": "stream",
     "text": [
      "['AGG']\n"
     ]
    }
   ],
   "source": [
    "ui= list(ui.value)\n",
    "print(ui)"
   ]
  },
  {
   "cell_type": "code",
   "execution_count": 9,
   "id": "946b74a0-4b67-41c7-8096-5179f2412a57",
   "metadata": {},
   "outputs": [],
   "source": [
    "timeframe = \"1D\"\n",
    "\n",
    "today = str(datetime.datetime.today()).split()[0]\n",
    "\n",
    "three_years_ago= str(datetime.datetime.today()- datetime.timedelta(days=1095)).split()[0]\n",
    "\n",
    "start_date= pd.Timestamp(three_years_ago, tz=\"America/New_York\").isoformat()\n",
    "\n",
    "end_date= pd.Timestamp(today, tz=\"America/New_York\").isoformat()\n",
    "                       \n",
    "limit_rows=1000\n",
    "# Can allow user defined with IPY Widgets above \n",
    "tickers = ui"
   ]
  },
  {
   "cell_type": "code",
   "execution_count": 10,
   "id": "2c1b99de-1f9b-4ab5-a8a6-d567e1ba5aaf",
   "metadata": {},
   "outputs": [
    {
     "name": "stdout",
     "output_type": "stream",
     "text": [
      "Preparing 3 years of historical data... Please wait\n"
     ]
    },
    {
     "data": {
      "text/html": [
       "<div>\n",
       "<style scoped>\n",
       "    .dataframe tbody tr th:only-of-type {\n",
       "        vertical-align: middle;\n",
       "    }\n",
       "\n",
       "    .dataframe tbody tr th {\n",
       "        vertical-align: top;\n",
       "    }\n",
       "\n",
       "    .dataframe thead tr th {\n",
       "        text-align: left;\n",
       "    }\n",
       "\n",
       "    .dataframe thead tr:last-of-type th {\n",
       "        text-align: right;\n",
       "    }\n",
       "</style>\n",
       "<table border=\"1\" class=\"dataframe\">\n",
       "  <thead>\n",
       "    <tr>\n",
       "      <th></th>\n",
       "      <th colspan=\"5\" halign=\"left\">AGG</th>\n",
       "    </tr>\n",
       "    <tr>\n",
       "      <th></th>\n",
       "      <th>open</th>\n",
       "      <th>high</th>\n",
       "      <th>low</th>\n",
       "      <th>close</th>\n",
       "      <th>volume</th>\n",
       "    </tr>\n",
       "    <tr>\n",
       "      <th>time</th>\n",
       "      <th></th>\n",
       "      <th></th>\n",
       "      <th></th>\n",
       "      <th></th>\n",
       "      <th></th>\n",
       "    </tr>\n",
       "  </thead>\n",
       "  <tbody>\n",
       "    <tr>\n",
       "      <th>2018-08-23 00:00:00-04:00</th>\n",
       "      <td>106.67</td>\n",
       "      <td>106.705</td>\n",
       "      <td>106.62</td>\n",
       "      <td>106.62</td>\n",
       "      <td>1346950</td>\n",
       "    </tr>\n",
       "    <tr>\n",
       "      <th>2018-08-24 00:00:00-04:00</th>\n",
       "      <td>106.50</td>\n",
       "      <td>106.730</td>\n",
       "      <td>106.49</td>\n",
       "      <td>106.72</td>\n",
       "      <td>3039932</td>\n",
       "    </tr>\n",
       "    <tr>\n",
       "      <th>2018-08-27 00:00:00-04:00</th>\n",
       "      <td>106.59</td>\n",
       "      <td>106.660</td>\n",
       "      <td>106.56</td>\n",
       "      <td>106.59</td>\n",
       "      <td>2439457</td>\n",
       "    </tr>\n",
       "    <tr>\n",
       "      <th>2018-08-28 00:00:00-04:00</th>\n",
       "      <td>106.45</td>\n",
       "      <td>106.490</td>\n",
       "      <td>106.36</td>\n",
       "      <td>106.38</td>\n",
       "      <td>1880134</td>\n",
       "    </tr>\n",
       "    <tr>\n",
       "      <th>2018-08-29 00:00:00-04:00</th>\n",
       "      <td>106.38</td>\n",
       "      <td>106.410</td>\n",
       "      <td>106.29</td>\n",
       "      <td>106.36</td>\n",
       "      <td>1881163</td>\n",
       "    </tr>\n",
       "  </tbody>\n",
       "</table>\n",
       "</div>"
      ],
      "text/plain": [
       "                              AGG                                  \n",
       "                             open     high     low   close   volume\n",
       "time                                                               \n",
       "2018-08-23 00:00:00-04:00  106.67  106.705  106.62  106.62  1346950\n",
       "2018-08-24 00:00:00-04:00  106.50  106.730  106.49  106.72  3039932\n",
       "2018-08-27 00:00:00-04:00  106.59  106.660  106.56  106.59  2439457\n",
       "2018-08-28 00:00:00-04:00  106.45  106.490  106.36  106.38  1880134\n",
       "2018-08-29 00:00:00-04:00  106.38  106.410  106.29  106.36  1881163"
      ]
     },
     "metadata": {},
     "output_type": "display_data"
    },
    {
     "data": {
      "text/html": [
       "<div>\n",
       "<style scoped>\n",
       "    .dataframe tbody tr th:only-of-type {\n",
       "        vertical-align: middle;\n",
       "    }\n",
       "\n",
       "    .dataframe tbody tr th {\n",
       "        vertical-align: top;\n",
       "    }\n",
       "\n",
       "    .dataframe thead tr th {\n",
       "        text-align: left;\n",
       "    }\n",
       "\n",
       "    .dataframe thead tr:last-of-type th {\n",
       "        text-align: right;\n",
       "    }\n",
       "</style>\n",
       "<table border=\"1\" class=\"dataframe\">\n",
       "  <thead>\n",
       "    <tr>\n",
       "      <th></th>\n",
       "      <th colspan=\"5\" halign=\"left\">AGG</th>\n",
       "    </tr>\n",
       "    <tr>\n",
       "      <th></th>\n",
       "      <th>open</th>\n",
       "      <th>high</th>\n",
       "      <th>low</th>\n",
       "      <th>close</th>\n",
       "      <th>volume</th>\n",
       "    </tr>\n",
       "    <tr>\n",
       "      <th>time</th>\n",
       "      <th></th>\n",
       "      <th></th>\n",
       "      <th></th>\n",
       "      <th></th>\n",
       "      <th></th>\n",
       "    </tr>\n",
       "  </thead>\n",
       "  <tbody>\n",
       "    <tr>\n",
       "      <th>2021-08-16 00:00:00-04:00</th>\n",
       "      <td>116.14</td>\n",
       "      <td>116.270</td>\n",
       "      <td>116.03</td>\n",
       "      <td>116.03</td>\n",
       "      <td>3406963</td>\n",
       "    </tr>\n",
       "    <tr>\n",
       "      <th>2021-08-17 00:00:00-04:00</th>\n",
       "      <td>115.98</td>\n",
       "      <td>116.090</td>\n",
       "      <td>115.93</td>\n",
       "      <td>115.95</td>\n",
       "      <td>4493522</td>\n",
       "    </tr>\n",
       "    <tr>\n",
       "      <th>2021-08-18 00:00:00-04:00</th>\n",
       "      <td>115.94</td>\n",
       "      <td>116.030</td>\n",
       "      <td>115.80</td>\n",
       "      <td>115.96</td>\n",
       "      <td>3840678</td>\n",
       "    </tr>\n",
       "    <tr>\n",
       "      <th>2021-08-19 00:00:00-04:00</th>\n",
       "      <td>116.12</td>\n",
       "      <td>116.155</td>\n",
       "      <td>116.02</td>\n",
       "      <td>116.14</td>\n",
       "      <td>4314380</td>\n",
       "    </tr>\n",
       "    <tr>\n",
       "      <th>2021-08-20 00:00:00-04:00</th>\n",
       "      <td>116.18</td>\n",
       "      <td>116.210</td>\n",
       "      <td>116.08</td>\n",
       "      <td>116.15</td>\n",
       "      <td>2672679</td>\n",
       "    </tr>\n",
       "  </tbody>\n",
       "</table>\n",
       "</div>"
      ],
      "text/plain": [
       "                              AGG                                  \n",
       "                             open     high     low   close   volume\n",
       "time                                                               \n",
       "2021-08-16 00:00:00-04:00  116.14  116.270  116.03  116.03  3406963\n",
       "2021-08-17 00:00:00-04:00  115.98  116.090  115.93  115.95  4493522\n",
       "2021-08-18 00:00:00-04:00  115.94  116.030  115.80  115.96  3840678\n",
       "2021-08-19 00:00:00-04:00  116.12  116.155  116.02  116.14  4314380\n",
       "2021-08-20 00:00:00-04:00  116.18  116.210  116.08  116.15  2672679"
      ]
     },
     "metadata": {},
     "output_type": "display_data"
    }
   ],
   "source": [
    "print(\"Preparing 3 years of historical data... Please wait\")\n",
    "alpaca_df= alpaca.get_barset(\n",
    "               tickers,\n",
    "               timeframe,\n",
    "               limit= limit_rows,\n",
    "               start = start_date,\n",
    "               end = end_date\n",
    ").df\n",
    "display(alpaca_df.head())\n",
    "display(alpaca_df.tail())"
   ]
  },
  {
   "cell_type": "code",
   "execution_count": 11,
   "id": "2167579b-2cbc-43e4-b0e6-4d844d17b361",
   "metadata": {},
   "outputs": [],
   "source": [
    "# Set number of simulations\n",
    "# Use IPY Widgets to set sims and years\n"
   ]
  },
  {
   "cell_type": "code",
   "execution_count": 12,
   "id": "36b034a6-b0b4-4c88-b37e-64c1e48c2486",
   "metadata": {},
   "outputs": [
    {
     "data": {
      "application/vnd.jupyter.widget-view+json": {
       "model_id": "5ad22d30d0a0490eaef9e1e1e94cb409",
       "version_major": 2,
       "version_minor": 0
      },
      "text/plain": [
       "Select(description='num of simulations', index=1, options=('50', '100', '250', '500'), value='100')"
      ]
     },
     "metadata": {},
     "output_type": "display_data"
    }
   ],
   "source": [
    "simulations= widgets.Select(\n",
    "    options=['50','100', '250', '500'],\n",
    "    value='100',\n",
    "    description='num of simulations',\n",
    "    disabled=False\n",
    ")\n",
    "display(simulations)"
   ]
  },
  {
   "cell_type": "code",
   "execution_count": 13,
   "id": "d75c4fbf-921c-49f8-adcc-a65709627550",
   "metadata": {},
   "outputs": [
    {
     "name": "stdout",
     "output_type": "stream",
     "text": [
      "100\n"
     ]
    }
   ],
   "source": [
    "simulations=int(simulations.value)\n",
    "print(simulations)"
   ]
  },
  {
   "cell_type": "code",
   "execution_count": 14,
   "id": "d3dbc2c2-f4f6-4830-98af-cc3c85432ebc",
   "metadata": {},
   "outputs": [
    {
     "data": {
      "application/vnd.jupyter.widget-view+json": {
       "model_id": "c1eea22985384b20a958ccc9dcb5243e",
       "version_major": 2,
       "version_minor": 0
      },
      "text/plain": [
       "IntSlider(value=10, continuous_update=False, description='Years:', max=30, min=1)"
      ]
     },
     "metadata": {},
     "output_type": "display_data"
    }
   ],
   "source": [
    "years=widgets.IntSlider(\n",
    "    value=10,\n",
    "    min=1,\n",
    "    max=30,\n",
    "    step=1,\n",
    "    description='Years:',\n",
    "    disabled=False,\n",
    "    continuous_update=False,\n",
    "    orientation='horizontal',\n",
    "    readout=True,\n",
    "    readout_format='d'\n",
    ")\n",
    "\n",
    "display(years)"
   ]
  },
  {
   "cell_type": "code",
   "execution_count": 15,
   "id": "e14e137e-45b1-47bf-be0f-dff701039904",
   "metadata": {},
   "outputs": [
    {
     "name": "stdout",
     "output_type": "stream",
     "text": [
      "10\n"
     ]
    }
   ],
   "source": [
    "years= int(years.value)\n",
    "print(years)"
   ]
  },
  {
   "cell_type": "code",
   "execution_count": 16,
   "id": "ad8b82a5-9b03-4974-bda3-147cedcdc8c3",
   "metadata": {},
   "outputs": [],
   "source": [
    "# set number of years and simulations from user inputs\n",
    "MC_ETF = MCSimulation(\n",
    "    portfolio_data = alpaca_df,\n",
    "    num_simulation = simulations,\n",
    "    num_trading_days = 252 * years\n",
    ")"
   ]
  },
  {
   "cell_type": "code",
   "execution_count": 17,
   "id": "9e4b6b94-9b73-4ad5-bb59-cb676f56c983",
   "metadata": {},
   "outputs": [
    {
     "name": "stdout",
     "output_type": "stream",
     "text": [
      "Running Monte Carlo simulation number 0.\n",
      "Running Monte Carlo simulation number 10.\n",
      "Running Monte Carlo simulation number 20.\n",
      "Running Monte Carlo simulation number 30.\n",
      "Running Monte Carlo simulation number 40.\n",
      "Running Monte Carlo simulation number 50.\n",
      "Running Monte Carlo simulation number 60.\n",
      "Running Monte Carlo simulation number 70.\n",
      "Running Monte Carlo simulation number 80.\n",
      "Running Monte Carlo simulation number 90.\n"
     ]
    },
    {
     "data": {
      "text/html": [
       "<div>\n",
       "<style scoped>\n",
       "    .dataframe tbody tr th:only-of-type {\n",
       "        vertical-align: middle;\n",
       "    }\n",
       "\n",
       "    .dataframe tbody tr th {\n",
       "        vertical-align: top;\n",
       "    }\n",
       "\n",
       "    .dataframe thead th {\n",
       "        text-align: right;\n",
       "    }\n",
       "</style>\n",
       "<table border=\"1\" class=\"dataframe\">\n",
       "  <thead>\n",
       "    <tr style=\"text-align: right;\">\n",
       "      <th></th>\n",
       "      <th>0</th>\n",
       "      <th>1</th>\n",
       "      <th>2</th>\n",
       "      <th>3</th>\n",
       "      <th>4</th>\n",
       "      <th>5</th>\n",
       "      <th>6</th>\n",
       "      <th>7</th>\n",
       "      <th>8</th>\n",
       "      <th>9</th>\n",
       "      <th>...</th>\n",
       "      <th>90</th>\n",
       "      <th>91</th>\n",
       "      <th>92</th>\n",
       "      <th>93</th>\n",
       "      <th>94</th>\n",
       "      <th>95</th>\n",
       "      <th>96</th>\n",
       "      <th>97</th>\n",
       "      <th>98</th>\n",
       "      <th>99</th>\n",
       "    </tr>\n",
       "  </thead>\n",
       "  <tbody>\n",
       "    <tr>\n",
       "      <th>0</th>\n",
       "      <td>1.000000</td>\n",
       "      <td>1.000000</td>\n",
       "      <td>1.000000</td>\n",
       "      <td>1.000000</td>\n",
       "      <td>1.000000</td>\n",
       "      <td>1.000000</td>\n",
       "      <td>1.000000</td>\n",
       "      <td>1.000000</td>\n",
       "      <td>1.000000</td>\n",
       "      <td>1.000000</td>\n",
       "      <td>...</td>\n",
       "      <td>1.000000</td>\n",
       "      <td>1.000000</td>\n",
       "      <td>1.000000</td>\n",
       "      <td>1.000000</td>\n",
       "      <td>1.000000</td>\n",
       "      <td>1.000000</td>\n",
       "      <td>1.000000</td>\n",
       "      <td>1.000000</td>\n",
       "      <td>1.000000</td>\n",
       "      <td>1.000000</td>\n",
       "    </tr>\n",
       "    <tr>\n",
       "      <th>1</th>\n",
       "      <td>1.002909</td>\n",
       "      <td>1.001080</td>\n",
       "      <td>0.997891</td>\n",
       "      <td>0.993028</td>\n",
       "      <td>0.998646</td>\n",
       "      <td>1.002891</td>\n",
       "      <td>1.000743</td>\n",
       "      <td>1.001253</td>\n",
       "      <td>0.999518</td>\n",
       "      <td>0.999450</td>\n",
       "      <td>...</td>\n",
       "      <td>0.997219</td>\n",
       "      <td>1.002323</td>\n",
       "      <td>1.003028</td>\n",
       "      <td>1.001582</td>\n",
       "      <td>1.003765</td>\n",
       "      <td>1.001150</td>\n",
       "      <td>1.001639</td>\n",
       "      <td>1.004349</td>\n",
       "      <td>1.003930</td>\n",
       "      <td>0.996749</td>\n",
       "    </tr>\n",
       "    <tr>\n",
       "      <th>2</th>\n",
       "      <td>1.005172</td>\n",
       "      <td>0.999486</td>\n",
       "      <td>0.996791</td>\n",
       "      <td>0.992163</td>\n",
       "      <td>0.998403</td>\n",
       "      <td>0.997480</td>\n",
       "      <td>1.001663</td>\n",
       "      <td>1.007309</td>\n",
       "      <td>0.998384</td>\n",
       "      <td>0.992092</td>\n",
       "      <td>...</td>\n",
       "      <td>1.005279</td>\n",
       "      <td>1.007541</td>\n",
       "      <td>1.003295</td>\n",
       "      <td>1.004362</td>\n",
       "      <td>1.003014</td>\n",
       "      <td>0.999656</td>\n",
       "      <td>1.004689</td>\n",
       "      <td>1.004495</td>\n",
       "      <td>1.003585</td>\n",
       "      <td>0.999606</td>\n",
       "    </tr>\n",
       "    <tr>\n",
       "      <th>3</th>\n",
       "      <td>1.004594</td>\n",
       "      <td>1.003410</td>\n",
       "      <td>0.991757</td>\n",
       "      <td>0.994793</td>\n",
       "      <td>1.000406</td>\n",
       "      <td>1.003142</td>\n",
       "      <td>0.995913</td>\n",
       "      <td>1.005696</td>\n",
       "      <td>0.994314</td>\n",
       "      <td>0.992159</td>\n",
       "      <td>...</td>\n",
       "      <td>1.007066</td>\n",
       "      <td>1.011663</td>\n",
       "      <td>1.004044</td>\n",
       "      <td>1.000484</td>\n",
       "      <td>0.999361</td>\n",
       "      <td>0.997895</td>\n",
       "      <td>1.012876</td>\n",
       "      <td>1.006060</td>\n",
       "      <td>1.009537</td>\n",
       "      <td>1.005063</td>\n",
       "    </tr>\n",
       "    <tr>\n",
       "      <th>4</th>\n",
       "      <td>1.002272</td>\n",
       "      <td>1.001291</td>\n",
       "      <td>0.981297</td>\n",
       "      <td>0.991164</td>\n",
       "      <td>0.998912</td>\n",
       "      <td>1.002133</td>\n",
       "      <td>0.999123</td>\n",
       "      <td>1.006239</td>\n",
       "      <td>1.003361</td>\n",
       "      <td>0.987863</td>\n",
       "      <td>...</td>\n",
       "      <td>1.007369</td>\n",
       "      <td>1.019603</td>\n",
       "      <td>1.007254</td>\n",
       "      <td>1.000378</td>\n",
       "      <td>0.996842</td>\n",
       "      <td>0.991235</td>\n",
       "      <td>1.008099</td>\n",
       "      <td>1.008455</td>\n",
       "      <td>1.008391</td>\n",
       "      <td>1.000533</td>\n",
       "    </tr>\n",
       "    <tr>\n",
       "      <th>...</th>\n",
       "      <td>...</td>\n",
       "      <td>...</td>\n",
       "      <td>...</td>\n",
       "      <td>...</td>\n",
       "      <td>...</td>\n",
       "      <td>...</td>\n",
       "      <td>...</td>\n",
       "      <td>...</td>\n",
       "      <td>...</td>\n",
       "      <td>...</td>\n",
       "      <td>...</td>\n",
       "      <td>...</td>\n",
       "      <td>...</td>\n",
       "      <td>...</td>\n",
       "      <td>...</td>\n",
       "      <td>...</td>\n",
       "      <td>...</td>\n",
       "      <td>...</td>\n",
       "      <td>...</td>\n",
       "      <td>...</td>\n",
       "      <td>...</td>\n",
       "    </tr>\n",
       "    <tr>\n",
       "      <th>2516</th>\n",
       "      <td>1.635869</td>\n",
       "      <td>1.029713</td>\n",
       "      <td>1.317382</td>\n",
       "      <td>1.298081</td>\n",
       "      <td>1.178006</td>\n",
       "      <td>1.614299</td>\n",
       "      <td>1.145368</td>\n",
       "      <td>1.248054</td>\n",
       "      <td>1.237190</td>\n",
       "      <td>1.494555</td>\n",
       "      <td>...</td>\n",
       "      <td>1.456591</td>\n",
       "      <td>1.391155</td>\n",
       "      <td>1.348302</td>\n",
       "      <td>1.415231</td>\n",
       "      <td>1.265338</td>\n",
       "      <td>1.172395</td>\n",
       "      <td>1.680728</td>\n",
       "      <td>1.405670</td>\n",
       "      <td>0.990046</td>\n",
       "      <td>1.752124</td>\n",
       "    </tr>\n",
       "    <tr>\n",
       "      <th>2517</th>\n",
       "      <td>1.634875</td>\n",
       "      <td>1.034797</td>\n",
       "      <td>1.319872</td>\n",
       "      <td>1.300646</td>\n",
       "      <td>1.181040</td>\n",
       "      <td>1.616216</td>\n",
       "      <td>1.142769</td>\n",
       "      <td>1.252023</td>\n",
       "      <td>1.243088</td>\n",
       "      <td>1.495134</td>\n",
       "      <td>...</td>\n",
       "      <td>1.452615</td>\n",
       "      <td>1.392896</td>\n",
       "      <td>1.356524</td>\n",
       "      <td>1.412383</td>\n",
       "      <td>1.268420</td>\n",
       "      <td>1.175670</td>\n",
       "      <td>1.679100</td>\n",
       "      <td>1.405839</td>\n",
       "      <td>0.987919</td>\n",
       "      <td>1.760303</td>\n",
       "    </tr>\n",
       "    <tr>\n",
       "      <th>2518</th>\n",
       "      <td>1.635899</td>\n",
       "      <td>1.034787</td>\n",
       "      <td>1.323643</td>\n",
       "      <td>1.303718</td>\n",
       "      <td>1.182160</td>\n",
       "      <td>1.623381</td>\n",
       "      <td>1.145171</td>\n",
       "      <td>1.259820</td>\n",
       "      <td>1.241880</td>\n",
       "      <td>1.486093</td>\n",
       "      <td>...</td>\n",
       "      <td>1.450705</td>\n",
       "      <td>1.389677</td>\n",
       "      <td>1.350216</td>\n",
       "      <td>1.410587</td>\n",
       "      <td>1.260593</td>\n",
       "      <td>1.184352</td>\n",
       "      <td>1.686584</td>\n",
       "      <td>1.398907</td>\n",
       "      <td>0.986568</td>\n",
       "      <td>1.757798</td>\n",
       "    </tr>\n",
       "    <tr>\n",
       "      <th>2519</th>\n",
       "      <td>1.628149</td>\n",
       "      <td>1.034264</td>\n",
       "      <td>1.323291</td>\n",
       "      <td>1.300749</td>\n",
       "      <td>1.187985</td>\n",
       "      <td>1.623235</td>\n",
       "      <td>1.146743</td>\n",
       "      <td>1.258301</td>\n",
       "      <td>1.240019</td>\n",
       "      <td>1.483636</td>\n",
       "      <td>...</td>\n",
       "      <td>1.453998</td>\n",
       "      <td>1.388067</td>\n",
       "      <td>1.350797</td>\n",
       "      <td>1.411523</td>\n",
       "      <td>1.260146</td>\n",
       "      <td>1.185699</td>\n",
       "      <td>1.686820</td>\n",
       "      <td>1.408791</td>\n",
       "      <td>0.994900</td>\n",
       "      <td>1.749259</td>\n",
       "    </tr>\n",
       "    <tr>\n",
       "      <th>2520</th>\n",
       "      <td>1.628520</td>\n",
       "      <td>1.037708</td>\n",
       "      <td>1.328722</td>\n",
       "      <td>1.305114</td>\n",
       "      <td>1.188962</td>\n",
       "      <td>1.623991</td>\n",
       "      <td>1.148476</td>\n",
       "      <td>1.257854</td>\n",
       "      <td>1.241007</td>\n",
       "      <td>1.479223</td>\n",
       "      <td>...</td>\n",
       "      <td>1.454321</td>\n",
       "      <td>1.393221</td>\n",
       "      <td>1.354170</td>\n",
       "      <td>1.407201</td>\n",
       "      <td>1.264219</td>\n",
       "      <td>1.189707</td>\n",
       "      <td>1.690519</td>\n",
       "      <td>1.411690</td>\n",
       "      <td>0.997343</td>\n",
       "      <td>1.751474</td>\n",
       "    </tr>\n",
       "  </tbody>\n",
       "</table>\n",
       "<p>2521 rows × 100 columns</p>\n",
       "</div>"
      ],
      "text/plain": [
       "            0         1         2         3         4         5         6   \\\n",
       "0     1.000000  1.000000  1.000000  1.000000  1.000000  1.000000  1.000000   \n",
       "1     1.002909  1.001080  0.997891  0.993028  0.998646  1.002891  1.000743   \n",
       "2     1.005172  0.999486  0.996791  0.992163  0.998403  0.997480  1.001663   \n",
       "3     1.004594  1.003410  0.991757  0.994793  1.000406  1.003142  0.995913   \n",
       "4     1.002272  1.001291  0.981297  0.991164  0.998912  1.002133  0.999123   \n",
       "...        ...       ...       ...       ...       ...       ...       ...   \n",
       "2516  1.635869  1.029713  1.317382  1.298081  1.178006  1.614299  1.145368   \n",
       "2517  1.634875  1.034797  1.319872  1.300646  1.181040  1.616216  1.142769   \n",
       "2518  1.635899  1.034787  1.323643  1.303718  1.182160  1.623381  1.145171   \n",
       "2519  1.628149  1.034264  1.323291  1.300749  1.187985  1.623235  1.146743   \n",
       "2520  1.628520  1.037708  1.328722  1.305114  1.188962  1.623991  1.148476   \n",
       "\n",
       "            7         8         9   ...        90        91        92  \\\n",
       "0     1.000000  1.000000  1.000000  ...  1.000000  1.000000  1.000000   \n",
       "1     1.001253  0.999518  0.999450  ...  0.997219  1.002323  1.003028   \n",
       "2     1.007309  0.998384  0.992092  ...  1.005279  1.007541  1.003295   \n",
       "3     1.005696  0.994314  0.992159  ...  1.007066  1.011663  1.004044   \n",
       "4     1.006239  1.003361  0.987863  ...  1.007369  1.019603  1.007254   \n",
       "...        ...       ...       ...  ...       ...       ...       ...   \n",
       "2516  1.248054  1.237190  1.494555  ...  1.456591  1.391155  1.348302   \n",
       "2517  1.252023  1.243088  1.495134  ...  1.452615  1.392896  1.356524   \n",
       "2518  1.259820  1.241880  1.486093  ...  1.450705  1.389677  1.350216   \n",
       "2519  1.258301  1.240019  1.483636  ...  1.453998  1.388067  1.350797   \n",
       "2520  1.257854  1.241007  1.479223  ...  1.454321  1.393221  1.354170   \n",
       "\n",
       "            93        94        95        96        97        98        99  \n",
       "0     1.000000  1.000000  1.000000  1.000000  1.000000  1.000000  1.000000  \n",
       "1     1.001582  1.003765  1.001150  1.001639  1.004349  1.003930  0.996749  \n",
       "2     1.004362  1.003014  0.999656  1.004689  1.004495  1.003585  0.999606  \n",
       "3     1.000484  0.999361  0.997895  1.012876  1.006060  1.009537  1.005063  \n",
       "4     1.000378  0.996842  0.991235  1.008099  1.008455  1.008391  1.000533  \n",
       "...        ...       ...       ...       ...       ...       ...       ...  \n",
       "2516  1.415231  1.265338  1.172395  1.680728  1.405670  0.990046  1.752124  \n",
       "2517  1.412383  1.268420  1.175670  1.679100  1.405839  0.987919  1.760303  \n",
       "2518  1.410587  1.260593  1.184352  1.686584  1.398907  0.986568  1.757798  \n",
       "2519  1.411523  1.260146  1.185699  1.686820  1.408791  0.994900  1.749259  \n",
       "2520  1.407201  1.264219  1.189707  1.690519  1.411690  0.997343  1.751474  \n",
       "\n",
       "[2521 rows x 100 columns]"
      ]
     },
     "execution_count": 17,
     "metadata": {},
     "output_type": "execute_result"
    }
   ],
   "source": [
    "# Run Monte Carlo simulations to forecast one year daily returns\n",
    "MC_ETF.calc_cumulative_return()"
   ]
  },
  {
   "cell_type": "code",
   "execution_count": 18,
   "id": "f3fb24eb-7bdb-4782-88d3-d159420d3b92",
   "metadata": {},
   "outputs": [
    {
     "data": {
      "image/png": "[encoded data removed]",
      "text/plain": [
       "<Figure size 432x288 with 1 Axes>"
      ]
     },
     "metadata": {
      "needs_background": "light"
     },
     "output_type": "display_data"
    }
   ],
   "source": [
    "# Plot simulation outcomes\n",
    "line_plot = MC_ETF.plot_simulation()"
   ]
  },
  {
   "cell_type": "code",
   "execution_count": 19,
   "id": "5c004698-2471-40ea-ac25-f2fbecfa0edd",
   "metadata": {},
   "outputs": [
    {
     "data": {
      "text/html": [
       "<div>\n",
       "<style scoped>\n",
       "    .dataframe tbody tr th:only-of-type {\n",
       "        vertical-align: middle;\n",
       "    }\n",
       "\n",
       "    .dataframe tbody tr th {\n",
       "        vertical-align: top;\n",
       "    }\n",
       "\n",
       "    .dataframe thead th {\n",
       "        text-align: right;\n",
       "    }\n",
       "</style>\n",
       "<table border=\"1\" class=\"dataframe\">\n",
       "  <thead>\n",
       "    <tr style=\"text-align: right;\">\n",
       "      <th></th>\n",
       "      <th>mean</th>\n",
       "      <th>median</th>\n",
       "      <th>min</th>\n",
       "      <th>max</th>\n",
       "    </tr>\n",
       "  </thead>\n",
       "  <tbody>\n",
       "    <tr>\n",
       "      <th>0</th>\n",
       "      <td>1.000000</td>\n",
       "      <td>1.000000</td>\n",
       "      <td>1.000000</td>\n",
       "      <td>1.000000</td>\n",
       "    </tr>\n",
       "    <tr>\n",
       "      <th>1</th>\n",
       "      <td>0.999744</td>\n",
       "      <td>0.999885</td>\n",
       "      <td>0.989515</td>\n",
       "      <td>1.013418</td>\n",
       "    </tr>\n",
       "    <tr>\n",
       "      <th>2</th>\n",
       "      <td>0.999942</td>\n",
       "      <td>0.999661</td>\n",
       "      <td>0.986138</td>\n",
       "      <td>1.017346</td>\n",
       "    </tr>\n",
       "    <tr>\n",
       "      <th>3</th>\n",
       "      <td>1.000576</td>\n",
       "      <td>0.999761</td>\n",
       "      <td>0.988718</td>\n",
       "      <td>1.021077</td>\n",
       "    </tr>\n",
       "    <tr>\n",
       "      <th>4</th>\n",
       "      <td>1.000987</td>\n",
       "      <td>1.000709</td>\n",
       "      <td>0.980895</td>\n",
       "      <td>1.025230</td>\n",
       "    </tr>\n",
       "    <tr>\n",
       "      <th>...</th>\n",
       "      <td>...</td>\n",
       "      <td>...</td>\n",
       "      <td>...</td>\n",
       "      <td>...</td>\n",
       "    </tr>\n",
       "    <tr>\n",
       "      <th>2516</th>\n",
       "      <td>1.342645</td>\n",
       "      <td>1.345769</td>\n",
       "      <td>0.865297</td>\n",
       "      <td>1.911590</td>\n",
       "    </tr>\n",
       "    <tr>\n",
       "      <th>2517</th>\n",
       "      <td>1.342751</td>\n",
       "      <td>1.342949</td>\n",
       "      <td>0.862438</td>\n",
       "      <td>1.905669</td>\n",
       "    </tr>\n",
       "    <tr>\n",
       "      <th>2518</th>\n",
       "      <td>1.343485</td>\n",
       "      <td>1.337346</td>\n",
       "      <td>0.858083</td>\n",
       "      <td>1.912651</td>\n",
       "    </tr>\n",
       "    <tr>\n",
       "      <th>2519</th>\n",
       "      <td>1.343895</td>\n",
       "      <td>1.338286</td>\n",
       "      <td>0.856406</td>\n",
       "      <td>1.918337</td>\n",
       "    </tr>\n",
       "    <tr>\n",
       "      <th>2520</th>\n",
       "      <td>1.344474</td>\n",
       "      <td>1.338111</td>\n",
       "      <td>0.856108</td>\n",
       "      <td>1.923332</td>\n",
       "    </tr>\n",
       "  </tbody>\n",
       "</table>\n",
       "<p>2521 rows × 4 columns</p>\n",
       "</div>"
      ],
      "text/plain": [
       "          mean    median       min       max\n",
       "0     1.000000  1.000000  1.000000  1.000000\n",
       "1     0.999744  0.999885  0.989515  1.013418\n",
       "2     0.999942  0.999661  0.986138  1.017346\n",
       "3     1.000576  0.999761  0.988718  1.021077\n",
       "4     1.000987  1.000709  0.980895  1.025230\n",
       "...        ...       ...       ...       ...\n",
       "2516  1.342645  1.345769  0.865297  1.911590\n",
       "2517  1.342751  1.342949  0.862438  1.905669\n",
       "2518  1.343485  1.337346  0.858083  1.912651\n",
       "2519  1.343895  1.338286  0.856406  1.918337\n",
       "2520  1.344474  1.338111  0.856108  1.923332\n",
       "\n",
       "[2521 rows x 4 columns]"
      ]
     },
     "execution_count": 19,
     "metadata": {},
     "output_type": "execute_result"
    }
   ],
   "source": [
    "# Compute summary statistics from the simulated daily returns\n",
    "simulated_returns_data = {\n",
    "    \"mean\": list(MC_ETF.simulated_return.mean(axis=1)),\n",
    "    \"median\": list(MC_ETF.simulated_return.median(axis=1)),\n",
    "    \"min\": list(MC_ETF.simulated_return.min(axis=1)),\n",
    "    \"max\": list(MC_ETF.simulated_return.max(axis=1))\n",
    "}\n",
    "\n",
    "# Create a DataFrame with the summary statistics\n",
    "df_simulated_returns = pd.DataFrame(simulated_returns_data)\n",
    "\n",
    "# Display sample data\n",
    "df_simulated_returns"
   ]
  },
  {
   "cell_type": "code",
   "execution_count": 20,
   "id": "2d27fc6b-254e-4a05-805c-a061aeabcd38",
   "metadata": {},
   "outputs": [
    {
     "data": {
      "text/plain": [
       "<AxesSubplot:title={'center':'Simulated Daily Returns Behavior of ETF Portfolio'}>"
      ]
     },
     "execution_count": 20,
     "metadata": {},
     "output_type": "execute_result"
    },
    {
     "data": {
      "image/png": "[encoded data removed]",
      "text/plain": [
       "<Figure size 432x288 with 1 Axes>"
      ]
     },
     "metadata": {
      "needs_background": "light"
     },
     "output_type": "display_data"
    }
   ],
   "source": [
    "# Use the `plot` function to visually analyze the trajectory of AAPL stock daily returns on a 252 trading day simulation\n",
    "df_simulated_returns.plot(title=\"Simulated Daily Returns Behavior of ETF Portfolio\")"
   ]
  },
  {
   "cell_type": "code",
   "execution_count": 93,
   "id": "ceb59ca2-d81b-41ce-8168-a57808a24d73",
   "metadata": {},
   "outputs": [],
   "source": [
    "# Set initial investment\n",
    "# Use widget to set investment amount\n"
   ]
  },
  {
   "cell_type": "code",
   "execution_count": 21,
   "id": "681e8e91-8c6d-4326-a246-d9909844bbb2",
   "metadata": {},
   "outputs": [
    {
     "data": {
      "application/vnd.jupyter.widget-view+json": {
       "model_id": "45f0836b9dfb4e36a3e5a43ffa164568",
       "version_major": 2,
       "version_minor": 0
      },
      "text/plain": [
       "IntSlider(value=1000, continuous_update=False, description='Investment:', max=1000000, min=1000, step=1000)"
      ]
     },
     "metadata": {},
     "output_type": "display_data"
    }
   ],
   "source": [
    "investment=widgets.IntSlider(\n",
    "    value=10,\n",
    "    min=1000,\n",
    "    max=1000000,\n",
    "    step=1000,\n",
    "    description='Investment:',\n",
    "    disabled=False,\n",
    "    continuous_update=False,\n",
    "    orientation='horizontal',\n",
    "    readout=True,\n",
    "    readout_format='d'\n",
    ")\n",
    "\n",
    "display(investment)"
   ]
  },
  {
   "cell_type": "code",
   "execution_count": 22,
   "id": "031fbba6-8a39-46eb-a02d-53e02376d06c",
   "metadata": {},
   "outputs": [
    {
     "name": "stdout",
     "output_type": "stream",
     "text": [
      "1000\n"
     ]
    }
   ],
   "source": [
    "investment = int(investment.value)\n",
    "print(investment)"
   ]
  },
  {
   "cell_type": "code",
   "execution_count": 23,
   "id": "8c96ff28-87bc-4a03-b773-97d82b1b9665",
   "metadata": {},
   "outputs": [
    {
     "data": {
      "text/html": [
       "<div>\n",
       "<style scoped>\n",
       "    .dataframe tbody tr th:only-of-type {\n",
       "        vertical-align: middle;\n",
       "    }\n",
       "\n",
       "    .dataframe tbody tr th {\n",
       "        vertical-align: top;\n",
       "    }\n",
       "\n",
       "    .dataframe thead th {\n",
       "        text-align: right;\n",
       "    }\n",
       "</style>\n",
       "<table border=\"1\" class=\"dataframe\">\n",
       "  <thead>\n",
       "    <tr style=\"text-align: right;\">\n",
       "      <th></th>\n",
       "      <th>mean</th>\n",
       "      <th>median</th>\n",
       "      <th>min</th>\n",
       "      <th>max</th>\n",
       "    </tr>\n",
       "  </thead>\n",
       "  <tbody>\n",
       "    <tr>\n",
       "      <th>0</th>\n",
       "      <td>1000.000000</td>\n",
       "      <td>1000.000000</td>\n",
       "      <td>1000.000000</td>\n",
       "      <td>1000.000000</td>\n",
       "    </tr>\n",
       "    <tr>\n",
       "      <th>1</th>\n",
       "      <td>999.743795</td>\n",
       "      <td>999.884591</td>\n",
       "      <td>989.515027</td>\n",
       "      <td>1013.417565</td>\n",
       "    </tr>\n",
       "    <tr>\n",
       "      <th>2</th>\n",
       "      <td>999.941982</td>\n",
       "      <td>999.661249</td>\n",
       "      <td>986.137824</td>\n",
       "      <td>1017.346340</td>\n",
       "    </tr>\n",
       "    <tr>\n",
       "      <th>3</th>\n",
       "      <td>1000.576412</td>\n",
       "      <td>999.761066</td>\n",
       "      <td>988.718352</td>\n",
       "      <td>1021.076530</td>\n",
       "    </tr>\n",
       "    <tr>\n",
       "      <th>4</th>\n",
       "      <td>1000.986823</td>\n",
       "      <td>1000.708709</td>\n",
       "      <td>980.895274</td>\n",
       "      <td>1025.230456</td>\n",
       "    </tr>\n",
       "    <tr>\n",
       "      <th>...</th>\n",
       "      <td>...</td>\n",
       "      <td>...</td>\n",
       "      <td>...</td>\n",
       "      <td>...</td>\n",
       "    </tr>\n",
       "    <tr>\n",
       "      <th>2516</th>\n",
       "      <td>1342.645452</td>\n",
       "      <td>1345.769153</td>\n",
       "      <td>865.297329</td>\n",
       "      <td>1911.590316</td>\n",
       "    </tr>\n",
       "    <tr>\n",
       "      <th>2517</th>\n",
       "      <td>1342.751116</td>\n",
       "      <td>1342.949042</td>\n",
       "      <td>862.437761</td>\n",
       "      <td>1905.669145</td>\n",
       "    </tr>\n",
       "    <tr>\n",
       "      <th>2518</th>\n",
       "      <td>1343.484655</td>\n",
       "      <td>1337.346025</td>\n",
       "      <td>858.082897</td>\n",
       "      <td>1912.650792</td>\n",
       "    </tr>\n",
       "    <tr>\n",
       "      <th>2519</th>\n",
       "      <td>1343.895388</td>\n",
       "      <td>1338.285699</td>\n",
       "      <td>856.406495</td>\n",
       "      <td>1918.336712</td>\n",
       "    </tr>\n",
       "    <tr>\n",
       "      <th>2520</th>\n",
       "      <td>1344.474339</td>\n",
       "      <td>1338.110704</td>\n",
       "      <td>856.108321</td>\n",
       "      <td>1923.331573</td>\n",
       "    </tr>\n",
       "  </tbody>\n",
       "</table>\n",
       "<p>2521 rows × 4 columns</p>\n",
       "</div>"
      ],
      "text/plain": [
       "             mean       median          min          max\n",
       "0     1000.000000  1000.000000  1000.000000  1000.000000\n",
       "1      999.743795   999.884591   989.515027  1013.417565\n",
       "2      999.941982   999.661249   986.137824  1017.346340\n",
       "3     1000.576412   999.761066   988.718352  1021.076530\n",
       "4     1000.986823  1000.708709   980.895274  1025.230456\n",
       "...           ...          ...          ...          ...\n",
       "2516  1342.645452  1345.769153   865.297329  1911.590316\n",
       "2517  1342.751116  1342.949042   862.437761  1905.669145\n",
       "2518  1343.484655  1337.346025   858.082897  1912.650792\n",
       "2519  1343.895388  1338.285699   856.406495  1918.336712\n",
       "2520  1344.474339  1338.110704   856.108321  1923.331573\n",
       "\n",
       "[2521 rows x 4 columns]"
      ]
     },
     "execution_count": 23,
     "metadata": {},
     "output_type": "execute_result"
    }
   ],
   "source": [
    "# Set initial investment\n",
    "initial_investment = investment\n",
    "\n",
    "# Multiply an initial investment by the daily returns of simulative stock prices to return the progression of daily returns in terms of money\n",
    "cumulative_pnl = initial_investment * df_simulated_returns\n",
    "\n",
    "# Display sample data\n",
    "cumulative_pnl"
   ]
  },
  {
   "cell_type": "code",
   "execution_count": 24,
   "id": "6288eaac-4ee0-4ed5-a825-e74550b9bcb7",
   "metadata": {},
   "outputs": [
    {
     "data": {
      "text/plain": [
       "<AxesSubplot:title={'center':'Simulated Outcomes Behavior of ETF Portfolio'}>"
      ]
     },
     "execution_count": 24,
     "metadata": {},
     "output_type": "execute_result"
    },
    {
     "data": {
      "image/png": "[encoded data removed]",
      "text/plain": [
       "<Figure size 432x288 with 1 Axes>"
      ]
     },
     "metadata": {
      "needs_background": "light"
     },
     "output_type": "display_data"
    }
   ],
   "source": [
    "# Use the 'plot' function to create a chart of the simulated profits/losses\n",
    "cumulative_pnl.plot(title=\"Simulated Outcomes Behavior of ETF Portfolio\")"
   ]
  },
  {
   "cell_type": "code",
   "execution_count": 25,
   "id": "0fc002e4-1a34-4215-8929-88da5ddd5bfb",
   "metadata": {},
   "outputs": [
    {
     "name": "stdout",
     "output_type": "stream",
     "text": [
      "count           100.000000\n",
      "mean              1.344474\n",
      "std               0.208443\n",
      "min               0.856108\n",
      "25%               1.198729\n",
      "50%               1.338111\n",
      "75%               1.456818\n",
      "max               1.923332\n",
      "95% CI Lower      1.013064\n",
      "95% CI Upper      1.765969\n",
      "Name: 2520, dtype: float64\n"
     ]
    }
   ],
   "source": [
    "# Fetch summary statistics from the Monte Carlo simulation results\n",
    "tbl = MC_ETF.summarize_cumulative_return()\n",
    "\n",
    "# Print summary statistics\n",
    "print(tbl)"
   ]
  },
  {
   "cell_type": "code",
   "execution_count": 26,
   "id": "80fb971f-070f-4abd-8a9c-40f0932f79d8",
   "metadata": {},
   "outputs": [
    {
     "name": "stdout",
     "output_type": "stream",
     "text": [
      "There is a 95% chance that an initial investment of $1,000.00 in the portfolio over the next year will end within in the range of $1,013.06 and $1,765.97.\n"
     ]
    }
   ],
   "source": [
    "# Use the lower and upper `95%` confidence intervals to calculate the range of the possible outcomes of our $10,000 investments in ETF portfolio\n",
    "# Bridge back to Widget for initial investment\n",
    "ci_lower = tbl[8]* investment\n",
    "ci_upper = tbl[9]* investment\n",
    "\n",
    "# Print results\n",
    "print(f\"There is a 95% chance that an initial investment of ${initial_investment:,.2f} in the portfolio\"\n",
    "      f\" over the next year will end within in the range of\"\n",
    "      f\" ${ci_lower:,.2f} and ${ci_upper:,.2f}.\")"
   ]
  },
  {
   "cell_type": "code",
   "execution_count": 27,
   "id": "af06d593-d2ef-444d-8f80-253fd2d572a3",
   "metadata": {},
   "outputs": [
    {
     "data": {
      "text/html": [
       "<div>\n",
       "<style scoped>\n",
       "    .dataframe tbody tr th:only-of-type {\n",
       "        vertical-align: middle;\n",
       "    }\n",
       "\n",
       "    .dataframe tbody tr th {\n",
       "        vertical-align: top;\n",
       "    }\n",
       "\n",
       "    .dataframe thead th {\n",
       "        text-align: right;\n",
       "    }\n",
       "</style>\n",
       "<table border=\"1\" class=\"dataframe\">\n",
       "  <thead>\n",
       "    <tr style=\"text-align: right;\">\n",
       "      <th></th>\n",
       "      <th>AGG</th>\n",
       "    </tr>\n",
       "  </thead>\n",
       "  <tbody>\n",
       "    <tr>\n",
       "      <th>2018-08-23</th>\n",
       "      <td>106.62</td>\n",
       "    </tr>\n",
       "    <tr>\n",
       "      <th>2018-08-24</th>\n",
       "      <td>106.72</td>\n",
       "    </tr>\n",
       "    <tr>\n",
       "      <th>2018-08-27</th>\n",
       "      <td>106.59</td>\n",
       "    </tr>\n",
       "    <tr>\n",
       "      <th>2018-08-28</th>\n",
       "      <td>106.38</td>\n",
       "    </tr>\n",
       "    <tr>\n",
       "      <th>2018-08-29</th>\n",
       "      <td>106.36</td>\n",
       "    </tr>\n",
       "  </tbody>\n",
       "</table>\n",
       "</div>"
      ],
      "text/plain": [
       "               AGG\n",
       "2018-08-23  106.62\n",
       "2018-08-24  106.72\n",
       "2018-08-27  106.59\n",
       "2018-08-28  106.38\n",
       "2018-08-29  106.36"
      ]
     },
     "execution_count": 27,
     "metadata": {},
     "output_type": "execute_result"
    }
   ],
   "source": [
    "# Creating a DataFrame that holds the closing prices for each ETF and dropping the time component from the index\n",
    "closing_prices_df= pd.DataFrame()\n",
    "\n",
    "for ticker in tickers:\n",
    "    closing_prices_df[ticker]=alpaca_df[ticker][\"close\"]\n",
    "    \n",
    "closing_prices_df.index= closing_prices_df.index.date\n",
    "closing_prices_df.head()"
   ]
  },
  {
   "cell_type": "code",
   "execution_count": 28,
   "id": "78a92b64-23a9-4432-92f0-902d3925a904",
   "metadata": {},
   "outputs": [
    {
     "data": {
      "text/html": [
       "<div>\n",
       "<style scoped>\n",
       "    .dataframe tbody tr th:only-of-type {\n",
       "        vertical-align: middle;\n",
       "    }\n",
       "\n",
       "    .dataframe tbody tr th {\n",
       "        vertical-align: top;\n",
       "    }\n",
       "\n",
       "    .dataframe thead th {\n",
       "        text-align: right;\n",
       "    }\n",
       "</style>\n",
       "<table border=\"1\" class=\"dataframe\">\n",
       "  <thead>\n",
       "    <tr style=\"text-align: right;\">\n",
       "      <th></th>\n",
       "      <th>AGG</th>\n",
       "    </tr>\n",
       "  </thead>\n",
       "  <tbody>\n",
       "    <tr>\n",
       "      <th>2018-08-24</th>\n",
       "      <td>0.000938</td>\n",
       "    </tr>\n",
       "    <tr>\n",
       "      <th>2018-08-27</th>\n",
       "      <td>-0.001218</td>\n",
       "    </tr>\n",
       "    <tr>\n",
       "      <th>2018-08-28</th>\n",
       "      <td>-0.001970</td>\n",
       "    </tr>\n",
       "    <tr>\n",
       "      <th>2018-08-29</th>\n",
       "      <td>-0.000188</td>\n",
       "    </tr>\n",
       "    <tr>\n",
       "      <th>2018-08-30</th>\n",
       "      <td>0.000658</td>\n",
       "    </tr>\n",
       "  </tbody>\n",
       "</table>\n",
       "</div>"
      ],
      "text/plain": [
       "                 AGG\n",
       "2018-08-24  0.000938\n",
       "2018-08-27 -0.001218\n",
       "2018-08-28 -0.001970\n",
       "2018-08-29 -0.000188\n",
       "2018-08-30  0.000658"
      ]
     },
     "execution_count": 28,
     "metadata": {},
     "output_type": "execute_result"
    }
   ],
   "source": [
    "#Calculating daily returns and removing the rows of data that have missing values\n",
    "daily_returns= closing_prices_df.pct_change().dropna()\n",
    "daily_returns.head()"
   ]
  },
  {
   "cell_type": "code",
   "execution_count": 29,
   "id": "0c0134b1-ee45-4e52-af5c-4c3476d5e714",
   "metadata": {},
   "outputs": [
    {
     "data": {
      "text/html": [
       "<div>\n",
       "<style scoped>\n",
       "    .dataframe tbody tr th:only-of-type {\n",
       "        vertical-align: middle;\n",
       "    }\n",
       "\n",
       "    .dataframe tbody tr th {\n",
       "        vertical-align: top;\n",
       "    }\n",
       "\n",
       "    .dataframe thead th {\n",
       "        text-align: right;\n",
       "    }\n",
       "</style>\n",
       "<table border=\"1\" class=\"dataframe\">\n",
       "  <thead>\n",
       "    <tr style=\"text-align: right;\">\n",
       "      <th></th>\n",
       "      <th>AGG</th>\n",
       "    </tr>\n",
       "  </thead>\n",
       "  <tbody>\n",
       "    <tr>\n",
       "      <th>count</th>\n",
       "      <td>752.000000</td>\n",
       "    </tr>\n",
       "    <tr>\n",
       "      <th>mean</th>\n",
       "      <td>0.000120</td>\n",
       "    </tr>\n",
       "    <tr>\n",
       "      <th>std</th>\n",
       "      <td>0.003578</td>\n",
       "    </tr>\n",
       "    <tr>\n",
       "      <th>min</th>\n",
       "      <td>-0.040343</td>\n",
       "    </tr>\n",
       "    <tr>\n",
       "      <th>25%</th>\n",
       "      <td>-0.001093</td>\n",
       "    </tr>\n",
       "    <tr>\n",
       "      <th>50%</th>\n",
       "      <td>0.000186</td>\n",
       "    </tr>\n",
       "    <tr>\n",
       "      <th>75%</th>\n",
       "      <td>0.001424</td>\n",
       "    </tr>\n",
       "    <tr>\n",
       "      <th>max</th>\n",
       "      <td>0.027948</td>\n",
       "    </tr>\n",
       "  </tbody>\n",
       "</table>\n",
       "</div>"
      ],
      "text/plain": [
       "              AGG\n",
       "count  752.000000\n",
       "mean     0.000120\n",
       "std      0.003578\n",
       "min     -0.040343\n",
       "25%     -0.001093\n",
       "50%      0.000186\n",
       "75%      0.001424\n",
       "max      0.027948"
      ]
     },
     "execution_count": 29,
     "metadata": {},
     "output_type": "execute_result"
    }
   ],
   "source": [
    "#Creates a summary data of daily returns for each ETF\n",
    "daily_returns.describe()"
   ]
  },
  {
   "cell_type": "code",
   "execution_count": 30,
   "id": "c47f5c8d-adeb-4bf4-8a79-e7c57a6695e4",
   "metadata": {},
   "outputs": [
    {
     "ename": "AttributeError",
     "evalue": "'DataFrame' object has no attribute 'hvplot'",
     "output_type": "error",
     "traceback": [
      "\u001b[1;31m---------------------------------------------------------------------------\u001b[0m",
      "\u001b[1;31mAttributeError\u001b[0m                            Traceback (most recent call last)",
      "\u001b[1;32m<ipython-input-30-238c80b4f528>\u001b[0m in \u001b[0;36m<module>\u001b[1;34m\u001b[0m\n\u001b[0;32m      1\u001b[0m \u001b[1;31m# Daynamic visaulisation of daily returns for each ETF\u001b[0m\u001b[1;33m\u001b[0m\u001b[1;33m\u001b[0m\u001b[1;33m\u001b[0m\u001b[0m\n\u001b[1;32m----> 2\u001b[1;33m daily_returns.hvplot.box(title= \"ETF Daily Returns covering the period of last three years\", \n\u001b[0m\u001b[0;32m      3\u001b[0m                      \u001b[0mylabel\u001b[0m\u001b[1;33m=\u001b[0m \u001b[1;34m\"Daily Returns\"\u001b[0m\u001b[1;33m,\u001b[0m \u001b[0mxlabel\u001b[0m\u001b[1;33m=\u001b[0m \u001b[1;34m\"ETF Ticker\"\u001b[0m\u001b[1;33m,\u001b[0m \u001b[0msize\u001b[0m\u001b[1;33m=\u001b[0m\u001b[1;33m(\u001b[0m\u001b[1;36m30\u001b[0m\u001b[1;33m,\u001b[0m\u001b[1;36m15\u001b[0m\u001b[1;33m)\u001b[0m\u001b[1;33m\u001b[0m\u001b[1;33m\u001b[0m\u001b[0m\n\u001b[0;32m      4\u001b[0m )\n",
      "\u001b[1;32m~\\anaconda3\\lib\\site-packages\\pandas\\core\\generic.py\u001b[0m in \u001b[0;36m__getattr__\u001b[1;34m(self, name)\u001b[0m\n\u001b[0;32m   5463\u001b[0m             \u001b[1;32mif\u001b[0m \u001b[0mself\u001b[0m\u001b[1;33m.\u001b[0m\u001b[0m_info_axis\u001b[0m\u001b[1;33m.\u001b[0m\u001b[0m_can_hold_identifiers_and_holds_name\u001b[0m\u001b[1;33m(\u001b[0m\u001b[0mname\u001b[0m\u001b[1;33m)\u001b[0m\u001b[1;33m:\u001b[0m\u001b[1;33m\u001b[0m\u001b[1;33m\u001b[0m\u001b[0m\n\u001b[0;32m   5464\u001b[0m                 \u001b[1;32mreturn\u001b[0m \u001b[0mself\u001b[0m\u001b[1;33m[\u001b[0m\u001b[0mname\u001b[0m\u001b[1;33m]\u001b[0m\u001b[1;33m\u001b[0m\u001b[1;33m\u001b[0m\u001b[0m\n\u001b[1;32m-> 5465\u001b[1;33m             \u001b[1;32mreturn\u001b[0m \u001b[0mobject\u001b[0m\u001b[1;33m.\u001b[0m\u001b[0m__getattribute__\u001b[0m\u001b[1;33m(\u001b[0m\u001b[0mself\u001b[0m\u001b[1;33m,\u001b[0m \u001b[0mname\u001b[0m\u001b[1;33m)\u001b[0m\u001b[1;33m\u001b[0m\u001b[1;33m\u001b[0m\u001b[0m\n\u001b[0m\u001b[0;32m   5466\u001b[0m \u001b[1;33m\u001b[0m\u001b[0m\n\u001b[0;32m   5467\u001b[0m     \u001b[1;32mdef\u001b[0m \u001b[0m__setattr__\u001b[0m\u001b[1;33m(\u001b[0m\u001b[0mself\u001b[0m\u001b[1;33m,\u001b[0m \u001b[0mname\u001b[0m\u001b[1;33m:\u001b[0m \u001b[0mstr\u001b[0m\u001b[1;33m,\u001b[0m \u001b[0mvalue\u001b[0m\u001b[1;33m)\u001b[0m \u001b[1;33m->\u001b[0m \u001b[1;32mNone\u001b[0m\u001b[1;33m:\u001b[0m\u001b[1;33m\u001b[0m\u001b[1;33m\u001b[0m\u001b[0m\n",
      "\u001b[1;31mAttributeError\u001b[0m: 'DataFrame' object has no attribute 'hvplot'"
     ]
    }
   ],
   "source": [
    "# Daynamic visaulisation of daily returns for each ETF\n",
    "daily_returns.hvplot.box(title= \"ETF Daily Returns covering the period of last three years\", \n",
    "                     ylabel= \"Daily Returns\", xlabel= \"ETF Ticker\", size=(30,15)\n",
    ")"
   ]
  },
  {
   "cell_type": "code",
   "execution_count": 31,
   "id": "0a86a873-fa1f-47ee-a8ad-1c0788658546",
   "metadata": {},
   "outputs": [
    {
     "data": {
      "text/html": [
       "<div>\n",
       "<style scoped>\n",
       "    .dataframe tbody tr th:only-of-type {\n",
       "        vertical-align: middle;\n",
       "    }\n",
       "\n",
       "    .dataframe tbody tr th {\n",
       "        vertical-align: top;\n",
       "    }\n",
       "\n",
       "    .dataframe thead th {\n",
       "        text-align: right;\n",
       "    }\n",
       "</style>\n",
       "<table border=\"1\" class=\"dataframe\">\n",
       "  <thead>\n",
       "    <tr style=\"text-align: right;\">\n",
       "      <th></th>\n",
       "      <th>AGG</th>\n",
       "    </tr>\n",
       "  </thead>\n",
       "  <tbody>\n",
       "    <tr>\n",
       "      <th>2021-08-20</th>\n",
       "      <td>1.089383</td>\n",
       "    </tr>\n",
       "  </tbody>\n",
       "</table>\n",
       "</div>"
      ],
      "text/plain": [
       "                 AGG\n",
       "2021-08-20  1.089383"
      ]
     },
     "execution_count": 31,
     "metadata": {},
     "output_type": "execute_result"
    }
   ],
   "source": [
    "# Calculcates The Cumulative Returns on an investment over the period of last 3 years\n",
    "cumulative_returns= (1+ daily_returns).cumprod()\n",
    "cumulative_returns.tail(1)"
   ]
  },
  {
   "cell_type": "code",
   "execution_count": 32,
   "id": "34721c7a-6a9d-4f77-8b9d-63e7f41d403f",
   "metadata": {},
   "outputs": [
    {
     "ename": "AttributeError",
     "evalue": "'DataFrame' object has no attribute 'hvplot'",
     "output_type": "error",
     "traceback": [
      "\u001b[1;31m---------------------------------------------------------------------------\u001b[0m",
      "\u001b[1;31mAttributeError\u001b[0m                            Traceback (most recent call last)",
      "\u001b[1;32m<ipython-input-32-aeef4aa30bc6>\u001b[0m in \u001b[0;36m<module>\u001b[1;34m\u001b[0m\n\u001b[0;32m      1\u001b[0m \u001b[1;31m# Dynamic visualisation of cumulative returns of all ETFS over the period of last 3 years\u001b[0m\u001b[1;33m\u001b[0m\u001b[1;33m\u001b[0m\u001b[1;33m\u001b[0m\u001b[0m\n\u001b[1;32m----> 2\u001b[1;33m cumulative_returns.hvplot(title= \"Cumulative returns of all ETFS the period of last three years\", \n\u001b[0m\u001b[0;32m      3\u001b[0m                      ylabel= \"Daily Returns\", xlabel= \"Date\")\n",
      "\u001b[1;32m~\\anaconda3\\lib\\site-packages\\pandas\\core\\generic.py\u001b[0m in \u001b[0;36m__getattr__\u001b[1;34m(self, name)\u001b[0m\n\u001b[0;32m   5463\u001b[0m             \u001b[1;32mif\u001b[0m \u001b[0mself\u001b[0m\u001b[1;33m.\u001b[0m\u001b[0m_info_axis\u001b[0m\u001b[1;33m.\u001b[0m\u001b[0m_can_hold_identifiers_and_holds_name\u001b[0m\u001b[1;33m(\u001b[0m\u001b[0mname\u001b[0m\u001b[1;33m)\u001b[0m\u001b[1;33m:\u001b[0m\u001b[1;33m\u001b[0m\u001b[1;33m\u001b[0m\u001b[0m\n\u001b[0;32m   5464\u001b[0m                 \u001b[1;32mreturn\u001b[0m \u001b[0mself\u001b[0m\u001b[1;33m[\u001b[0m\u001b[0mname\u001b[0m\u001b[1;33m]\u001b[0m\u001b[1;33m\u001b[0m\u001b[1;33m\u001b[0m\u001b[0m\n\u001b[1;32m-> 5465\u001b[1;33m             \u001b[1;32mreturn\u001b[0m \u001b[0mobject\u001b[0m\u001b[1;33m.\u001b[0m\u001b[0m__getattribute__\u001b[0m\u001b[1;33m(\u001b[0m\u001b[0mself\u001b[0m\u001b[1;33m,\u001b[0m \u001b[0mname\u001b[0m\u001b[1;33m)\u001b[0m\u001b[1;33m\u001b[0m\u001b[1;33m\u001b[0m\u001b[0m\n\u001b[0m\u001b[0;32m   5466\u001b[0m \u001b[1;33m\u001b[0m\u001b[0m\n\u001b[0;32m   5467\u001b[0m     \u001b[1;32mdef\u001b[0m \u001b[0m__setattr__\u001b[0m\u001b[1;33m(\u001b[0m\u001b[0mself\u001b[0m\u001b[1;33m,\u001b[0m \u001b[0mname\u001b[0m\u001b[1;33m:\u001b[0m \u001b[0mstr\u001b[0m\u001b[1;33m,\u001b[0m \u001b[0mvalue\u001b[0m\u001b[1;33m)\u001b[0m \u001b[1;33m->\u001b[0m \u001b[1;32mNone\u001b[0m\u001b[1;33m:\u001b[0m\u001b[1;33m\u001b[0m\u001b[1;33m\u001b[0m\u001b[0m\n",
      "\u001b[1;31mAttributeError\u001b[0m: 'DataFrame' object has no attribute 'hvplot'"
     ]
    }
   ],
   "source": [
    "# Dynamic visualisation of cumulative returns of all ETFS over the period of last 3 years\n",
    "cumulative_returns.hvplot(title= \"Cumulative returns of all ETFS the period of last three years\", \n",
    "                     ylabel= \"Daily Returns\", xlabel= \"Date\")"
   ]
  },
  {
   "cell_type": "code",
   "execution_count": 33,
   "id": "30bc3d89-6004-4b83-8dec-5147ac4c8639",
   "metadata": {},
   "outputs": [
    {
     "data": {
      "text/plain": [
       "AGG    0.003578\n",
       "dtype: float64"
      ]
     },
     "metadata": {},
     "output_type": "display_data"
    },
    {
     "name": "stdout",
     "output_type": "stream",
     "text": [
      "The *least* volatile ETF is AGG with a Standard Deviation of: 0.004\n",
      "The *most* volatile ETF is AGG with a Standard Deviation of: 0.004\n",
      "\n"
     ]
    }
   ],
   "source": [
    "# Evaluating the risk profile of each ETFs by calculating the standard deviation and sorting them in an ascending order.\n",
    "standard_deviation = daily_returns.std()\n",
    "standard_deviation.sort_values()\n",
    "display(standard_deviation)\n",
    "print(\n",
    "          f\"The *least* volatile ETF is {standard_deviation.index[0]} with a Standard Deviation of: {round(standard_deviation[0], 3)}\\n\"\n",
    "          f\"The *most* volatile ETF is {standard_deviation.index[-1]} with a Standard Deviation of: {round(standard_deviation[-1], 3)}\\n\"\n",
    "    )\n"
   ]
  },
  {
   "cell_type": "code",
   "execution_count": 34,
   "id": "213fa322-9a2f-4119-af5a-e70c5ad461cd",
   "metadata": {},
   "outputs": [
    {
     "data": {
      "text/plain": [
       "AGG    0.056802\n",
       "dtype: float64"
      ]
     },
     "metadata": {},
     "output_type": "display_data"
    },
    {
     "name": "stdout",
     "output_type": "stream",
     "text": [
      "When annualised, The *least* volatile ETF is AGG with a Standard Deviation of: 0.057\n",
      "When annualised, The *most* volatile ETF is AGG with a Standard Deviation of: 0.057\n",
      "\n"
     ]
    }
   ],
   "source": [
    "# Evaluating the risk profile of each ETFs by calculating the standard deviation and sorting them in an ascending order.\n",
    "annual_standard_deviation = standard_deviation * np.sqrt(252)\n",
    "annual_standard_deviation.sort_values()\n",
    "display(annual_standard_deviation)\n",
    "print(\n",
    "          f\"When annualised, The *least* volatile ETF is {annual_standard_deviation.index[0]} with a Standard Deviation of: {round(annual_standard_deviation[0], 3)}\\n\"\n",
    "          f\"When annualised, The *most* volatile ETF is {annual_standard_deviation.index[-1]} with a Standard Deviation of: {round(annual_standard_deviation[-1], 3)}\\n\"\n",
    "    )"
   ]
  },
  {
   "cell_type": "code",
   "execution_count": 35,
   "id": "738f6970-733f-463e-9fb8-ff7de46b89bc",
   "metadata": {},
   "outputs": [
    {
     "data": {
      "text/plain": [
       "<AxesSubplot:title={'center':'21-day rolling standard deviation for ETFs '}>"
      ]
     },
     "execution_count": 35,
     "metadata": {},
     "output_type": "execute_result"
    },
    {
     "data": {
      "image/png": "[encoded data removed]",
      "text/plain": [
       "<Figure size 1440x720 with 1 Axes>"
      ]
     },
     "metadata": {
      "needs_background": "light"
     },
     "output_type": "display_data"
    }
   ],
   "source": [
    "# Calculates and plots a 30-day rolling standard deviation for all ETFs\n",
    "rolling_std = daily_returns.rolling(window = 30).std()\n",
    "rolling_std.plot(figsize= (20,10), \n",
    "                 title = '21-day rolling standard deviation for ETFs ')"
   ]
  },
  {
   "cell_type": "code",
   "execution_count": 36,
   "id": "28276eb6-324b-4109-9665-284a0388e511",
   "metadata": {},
   "outputs": [
    {
     "data": {
      "text/plain": [
       "AGG    0.000359\n",
       "dtype: float64"
      ]
     },
     "execution_count": 36,
     "metadata": {},
     "output_type": "execute_result"
    }
   ],
   "source": [
    "\n",
    "daily_returns.sum(axis=0).divide(252).sort_values()"
   ]
  },
  {
   "cell_type": "code",
   "execution_count": 37,
   "id": "5972d282-9757-4719-bab0-17fbf10c09d8",
   "metadata": {},
   "outputs": [
    {
     "data": {
      "text/plain": [
       "AGG    0.100321\n",
       "dtype: float64"
      ]
     },
     "execution_count": 37,
     "metadata": {},
     "output_type": "execute_result"
    }
   ],
   "source": [
    "sharpe_ratio = (daily_returns.sum(axis=0).divide(252).sort_values())/(daily_returns.std(axis=0).sort_values())\n",
    "sharpe_ratio.head()"
   ]
  },
  {
   "cell_type": "code",
   "execution_count": 38,
   "id": "1e5c3393-2082-41de-a318-c454a5370432",
   "metadata": {},
   "outputs": [
    {
     "data": {
      "text/plain": [
       "<AxesSubplot:title={'center':'Sharpe Ratios'}>"
      ]
     },
     "execution_count": 38,
     "metadata": {},
     "output_type": "execute_result"
    },
    {
     "data": {
      "image/png": "[encoded data removed]",
      "text/plain": [
       "<Figure size 1512x504 with 1 Axes>"
      ]
     },
     "metadata": {
      "needs_background": "light"
     },
     "output_type": "display_data"
    }
   ],
   "source": [
    "\n",
    "sharpe_ratio.plot(title=\"Sharpe Ratios\", kind=\"bar\", figsize=(21,7))"
   ]
  },
  {
   "cell_type": "code",
   "execution_count": 39,
   "id": "e80db3d8-3b22-4c95-8d82-70a32f33c24c",
   "metadata": {},
   "outputs": [
    {
     "ename": "NameError",
     "evalue": "name 'web' is not defined",
     "output_type": "error",
     "traceback": [
      "\u001b[1;31m---------------------------------------------------------------------------\u001b[0m",
      "\u001b[1;31mNameError\u001b[0m                                 Traceback (most recent call last)",
      "\u001b[1;32m<ipython-input-39-d4df2afdac1b>\u001b[0m in \u001b[0;36m<module>\u001b[1;34m\u001b[0m\n\u001b[0;32m      2\u001b[0m \u001b[0mend_date1\u001b[0m \u001b[1;33m=\u001b[0m \u001b[0mpd\u001b[0m\u001b[1;33m.\u001b[0m\u001b[0mTimestamp\u001b[0m\u001b[1;33m(\u001b[0m\u001b[0mtoday\u001b[0m\u001b[1;33m)\u001b[0m\u001b[1;33m.\u001b[0m\u001b[0misoformat\u001b[0m\u001b[1;33m(\u001b[0m\u001b[1;33m)\u001b[0m\u001b[1;33m\u001b[0m\u001b[1;33m\u001b[0m\u001b[0m\n\u001b[0;32m      3\u001b[0m \u001b[1;33m\u001b[0m\u001b[0m\n\u001b[1;32m----> 4\u001b[1;33m \u001b[0msp500_df\u001b[0m \u001b[1;33m=\u001b[0m \u001b[0mweb\u001b[0m\u001b[1;33m.\u001b[0m\u001b[0mDataReader\u001b[0m\u001b[1;33m(\u001b[0m\u001b[1;33m[\u001b[0m\u001b[1;34m'sp500'\u001b[0m\u001b[1;33m]\u001b[0m\u001b[1;33m,\u001b[0m \u001b[1;34m'fred'\u001b[0m\u001b[1;33m,\u001b[0m \u001b[0mstart_date1\u001b[0m\u001b[1;33m,\u001b[0m \u001b[0mend_date1\u001b[0m\u001b[1;33m)\u001b[0m\u001b[1;33m\u001b[0m\u001b[1;33m\u001b[0m\u001b[0m\n\u001b[0m\u001b[0;32m      5\u001b[0m \u001b[0msp500_df\u001b[0m\u001b[1;33m\u001b[0m\u001b[1;33m\u001b[0m\u001b[0m\n",
      "\u001b[1;31mNameError\u001b[0m: name 'web' is not defined"
     ]
    }
   ],
   "source": [
    "start_date1 = pd.Timestamp(three_years_ago).isoformat()\n",
    "end_date1 = pd.Timestamp(today).isoformat()\n",
    "                       \n",
    "sp500_df = web.DataReader(['sp500'], 'fred', start_date1, end_date1)\n",
    "sp500_df"
   ]
  },
  {
   "cell_type": "code",
   "execution_count": 41,
   "id": "021d0fe7-ab30-41be-9022-3dc46696af09",
   "metadata": {},
   "outputs": [
    {
     "ename": "NameError",
     "evalue": "name 'sp500_df' is not defined",
     "output_type": "error",
     "traceback": [
      "\u001b[1;31m---------------------------------------------------------------------------\u001b[0m",
      "\u001b[1;31mNameError\u001b[0m                                 Traceback (most recent call last)",
      "\u001b[1;32m<ipython-input-41-e1c393c8d424>\u001b[0m in \u001b[0;36m<module>\u001b[1;34m\u001b[0m\n\u001b[1;32m----> 1\u001b[1;33m \u001b[0mdaily_sp500_returns_df\u001b[0m \u001b[1;33m=\u001b[0m \u001b[0msp500_df\u001b[0m\u001b[1;33m.\u001b[0m\u001b[0mpct_change\u001b[0m\u001b[1;33m(\u001b[0m\u001b[1;33m)\u001b[0m\u001b[1;33m.\u001b[0m\u001b[0mdropna\u001b[0m\u001b[1;33m(\u001b[0m\u001b[1;33m)\u001b[0m\u001b[1;33m\u001b[0m\u001b[1;33m\u001b[0m\u001b[0m\n\u001b[0m\u001b[0;32m      2\u001b[0m \u001b[0mdaily_sp500_returns_df\u001b[0m\u001b[1;33m.\u001b[0m\u001b[0mhead\u001b[0m\u001b[1;33m(\u001b[0m\u001b[1;33m)\u001b[0m\u001b[1;33m\u001b[0m\u001b[1;33m\u001b[0m\u001b[0m\n",
      "\u001b[1;31mNameError\u001b[0m: name 'sp500_df' is not defined"
     ]
    }
   ],
   "source": [
    "\n",
    "daily_sp500_returns_df = sp500_df.pct_change().dropna()\n",
    "daily_sp500_returns_df.head()"
   ]
  },
  {
   "cell_type": "code",
   "execution_count": 42,
   "id": "d3df1620-73b2-4e86-9ccf-1341d23c711f",
   "metadata": {},
   "outputs": [
    {
     "ename": "NameError",
     "evalue": "name 'daily_sp500_returns_df' is not defined",
     "output_type": "error",
     "traceback": [
      "\u001b[1;31m---------------------------------------------------------------------------\u001b[0m",
      "\u001b[1;31mNameError\u001b[0m                                 Traceback (most recent call last)",
      "\u001b[1;32m<ipython-input-42-5a1eb3c7e6f3>\u001b[0m in \u001b[0;36m<module>\u001b[1;34m\u001b[0m\n\u001b[1;32m----> 1\u001b[1;33m \u001b[0mdaily_sp500_returns_var\u001b[0m \u001b[1;33m=\u001b[0m \u001b[0mdaily_sp500_returns_df\u001b[0m\u001b[1;33m.\u001b[0m\u001b[0mrolling\u001b[0m\u001b[1;33m(\u001b[0m\u001b[1;36m5\u001b[0m\u001b[1;33m)\u001b[0m\u001b[1;33m.\u001b[0m\u001b[0mvar\u001b[0m\u001b[1;33m(\u001b[0m\u001b[1;33m)\u001b[0m\u001b[1;33m.\u001b[0m\u001b[0mdropna\u001b[0m\u001b[1;33m(\u001b[0m\u001b[1;33m)\u001b[0m\u001b[1;33m\u001b[0m\u001b[1;33m\u001b[0m\u001b[0m\n\u001b[0m\u001b[0;32m      2\u001b[0m \u001b[0mdaily_sp500_returns_var\u001b[0m\u001b[1;33m.\u001b[0m\u001b[0mhead\u001b[0m\u001b[1;33m(\u001b[0m\u001b[1;33m)\u001b[0m\u001b[1;33m\u001b[0m\u001b[1;33m\u001b[0m\u001b[0m\n",
      "\u001b[1;31mNameError\u001b[0m: name 'daily_sp500_returns_df' is not defined"
     ]
    }
   ],
   "source": [
    "\n",
    "daily_sp500_returns_var = daily_sp500_returns_df.rolling(5).var().dropna()\n",
    "daily_sp500_returns_var.head()"
   ]
  },
  {
   "cell_type": "code",
   "execution_count": 44,
   "id": "cf1c7b4a-7696-4f41-8dc3-e3b30a8c8fda",
   "metadata": {},
   "outputs": [
    {
     "ename": "KeyError",
     "evalue": "'QQQ'",
     "output_type": "error",
     "traceback": [
      "\u001b[1;31m---------------------------------------------------------------------------\u001b[0m",
      "\u001b[1;31mKeyError\u001b[0m                                  Traceback (most recent call last)",
      "\u001b[1;32m~\\anaconda3\\lib\\site-packages\\pandas\\core\\indexes\\base.py\u001b[0m in \u001b[0;36mget_loc\u001b[1;34m(self, key, method, tolerance)\u001b[0m\n\u001b[0;32m   3079\u001b[0m             \u001b[1;32mtry\u001b[0m\u001b[1;33m:\u001b[0m\u001b[1;33m\u001b[0m\u001b[1;33m\u001b[0m\u001b[0m\n\u001b[1;32m-> 3080\u001b[1;33m                 \u001b[1;32mreturn\u001b[0m \u001b[0mself\u001b[0m\u001b[1;33m.\u001b[0m\u001b[0m_engine\u001b[0m\u001b[1;33m.\u001b[0m\u001b[0mget_loc\u001b[0m\u001b[1;33m(\u001b[0m\u001b[0mcasted_key\u001b[0m\u001b[1;33m)\u001b[0m\u001b[1;33m\u001b[0m\u001b[1;33m\u001b[0m\u001b[0m\n\u001b[0m\u001b[0;32m   3081\u001b[0m             \u001b[1;32mexcept\u001b[0m \u001b[0mKeyError\u001b[0m \u001b[1;32mas\u001b[0m \u001b[0merr\u001b[0m\u001b[1;33m:\u001b[0m\u001b[1;33m\u001b[0m\u001b[1;33m\u001b[0m\u001b[0m\n",
      "\u001b[1;32mpandas\\_libs\\index.pyx\u001b[0m in \u001b[0;36mpandas._libs.index.IndexEngine.get_loc\u001b[1;34m()\u001b[0m\n",
      "\u001b[1;32mpandas\\_libs\\index.pyx\u001b[0m in \u001b[0;36mpandas._libs.index.IndexEngine.get_loc\u001b[1;34m()\u001b[0m\n",
      "\u001b[1;32mpandas\\_libs\\hashtable_class_helper.pxi\u001b[0m in \u001b[0;36mpandas._libs.hashtable.PyObjectHashTable.get_item\u001b[1;34m()\u001b[0m\n",
      "\u001b[1;32mpandas\\_libs\\hashtable_class_helper.pxi\u001b[0m in \u001b[0;36mpandas._libs.hashtable.PyObjectHashTable.get_item\u001b[1;34m()\u001b[0m\n",
      "\u001b[1;31mKeyError\u001b[0m: 'QQQ'",
      "\nThe above exception was the direct cause of the following exception:\n",
      "\u001b[1;31mKeyError\u001b[0m                                  Traceback (most recent call last)",
      "\u001b[1;32m<ipython-input-44-93bb3bf007e0>\u001b[0m in \u001b[0;36m<module>\u001b[1;34m\u001b[0m\n\u001b[1;32m----> 1\u001b[1;33m \u001b[0mqqq_cov\u001b[0m \u001b[1;33m=\u001b[0m \u001b[0mdaily_returns\u001b[0m\u001b[1;33m[\u001b[0m\u001b[1;34m'QQQ'\u001b[0m\u001b[1;33m]\u001b[0m\u001b[1;33m.\u001b[0m\u001b[0mrolling\u001b[0m\u001b[1;33m(\u001b[0m\u001b[1;36m5\u001b[0m\u001b[1;33m)\u001b[0m\u001b[1;33m.\u001b[0m\u001b[0mcov\u001b[0m\u001b[1;33m(\u001b[0m\u001b[0mdaily_sp500_returns_df\u001b[0m\u001b[1;33m)\u001b[0m\u001b[1;33m.\u001b[0m\u001b[0mdropna\u001b[0m\u001b[1;33m(\u001b[0m\u001b[1;33m)\u001b[0m\u001b[1;33m\u001b[0m\u001b[1;33m\u001b[0m\u001b[0m\n\u001b[0m\u001b[0;32m      2\u001b[0m \u001b[0mdisplay\u001b[0m\u001b[1;33m(\u001b[0m\u001b[0mqqq_cov\u001b[0m\u001b[1;33m.\u001b[0m\u001b[0mhead\u001b[0m\u001b[1;33m(\u001b[0m\u001b[1;33m)\u001b[0m\u001b[1;33m)\u001b[0m\u001b[1;33m\u001b[0m\u001b[1;33m\u001b[0m\u001b[0m\n\u001b[0;32m      3\u001b[0m \u001b[0mxle_cov\u001b[0m \u001b[1;33m=\u001b[0m \u001b[0mdaily_returns\u001b[0m\u001b[1;33m[\u001b[0m\u001b[1;34m'XLE'\u001b[0m\u001b[1;33m]\u001b[0m\u001b[1;33m.\u001b[0m\u001b[0mrolling\u001b[0m\u001b[1;33m(\u001b[0m\u001b[1;36m5\u001b[0m\u001b[1;33m)\u001b[0m\u001b[1;33m.\u001b[0m\u001b[0mcov\u001b[0m\u001b[1;33m(\u001b[0m\u001b[0mdaily_sp500_returns_df\u001b[0m\u001b[1;33m)\u001b[0m\u001b[1;33m.\u001b[0m\u001b[0mdropna\u001b[0m\u001b[1;33m(\u001b[0m\u001b[1;33m)\u001b[0m\u001b[1;33m\u001b[0m\u001b[1;33m\u001b[0m\u001b[0m\n\u001b[0;32m      4\u001b[0m \u001b[0mdisplay\u001b[0m\u001b[1;33m(\u001b[0m\u001b[0mxle_cov\u001b[0m\u001b[1;33m.\u001b[0m\u001b[0mhead\u001b[0m\u001b[1;33m(\u001b[0m\u001b[1;33m)\u001b[0m\u001b[1;33m)\u001b[0m\u001b[1;33m\u001b[0m\u001b[1;33m\u001b[0m\u001b[0m\n",
      "\u001b[1;32m~\\anaconda3\\lib\\site-packages\\pandas\\core\\frame.py\u001b[0m in \u001b[0;36m__getitem__\u001b[1;34m(self, key)\u001b[0m\n\u001b[0;32m   3022\u001b[0m             \u001b[1;32mif\u001b[0m \u001b[0mself\u001b[0m\u001b[1;33m.\u001b[0m\u001b[0mcolumns\u001b[0m\u001b[1;33m.\u001b[0m\u001b[0mnlevels\u001b[0m \u001b[1;33m>\u001b[0m \u001b[1;36m1\u001b[0m\u001b[1;33m:\u001b[0m\u001b[1;33m\u001b[0m\u001b[1;33m\u001b[0m\u001b[0m\n\u001b[0;32m   3023\u001b[0m                 \u001b[1;32mreturn\u001b[0m \u001b[0mself\u001b[0m\u001b[1;33m.\u001b[0m\u001b[0m_getitem_multilevel\u001b[0m\u001b[1;33m(\u001b[0m\u001b[0mkey\u001b[0m\u001b[1;33m)\u001b[0m\u001b[1;33m\u001b[0m\u001b[1;33m\u001b[0m\u001b[0m\n\u001b[1;32m-> 3024\u001b[1;33m             \u001b[0mindexer\u001b[0m \u001b[1;33m=\u001b[0m \u001b[0mself\u001b[0m\u001b[1;33m.\u001b[0m\u001b[0mcolumns\u001b[0m\u001b[1;33m.\u001b[0m\u001b[0mget_loc\u001b[0m\u001b[1;33m(\u001b[0m\u001b[0mkey\u001b[0m\u001b[1;33m)\u001b[0m\u001b[1;33m\u001b[0m\u001b[1;33m\u001b[0m\u001b[0m\n\u001b[0m\u001b[0;32m   3025\u001b[0m             \u001b[1;32mif\u001b[0m \u001b[0mis_integer\u001b[0m\u001b[1;33m(\u001b[0m\u001b[0mindexer\u001b[0m\u001b[1;33m)\u001b[0m\u001b[1;33m:\u001b[0m\u001b[1;33m\u001b[0m\u001b[1;33m\u001b[0m\u001b[0m\n\u001b[0;32m   3026\u001b[0m                 \u001b[0mindexer\u001b[0m \u001b[1;33m=\u001b[0m \u001b[1;33m[\u001b[0m\u001b[0mindexer\u001b[0m\u001b[1;33m]\u001b[0m\u001b[1;33m\u001b[0m\u001b[1;33m\u001b[0m\u001b[0m\n",
      "\u001b[1;32m~\\anaconda3\\lib\\site-packages\\pandas\\core\\indexes\\base.py\u001b[0m in \u001b[0;36mget_loc\u001b[1;34m(self, key, method, tolerance)\u001b[0m\n\u001b[0;32m   3080\u001b[0m                 \u001b[1;32mreturn\u001b[0m \u001b[0mself\u001b[0m\u001b[1;33m.\u001b[0m\u001b[0m_engine\u001b[0m\u001b[1;33m.\u001b[0m\u001b[0mget_loc\u001b[0m\u001b[1;33m(\u001b[0m\u001b[0mcasted_key\u001b[0m\u001b[1;33m)\u001b[0m\u001b[1;33m\u001b[0m\u001b[1;33m\u001b[0m\u001b[0m\n\u001b[0;32m   3081\u001b[0m             \u001b[1;32mexcept\u001b[0m \u001b[0mKeyError\u001b[0m \u001b[1;32mas\u001b[0m \u001b[0merr\u001b[0m\u001b[1;33m:\u001b[0m\u001b[1;33m\u001b[0m\u001b[1;33m\u001b[0m\u001b[0m\n\u001b[1;32m-> 3082\u001b[1;33m                 \u001b[1;32mraise\u001b[0m \u001b[0mKeyError\u001b[0m\u001b[1;33m(\u001b[0m\u001b[0mkey\u001b[0m\u001b[1;33m)\u001b[0m \u001b[1;32mfrom\u001b[0m \u001b[0merr\u001b[0m\u001b[1;33m\u001b[0m\u001b[1;33m\u001b[0m\u001b[0m\n\u001b[0m\u001b[0;32m   3083\u001b[0m \u001b[1;33m\u001b[0m\u001b[0m\n\u001b[0;32m   3084\u001b[0m         \u001b[1;32mif\u001b[0m \u001b[0mtolerance\u001b[0m \u001b[1;32mis\u001b[0m \u001b[1;32mnot\u001b[0m \u001b[1;32mNone\u001b[0m\u001b[1;33m:\u001b[0m\u001b[1;33m\u001b[0m\u001b[1;33m\u001b[0m\u001b[0m\n",
      "\u001b[1;31mKeyError\u001b[0m: 'QQQ'"
     ]
    }
   ],
   "source": [
    "qqq_cov = daily_returns['QQQ'].rolling(5).cov(daily_sp500_returns_df).dropna()\n",
    "display(qqq_cov.head())\n",
    "xle_cov = daily_returns['XLE'].rolling(5).cov(daily_sp500_returns_df).dropna()\n",
    "display(xle_cov.head())"
   ]
  },
  {
   "cell_type": "code",
   "execution_count": 45,
   "id": "7057f64c-6ad0-427f-a259-58dc8776afbf",
   "metadata": {},
   "outputs": [
    {
     "ename": "NameError",
     "evalue": "name 'qqq_cov' is not defined",
     "output_type": "error",
     "traceback": [
      "\u001b[1;31m---------------------------------------------------------------------------\u001b[0m",
      "\u001b[1;31mNameError\u001b[0m                                 Traceback (most recent call last)",
      "\u001b[1;32m<ipython-input-45-79bea1a7ee33>\u001b[0m in \u001b[0;36m<module>\u001b[1;34m\u001b[0m\n\u001b[1;32m----> 1\u001b[1;33m \u001b[0mqqq_beta\u001b[0m \u001b[1;33m=\u001b[0m \u001b[0mqqq_cov\u001b[0m\u001b[1;33m/\u001b[0m\u001b[0mdaily_sp500_returns_var\u001b[0m\u001b[1;33m\u001b[0m\u001b[1;33m\u001b[0m\u001b[0m\n\u001b[0m\u001b[0;32m      2\u001b[0m \u001b[0mdisplay\u001b[0m\u001b[1;33m(\u001b[0m\u001b[0mqqq_beta\u001b[0m\u001b[1;33m.\u001b[0m\u001b[0mdropna\u001b[0m\u001b[1;33m(\u001b[0m\u001b[1;33m)\u001b[0m\u001b[1;33m.\u001b[0m\u001b[0mhead\u001b[0m\u001b[1;33m(\u001b[0m\u001b[1;33m)\u001b[0m\u001b[1;33m)\u001b[0m\u001b[1;33m\u001b[0m\u001b[1;33m\u001b[0m\u001b[0m\n\u001b[0;32m      3\u001b[0m \u001b[0mxle_beta\u001b[0m \u001b[1;33m=\u001b[0m \u001b[0mxle_cov\u001b[0m\u001b[1;33m/\u001b[0m\u001b[0mdaily_sp500_returns_var\u001b[0m\u001b[1;33m\u001b[0m\u001b[1;33m\u001b[0m\u001b[0m\n\u001b[0;32m      4\u001b[0m \u001b[0mdisplay\u001b[0m\u001b[1;33m(\u001b[0m\u001b[0mxle_beta\u001b[0m\u001b[1;33m.\u001b[0m\u001b[0mdropna\u001b[0m\u001b[1;33m(\u001b[0m\u001b[1;33m)\u001b[0m\u001b[1;33m.\u001b[0m\u001b[0mhead\u001b[0m\u001b[1;33m(\u001b[0m\u001b[1;33m)\u001b[0m\u001b[1;33m)\u001b[0m\u001b[1;33m\u001b[0m\u001b[1;33m\u001b[0m\u001b[0m\n",
      "\u001b[1;31mNameError\u001b[0m: name 'qqq_cov' is not defined"
     ]
    }
   ],
   "source": [
    "\n",
    "qqq_beta = qqq_cov/daily_sp500_returns_var\n",
    "display(qqq_beta.dropna().head())\n",
    "xle_beta = xle_cov/daily_sp500_returns_var\n",
    "display(xle_beta.dropna().head())"
   ]
  },
  {
   "cell_type": "code",
   "execution_count": 46,
   "id": "e57c33d2-6064-42f2-b21e-7e8ee3f88294",
   "metadata": {},
   "outputs": [
    {
     "ename": "NameError",
     "evalue": "name 'qqq_beta' is not defined",
     "output_type": "error",
     "traceback": [
      "\u001b[1;31m---------------------------------------------------------------------------\u001b[0m",
      "\u001b[1;31mNameError\u001b[0m                                 Traceback (most recent call last)",
      "\u001b[1;32m<ipython-input-46-61094c52b2b1>\u001b[0m in \u001b[0;36m<module>\u001b[1;34m\u001b[0m\n\u001b[1;32m----> 1\u001b[1;33m \u001b[0mqqq_beta_mean\u001b[0m \u001b[1;33m=\u001b[0m \u001b[0mqqq_beta\u001b[0m\u001b[1;33m.\u001b[0m\u001b[0mrolling\u001b[0m\u001b[1;33m(\u001b[0m\u001b[1;36m5\u001b[0m\u001b[1;33m)\u001b[0m\u001b[1;33m.\u001b[0m\u001b[0mmean\u001b[0m\u001b[1;33m(\u001b[0m\u001b[1;33m)\u001b[0m\u001b[1;33m.\u001b[0m\u001b[0mdropna\u001b[0m\u001b[1;33m(\u001b[0m\u001b[1;33m)\u001b[0m\u001b[1;33m\u001b[0m\u001b[1;33m\u001b[0m\u001b[0m\n\u001b[0m\u001b[0;32m      2\u001b[0m \u001b[0mdisplay\u001b[0m\u001b[1;33m(\u001b[0m\u001b[0mqqq_beta_mean\u001b[0m\u001b[1;33m.\u001b[0m\u001b[0mhead\u001b[0m\u001b[1;33m(\u001b[0m\u001b[1;33m)\u001b[0m\u001b[1;33m)\u001b[0m\u001b[1;33m\u001b[0m\u001b[1;33m\u001b[0m\u001b[0m\n\u001b[0;32m      3\u001b[0m \u001b[0mxle_beta_mean\u001b[0m \u001b[1;33m=\u001b[0m \u001b[0mxle_beta\u001b[0m\u001b[1;33m.\u001b[0m\u001b[0mrolling\u001b[0m\u001b[1;33m(\u001b[0m\u001b[1;36m5\u001b[0m\u001b[1;33m)\u001b[0m\u001b[1;33m.\u001b[0m\u001b[0mmean\u001b[0m\u001b[1;33m(\u001b[0m\u001b[1;33m)\u001b[0m\u001b[1;33m.\u001b[0m\u001b[0mdropna\u001b[0m\u001b[1;33m(\u001b[0m\u001b[1;33m)\u001b[0m\u001b[1;33m\u001b[0m\u001b[1;33m\u001b[0m\u001b[0m\n\u001b[0;32m      4\u001b[0m \u001b[0mdisplay\u001b[0m\u001b[1;33m(\u001b[0m\u001b[0mxle_beta_mean\u001b[0m\u001b[1;33m.\u001b[0m\u001b[0mhead\u001b[0m\u001b[1;33m(\u001b[0m\u001b[1;33m)\u001b[0m\u001b[1;33m)\u001b[0m\u001b[1;33m\u001b[0m\u001b[1;33m\u001b[0m\u001b[0m\n",
      "\u001b[1;31mNameError\u001b[0m: name 'qqq_beta' is not defined"
     ]
    }
   ],
   "source": [
    "qqq_beta_mean = qqq_beta.rolling(5).mean().dropna()\n",
    "display(qqq_beta_mean.head())\n",
    "xle_beta_mean = xle_beta.rolling(5).mean().dropna()\n",
    "display(xle_beta_mean.head())"
   ]
  },
  {
   "cell_type": "code",
   "execution_count": 47,
   "id": "5ef66f7e-74e8-4969-ae85-f694bc166b6c",
   "metadata": {},
   "outputs": [
    {
     "ename": "NameError",
     "evalue": "name 'qqq_beta' is not defined",
     "output_type": "error",
     "traceback": [
      "\u001b[1;31m---------------------------------------------------------------------------\u001b[0m",
      "\u001b[1;31mNameError\u001b[0m                                 Traceback (most recent call last)",
      "\u001b[1;32m<ipython-input-47-125d86274351>\u001b[0m in \u001b[0;36m<module>\u001b[1;34m\u001b[0m\n\u001b[1;32m----> 1\u001b[1;33m \u001b[0mqqq_beta\u001b[0m\u001b[1;33m.\u001b[0m\u001b[0mplot\u001b[0m\u001b[1;33m(\u001b[0m\u001b[0mtitle\u001b[0m\u001b[1;33m=\u001b[0m\u001b[1;34m\"QQQ Beta\"\u001b[0m\u001b[1;33m,\u001b[0m \u001b[0mfigsize\u001b[0m\u001b[1;33m=\u001b[0m\u001b[1;33m(\u001b[0m\u001b[1;36m14\u001b[0m\u001b[1;33m,\u001b[0m \u001b[1;36m7\u001b[0m\u001b[1;33m)\u001b[0m\u001b[1;33m)\u001b[0m\u001b[1;33m\u001b[0m\u001b[1;33m\u001b[0m\u001b[0m\n\u001b[0m",
      "\u001b[1;31mNameError\u001b[0m: name 'qqq_beta' is not defined"
     ]
    }
   ],
   "source": [
    "qqq_beta.plot(title=\"QQQ Beta\", figsize=(14, 7))"
   ]
  },
  {
   "cell_type": "code",
   "execution_count": 48,
   "id": "57d1df5b-e9b7-4d41-805e-f27009ecc9b2",
   "metadata": {},
   "outputs": [
    {
     "ename": "NameError",
     "evalue": "name 'xle_beta' is not defined",
     "output_type": "error",
     "traceback": [
      "\u001b[1;31m---------------------------------------------------------------------------\u001b[0m",
      "\u001b[1;31mNameError\u001b[0m                                 Traceback (most recent call last)",
      "\u001b[1;32m<ipython-input-48-c040bdcc8606>\u001b[0m in \u001b[0;36m<module>\u001b[1;34m\u001b[0m\n\u001b[1;32m----> 1\u001b[1;33m \u001b[0mxle_beta\u001b[0m\u001b[1;33m.\u001b[0m\u001b[0mplot\u001b[0m\u001b[1;33m(\u001b[0m\u001b[0mtitle\u001b[0m\u001b[1;33m=\u001b[0m\u001b[1;34m\"XLE Beta\"\u001b[0m\u001b[1;33m,\u001b[0m \u001b[0mfigsize\u001b[0m\u001b[1;33m=\u001b[0m\u001b[1;33m(\u001b[0m\u001b[1;36m14\u001b[0m\u001b[1;33m,\u001b[0m \u001b[1;36m7\u001b[0m\u001b[1;33m)\u001b[0m\u001b[1;33m)\u001b[0m\u001b[1;33m\u001b[0m\u001b[1;33m\u001b[0m\u001b[0m\n\u001b[0m",
      "\u001b[1;31mNameError\u001b[0m: name 'xle_beta' is not defined"
     ]
    }
   ],
   "source": [
    "xle_beta.plot(title=\"XLE Beta\", figsize=(14, 7))"
   ]
  },
  {
   "cell_type": "code",
   "execution_count": null,
   "id": "a84d8038-ea2e-4845-93d0-1164ef8323fa",
   "metadata": {},
   "outputs": [],
   "source": []
  }
 ],
 "metadata": {
  "kernelspec": {
   "display_name": "dev",
   "language": "python",
   "name": "dev"
  },
  "language_info": {
   "codemirror_mode": {
    "name": "ipython",
    "version": 3
   },
   "file_extension": ".py",
   "mimetype": "text/x-python",
   "name": "python",
   "nbconvert_exporter": "python",
   "pygments_lexer": "ipython3",
   "version": "3.8.8"
  }
 },
 "nbformat": 4,
 "nbformat_minor": 5
}
