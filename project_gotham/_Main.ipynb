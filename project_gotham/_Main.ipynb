{
 "cells": [
  {
   "cell_type": "code",
   "execution_count": 1,
   "id": "0f259d90-e757-4c0b-b012-ad1f893aa211",
   "metadata": {},
   "outputs": [],
   "source": [
    "# Import required libraries\n",
    "import os\n",
    "import requests\n",
    "import json\n",
    "import pandas as pd\n",
    "#import hvplot.pandas\n",
    "from dotenv import load_dotenv\n",
    "import alpaca_trade_api as tradeapi\n",
    "import datetime\n",
    "import numpy as np\n",
    "import numpy.random as rnd\n",
    "import requests\n",
    "from MCForecastTools import MCSimulation\n",
    "import ipywidgets as widgets\n",
    "from ipywidgets import widgets\n",
    "from ipywidgets import interact, interactive, fixed, interact_manual\n",
    "import datetime\n",
    "import pandas_datareader.data as web\n",
    "%matplotlib inline"
   ]
  },
  {
   "cell_type": "code",
   "execution_count": 2,
   "id": "09ac9058-9ace-43aa-b94c-fd24d481af28",
   "metadata": {},
   "outputs": [
    {
     "data": {
      "text/plain": [
       "True"
      ]
     },
     "execution_count": 2,
     "metadata": {},
     "output_type": "execute_result"
    }
   ],
   "source": [
    "# Load the environment variables from the .env file\n",
    "# Call the load_dotenv function\n",
    "load_dotenv()"
   ]
  },
  {
   "cell_type": "code",
   "execution_count": 3,
   "id": "090fea85-d223-4f6f-b138-eb4c95943458",
   "metadata": {},
   "outputs": [],
   "source": [
    "# Set the variables for the Alpaca API and secret keys\n",
    "alpaca_api_key = os.getenv(\"ALPACA_API_KEY\")\n",
    "alpaca_secret_key = os.getenv(\"ALPACA_SECRET_KEY\")\n",
    "# Create the Alpaca tradeapi.REST object\n",
    "alpaca = tradeapi.REST(\n",
    "            alpaca_api_key,\n",
    "            alpaca_secret_key,\n",
    "            api_version = \"v2\")"
   ]
  },
  {
   "cell_type": "code",
   "execution_count": 4,
   "id": "e9fd7b2e-f574-46c0-8f22-d282303b138e",
   "metadata": {},
   "outputs": [
    {
     "data": {
      "application/vnd.jupyter.widget-view+json": {
       "model_id": "b08b26fa61fc40ed9447daa62edf8ada",
       "version_major": 2,
       "version_minor": 0
      },
      "text/plain": [
       "SelectMultiple(description='Select ETFs for analysis', index=(0,), options=('AGG', 'SPY', 'XLF', 'QQQ', 'EEM',…"
      ]
     },
     "metadata": {},
     "output_type": "display_data"
    }
   ],
   "source": [
    "# Can allow user defined with IPY Widgets \n",
    "# widgets.Dropdown(options=[\"AGG\", \"SPY\", \"XLF\", \"QQQ\", \"EEM\", \"XLE\", \"GDX\", \"IWM\", \"IWV\"], description=\"Select ETF\")\n",
    "\n",
    "ui= widgets.SelectMultiple(\n",
    "            options=[\"AGG\", \"SPY\", \"XLF\", \"QQQ\", \"EEM\", \"XLE\", \"GDX\", \"IWM\", \"IWV\"],\n",
    "            value=['AGG'],\n",
    "            description='Select ETFs for analysis',\n",
    "            readout= True,\n",
    "            disabled=False\n",
    ")\n",
    "display(ui)"
   ]
  },
  {
   "cell_type": "code",
   "execution_count": 5,
   "id": "8e31a9a9-da2c-4b57-9f14-fbd487204f9f",
   "metadata": {},
   "outputs": [
    {
     "name": "stdout",
     "output_type": "stream",
     "text": [
      "['AGG']\n"
     ]
    }
   ],
   "source": [
    "ui= list(ui.value)\n",
    "print(ui)"
   ]
  },
  {
   "cell_type": "code",
   "execution_count": 6,
   "id": "946b74a0-4b67-41c7-8096-5179f2412a57",
   "metadata": {},
   "outputs": [],
   "source": [
    "timeframe = \"1D\"\n",
    "\n",
    "today = str(datetime.datetime.today()).split()[0]\n",
    "\n",
    "three_years_ago= str(datetime.datetime.today()- datetime.timedelta(days=1095)).split()[0]\n",
    "\n",
    "start_date= pd.Timestamp(three_years_ago, tz=\"America/New_York\").isoformat()\n",
    "\n",
    "end_date= pd.Timestamp(today, tz=\"America/New_York\").isoformat()\n",
    "                       \n",
    "limit_rows=1000\n",
    "# Can allow user defined with IPY Widgets above \n",
    "tickers = ui"
   ]
  },
  {
   "cell_type": "code",
   "execution_count": 7,
   "id": "2c1b99de-1f9b-4ab5-a8a6-d567e1ba5aaf",
   "metadata": {},
   "outputs": [
    {
     "name": "stdout",
     "output_type": "stream",
     "text": [
      "Preparing 3 years of historical data... Please wait\n"
     ]
    },
    {
     "data": {
      "text/html": [
       "<div>\n",
       "<style scoped>\n",
       "    .dataframe tbody tr th:only-of-type {\n",
       "        vertical-align: middle;\n",
       "    }\n",
       "\n",
       "    .dataframe tbody tr th {\n",
       "        vertical-align: top;\n",
       "    }\n",
       "\n",
       "    .dataframe thead tr th {\n",
       "        text-align: left;\n",
       "    }\n",
       "\n",
       "    .dataframe thead tr:last-of-type th {\n",
       "        text-align: right;\n",
       "    }\n",
       "</style>\n",
       "<table border=\"1\" class=\"dataframe\">\n",
       "  <thead>\n",
       "    <tr>\n",
       "      <th></th>\n",
       "      <th colspan=\"5\" halign=\"left\">AGG</th>\n",
       "    </tr>\n",
       "    <tr>\n",
       "      <th></th>\n",
       "      <th>open</th>\n",
       "      <th>high</th>\n",
       "      <th>low</th>\n",
       "      <th>close</th>\n",
       "      <th>volume</th>\n",
       "    </tr>\n",
       "    <tr>\n",
       "      <th>time</th>\n",
       "      <th></th>\n",
       "      <th></th>\n",
       "      <th></th>\n",
       "      <th></th>\n",
       "      <th></th>\n",
       "    </tr>\n",
       "  </thead>\n",
       "  <tbody>\n",
       "    <tr>\n",
       "      <th>2018-08-23 00:00:00-04:00</th>\n",
       "      <td>106.67</td>\n",
       "      <td>106.705</td>\n",
       "      <td>106.62</td>\n",
       "      <td>106.62</td>\n",
       "      <td>1346950</td>\n",
       "    </tr>\n",
       "    <tr>\n",
       "      <th>2018-08-24 00:00:00-04:00</th>\n",
       "      <td>106.50</td>\n",
       "      <td>106.730</td>\n",
       "      <td>106.49</td>\n",
       "      <td>106.72</td>\n",
       "      <td>3039932</td>\n",
       "    </tr>\n",
       "    <tr>\n",
       "      <th>2018-08-27 00:00:00-04:00</th>\n",
       "      <td>106.59</td>\n",
       "      <td>106.660</td>\n",
       "      <td>106.56</td>\n",
       "      <td>106.59</td>\n",
       "      <td>2439457</td>\n",
       "    </tr>\n",
       "    <tr>\n",
       "      <th>2018-08-28 00:00:00-04:00</th>\n",
       "      <td>106.45</td>\n",
       "      <td>106.490</td>\n",
       "      <td>106.36</td>\n",
       "      <td>106.38</td>\n",
       "      <td>1880134</td>\n",
       "    </tr>\n",
       "    <tr>\n",
       "      <th>2018-08-29 00:00:00-04:00</th>\n",
       "      <td>106.38</td>\n",
       "      <td>106.410</td>\n",
       "      <td>106.29</td>\n",
       "      <td>106.36</td>\n",
       "      <td>1881163</td>\n",
       "    </tr>\n",
       "  </tbody>\n",
       "</table>\n",
       "</div>"
      ],
      "text/plain": [
       "                              AGG                                  \n",
       "                             open     high     low   close   volume\n",
       "time                                                               \n",
       "2018-08-23 00:00:00-04:00  106.67  106.705  106.62  106.62  1346950\n",
       "2018-08-24 00:00:00-04:00  106.50  106.730  106.49  106.72  3039932\n",
       "2018-08-27 00:00:00-04:00  106.59  106.660  106.56  106.59  2439457\n",
       "2018-08-28 00:00:00-04:00  106.45  106.490  106.36  106.38  1880134\n",
       "2018-08-29 00:00:00-04:00  106.38  106.410  106.29  106.36  1881163"
      ]
     },
     "metadata": {},
     "output_type": "display_data"
    },
    {
     "data": {
      "text/html": [
       "<div>\n",
       "<style scoped>\n",
       "    .dataframe tbody tr th:only-of-type {\n",
       "        vertical-align: middle;\n",
       "    }\n",
       "\n",
       "    .dataframe tbody tr th {\n",
       "        vertical-align: top;\n",
       "    }\n",
       "\n",
       "    .dataframe thead tr th {\n",
       "        text-align: left;\n",
       "    }\n",
       "\n",
       "    .dataframe thead tr:last-of-type th {\n",
       "        text-align: right;\n",
       "    }\n",
       "</style>\n",
       "<table border=\"1\" class=\"dataframe\">\n",
       "  <thead>\n",
       "    <tr>\n",
       "      <th></th>\n",
       "      <th colspan=\"5\" halign=\"left\">AGG</th>\n",
       "    </tr>\n",
       "    <tr>\n",
       "      <th></th>\n",
       "      <th>open</th>\n",
       "      <th>high</th>\n",
       "      <th>low</th>\n",
       "      <th>close</th>\n",
       "      <th>volume</th>\n",
       "    </tr>\n",
       "    <tr>\n",
       "      <th>time</th>\n",
       "      <th></th>\n",
       "      <th></th>\n",
       "      <th></th>\n",
       "      <th></th>\n",
       "      <th></th>\n",
       "    </tr>\n",
       "  </thead>\n",
       "  <tbody>\n",
       "    <tr>\n",
       "      <th>2021-08-16 00:00:00-04:00</th>\n",
       "      <td>116.14</td>\n",
       "      <td>116.270</td>\n",
       "      <td>116.03</td>\n",
       "      <td>116.03</td>\n",
       "      <td>3406963</td>\n",
       "    </tr>\n",
       "    <tr>\n",
       "      <th>2021-08-17 00:00:00-04:00</th>\n",
       "      <td>115.98</td>\n",
       "      <td>116.090</td>\n",
       "      <td>115.93</td>\n",
       "      <td>115.95</td>\n",
       "      <td>4493522</td>\n",
       "    </tr>\n",
       "    <tr>\n",
       "      <th>2021-08-18 00:00:00-04:00</th>\n",
       "      <td>115.94</td>\n",
       "      <td>116.030</td>\n",
       "      <td>115.80</td>\n",
       "      <td>115.96</td>\n",
       "      <td>3840678</td>\n",
       "    </tr>\n",
       "    <tr>\n",
       "      <th>2021-08-19 00:00:00-04:00</th>\n",
       "      <td>116.12</td>\n",
       "      <td>116.155</td>\n",
       "      <td>116.02</td>\n",
       "      <td>116.14</td>\n",
       "      <td>4314380</td>\n",
       "    </tr>\n",
       "    <tr>\n",
       "      <th>2021-08-20 00:00:00-04:00</th>\n",
       "      <td>116.18</td>\n",
       "      <td>116.210</td>\n",
       "      <td>116.08</td>\n",
       "      <td>116.15</td>\n",
       "      <td>2672679</td>\n",
       "    </tr>\n",
       "  </tbody>\n",
       "</table>\n",
       "</div>"
      ],
      "text/plain": [
       "                              AGG                                  \n",
       "                             open     high     low   close   volume\n",
       "time                                                               \n",
       "2021-08-16 00:00:00-04:00  116.14  116.270  116.03  116.03  3406963\n",
       "2021-08-17 00:00:00-04:00  115.98  116.090  115.93  115.95  4493522\n",
       "2021-08-18 00:00:00-04:00  115.94  116.030  115.80  115.96  3840678\n",
       "2021-08-19 00:00:00-04:00  116.12  116.155  116.02  116.14  4314380\n",
       "2021-08-20 00:00:00-04:00  116.18  116.210  116.08  116.15  2672679"
      ]
     },
     "metadata": {},
     "output_type": "display_data"
    }
   ],
   "source": [
    "print(\"Preparing 3 years of historical data... Please wait\")\n",
    "alpaca_df= alpaca.get_barset(\n",
    "               tickers,\n",
    "               timeframe,\n",
    "               limit= limit_rows,\n",
    "               start = start_date,\n",
    "               end = end_date\n",
    ").df\n",
    "display(alpaca_df.head())\n",
    "display(alpaca_df.tail())"
   ]
  },
  {
   "cell_type": "code",
   "execution_count": 8,
   "id": "2167579b-2cbc-43e4-b0e6-4d844d17b361",
   "metadata": {},
   "outputs": [],
   "source": [
    "# Set number of simulations\n",
    "# Use IPY Widgets to set sims and years\n"
   ]
  },
  {
   "cell_type": "code",
   "execution_count": 9,
   "id": "36b034a6-b0b4-4c88-b37e-64c1e48c2486",
   "metadata": {},
   "outputs": [
    {
     "data": {
      "application/vnd.jupyter.widget-view+json": {
       "model_id": "8ca8b07ca70d41afb1e07657a9779429",
       "version_major": 2,
       "version_minor": 0
      },
      "text/plain": [
       "Select(description='num of simulations', index=1, options=('50', '100', '250', '500'), value='100')"
      ]
     },
     "metadata": {},
     "output_type": "display_data"
    }
   ],
   "source": [
    "simulations= widgets.Select(\n",
    "    options=['50','100', '250', '500'],\n",
    "    value='100',\n",
    "    description='num of simulations',\n",
    "    disabled=False\n",
    ")\n",
    "display(simulations)"
   ]
  },
  {
   "cell_type": "code",
   "execution_count": 10,
   "id": "d75c4fbf-921c-49f8-adcc-a65709627550",
   "metadata": {},
   "outputs": [
    {
     "name": "stdout",
     "output_type": "stream",
     "text": [
      "100\n"
     ]
    }
   ],
   "source": [
    "simulations=int(simulations.value)\n",
    "print(simulations)"
   ]
  },
  {
   "cell_type": "code",
   "execution_count": 11,
   "id": "d3dbc2c2-f4f6-4830-98af-cc3c85432ebc",
   "metadata": {},
   "outputs": [
    {
     "data": {
      "application/vnd.jupyter.widget-view+json": {
       "model_id": "178da39d2f654bc2b49506637de6ab42",
       "version_major": 2,
       "version_minor": 0
      },
      "text/plain": [
       "IntSlider(value=10, continuous_update=False, description='Years:', max=30, min=1)"
      ]
     },
     "metadata": {},
     "output_type": "display_data"
    }
   ],
   "source": [
    "years=widgets.IntSlider(\n",
    "    value=10,\n",
    "    min=1,\n",
    "    max=30,\n",
    "    step=1,\n",
    "    description='Years:',\n",
    "    disabled=False,\n",
    "    continuous_update=False,\n",
    "    orientation='horizontal',\n",
    "    readout=True,\n",
    "    readout_format='d'\n",
    ")\n",
    "\n",
    "display(years)"
   ]
  },
  {
   "cell_type": "code",
   "execution_count": 12,
   "id": "e14e137e-45b1-47bf-be0f-dff701039904",
   "metadata": {},
   "outputs": [
    {
     "name": "stdout",
     "output_type": "stream",
     "text": [
      "10\n"
     ]
    }
   ],
   "source": [
    "years= int(years.value)\n",
    "print(years)"
   ]
  },
  {
   "cell_type": "code",
   "execution_count": 13,
   "id": "ad8b82a5-9b03-4974-bda3-147cedcdc8c3",
   "metadata": {},
   "outputs": [],
   "source": [
    "# set number of years and simulations from user inputs\n",
    "MC_ETF = MCSimulation(\n",
    "    portfolio_data = alpaca_df,\n",
    "    num_simulation = simulations,\n",
    "    num_trading_days = 252 * years\n",
    ")"
   ]
  },
  {
   "cell_type": "code",
   "execution_count": 14,
   "id": "9e4b6b94-9b73-4ad5-bb59-cb676f56c983",
   "metadata": {},
   "outputs": [
    {
     "name": "stdout",
     "output_type": "stream",
     "text": [
      "Running Monte Carlo simulation number 0.\n",
      "Running Monte Carlo simulation number 10.\n",
      "Running Monte Carlo simulation number 20.\n",
      "Running Monte Carlo simulation number 30.\n",
      "Running Monte Carlo simulation number 40.\n",
      "Running Monte Carlo simulation number 50.\n",
      "Running Monte Carlo simulation number 60.\n",
      "Running Monte Carlo simulation number 70.\n",
      "Running Monte Carlo simulation number 80.\n",
      "Running Monte Carlo simulation number 90.\n"
     ]
    },
    {
     "data": {
      "text/html": [
       "<div>\n",
       "<style scoped>\n",
       "    .dataframe tbody tr th:only-of-type {\n",
       "        vertical-align: middle;\n",
       "    }\n",
       "\n",
       "    .dataframe tbody tr th {\n",
       "        vertical-align: top;\n",
       "    }\n",
       "\n",
       "    .dataframe thead th {\n",
       "        text-align: right;\n",
       "    }\n",
       "</style>\n",
       "<table border=\"1\" class=\"dataframe\">\n",
       "  <thead>\n",
       "    <tr style=\"text-align: right;\">\n",
       "      <th></th>\n",
       "      <th>0</th>\n",
       "      <th>1</th>\n",
       "      <th>2</th>\n",
       "      <th>3</th>\n",
       "      <th>4</th>\n",
       "      <th>5</th>\n",
       "      <th>6</th>\n",
       "      <th>7</th>\n",
       "      <th>8</th>\n",
       "      <th>9</th>\n",
       "      <th>...</th>\n",
       "      <th>90</th>\n",
       "      <th>91</th>\n",
       "      <th>92</th>\n",
       "      <th>93</th>\n",
       "      <th>94</th>\n",
       "      <th>95</th>\n",
       "      <th>96</th>\n",
       "      <th>97</th>\n",
       "      <th>98</th>\n",
       "      <th>99</th>\n",
       "    </tr>\n",
       "  </thead>\n",
       "  <tbody>\n",
       "    <tr>\n",
       "      <th>0</th>\n",
       "      <td>1.000000</td>\n",
       "      <td>1.000000</td>\n",
       "      <td>1.000000</td>\n",
       "      <td>1.000000</td>\n",
       "      <td>1.000000</td>\n",
       "      <td>1.000000</td>\n",
       "      <td>1.000000</td>\n",
       "      <td>1.000000</td>\n",
       "      <td>1.000000</td>\n",
       "      <td>1.000000</td>\n",
       "      <td>...</td>\n",
       "      <td>1.000000</td>\n",
       "      <td>1.000000</td>\n",
       "      <td>1.000000</td>\n",
       "      <td>1.000000</td>\n",
       "      <td>1.000000</td>\n",
       "      <td>1.000000</td>\n",
       "      <td>1.000000</td>\n",
       "      <td>1.000000</td>\n",
       "      <td>1.000000</td>\n",
       "      <td>1.000000</td>\n",
       "    </tr>\n",
       "    <tr>\n",
       "      <th>1</th>\n",
       "      <td>1.000802</td>\n",
       "      <td>1.001741</td>\n",
       "      <td>1.003059</td>\n",
       "      <td>0.997947</td>\n",
       "      <td>1.002585</td>\n",
       "      <td>1.000542</td>\n",
       "      <td>1.005256</td>\n",
       "      <td>0.995414</td>\n",
       "      <td>1.005288</td>\n",
       "      <td>0.995829</td>\n",
       "      <td>...</td>\n",
       "      <td>1.002207</td>\n",
       "      <td>1.003048</td>\n",
       "      <td>1.003781</td>\n",
       "      <td>1.000306</td>\n",
       "      <td>1.001729</td>\n",
       "      <td>1.003233</td>\n",
       "      <td>1.001062</td>\n",
       "      <td>1.001598</td>\n",
       "      <td>1.002855</td>\n",
       "      <td>1.008670</td>\n",
       "    </tr>\n",
       "    <tr>\n",
       "      <th>2</th>\n",
       "      <td>1.001490</td>\n",
       "      <td>0.998057</td>\n",
       "      <td>0.995229</td>\n",
       "      <td>1.000237</td>\n",
       "      <td>1.003871</td>\n",
       "      <td>1.003485</td>\n",
       "      <td>1.005722</td>\n",
       "      <td>0.997378</td>\n",
       "      <td>1.010117</td>\n",
       "      <td>0.993016</td>\n",
       "      <td>...</td>\n",
       "      <td>1.005351</td>\n",
       "      <td>1.007656</td>\n",
       "      <td>1.003749</td>\n",
       "      <td>0.996594</td>\n",
       "      <td>1.006602</td>\n",
       "      <td>0.997490</td>\n",
       "      <td>1.005502</td>\n",
       "      <td>1.006260</td>\n",
       "      <td>0.998882</td>\n",
       "      <td>1.011721</td>\n",
       "    </tr>\n",
       "    <tr>\n",
       "      <th>3</th>\n",
       "      <td>1.004995</td>\n",
       "      <td>1.000641</td>\n",
       "      <td>0.997746</td>\n",
       "      <td>1.002489</td>\n",
       "      <td>1.001839</td>\n",
       "      <td>0.999864</td>\n",
       "      <td>1.002561</td>\n",
       "      <td>0.996951</td>\n",
       "      <td>1.008223</td>\n",
       "      <td>0.993000</td>\n",
       "      <td>...</td>\n",
       "      <td>1.011931</td>\n",
       "      <td>1.007359</td>\n",
       "      <td>0.995696</td>\n",
       "      <td>0.996418</td>\n",
       "      <td>1.007169</td>\n",
       "      <td>0.993709</td>\n",
       "      <td>1.001373</td>\n",
       "      <td>1.001344</td>\n",
       "      <td>1.000017</td>\n",
       "      <td>1.015944</td>\n",
       "    </tr>\n",
       "    <tr>\n",
       "      <th>4</th>\n",
       "      <td>1.003735</td>\n",
       "      <td>0.997888</td>\n",
       "      <td>0.997399</td>\n",
       "      <td>1.004124</td>\n",
       "      <td>1.001034</td>\n",
       "      <td>1.000588</td>\n",
       "      <td>0.996478</td>\n",
       "      <td>0.992013</td>\n",
       "      <td>1.001026</td>\n",
       "      <td>0.995725</td>\n",
       "      <td>...</td>\n",
       "      <td>1.017247</td>\n",
       "      <td>1.005280</td>\n",
       "      <td>0.995034</td>\n",
       "      <td>0.993730</td>\n",
       "      <td>1.005747</td>\n",
       "      <td>1.000169</td>\n",
       "      <td>1.005844</td>\n",
       "      <td>1.002901</td>\n",
       "      <td>1.002704</td>\n",
       "      <td>1.014996</td>\n",
       "    </tr>\n",
       "    <tr>\n",
       "      <th>...</th>\n",
       "      <td>...</td>\n",
       "      <td>...</td>\n",
       "      <td>...</td>\n",
       "      <td>...</td>\n",
       "      <td>...</td>\n",
       "      <td>...</td>\n",
       "      <td>...</td>\n",
       "      <td>...</td>\n",
       "      <td>...</td>\n",
       "      <td>...</td>\n",
       "      <td>...</td>\n",
       "      <td>...</td>\n",
       "      <td>...</td>\n",
       "      <td>...</td>\n",
       "      <td>...</td>\n",
       "      <td>...</td>\n",
       "      <td>...</td>\n",
       "      <td>...</td>\n",
       "      <td>...</td>\n",
       "      <td>...</td>\n",
       "      <td>...</td>\n",
       "    </tr>\n",
       "    <tr>\n",
       "      <th>2516</th>\n",
       "      <td>1.428194</td>\n",
       "      <td>1.014129</td>\n",
       "      <td>2.011095</td>\n",
       "      <td>1.519636</td>\n",
       "      <td>1.838386</td>\n",
       "      <td>1.480004</td>\n",
       "      <td>1.353926</td>\n",
       "      <td>0.933991</td>\n",
       "      <td>1.303502</td>\n",
       "      <td>1.542178</td>\n",
       "      <td>...</td>\n",
       "      <td>1.419743</td>\n",
       "      <td>1.326207</td>\n",
       "      <td>1.443624</td>\n",
       "      <td>1.562659</td>\n",
       "      <td>1.209544</td>\n",
       "      <td>1.328077</td>\n",
       "      <td>1.403596</td>\n",
       "      <td>1.662199</td>\n",
       "      <td>1.335391</td>\n",
       "      <td>1.529470</td>\n",
       "    </tr>\n",
       "    <tr>\n",
       "      <th>2517</th>\n",
       "      <td>1.426785</td>\n",
       "      <td>1.021684</td>\n",
       "      <td>2.005156</td>\n",
       "      <td>1.515356</td>\n",
       "      <td>1.835218</td>\n",
       "      <td>1.482320</td>\n",
       "      <td>1.353458</td>\n",
       "      <td>0.937926</td>\n",
       "      <td>1.301022</td>\n",
       "      <td>1.548283</td>\n",
       "      <td>...</td>\n",
       "      <td>1.416430</td>\n",
       "      <td>1.330531</td>\n",
       "      <td>1.447407</td>\n",
       "      <td>1.554885</td>\n",
       "      <td>1.210548</td>\n",
       "      <td>1.333183</td>\n",
       "      <td>1.400721</td>\n",
       "      <td>1.665927</td>\n",
       "      <td>1.337043</td>\n",
       "      <td>1.529132</td>\n",
       "    </tr>\n",
       "    <tr>\n",
       "      <th>2518</th>\n",
       "      <td>1.427017</td>\n",
       "      <td>1.022452</td>\n",
       "      <td>2.007969</td>\n",
       "      <td>1.518254</td>\n",
       "      <td>1.835252</td>\n",
       "      <td>1.488087</td>\n",
       "      <td>1.366597</td>\n",
       "      <td>0.933778</td>\n",
       "      <td>1.298519</td>\n",
       "      <td>1.551195</td>\n",
       "      <td>...</td>\n",
       "      <td>1.419098</td>\n",
       "      <td>1.342271</td>\n",
       "      <td>1.442818</td>\n",
       "      <td>1.549562</td>\n",
       "      <td>1.214316</td>\n",
       "      <td>1.333634</td>\n",
       "      <td>1.399641</td>\n",
       "      <td>1.668653</td>\n",
       "      <td>1.333154</td>\n",
       "      <td>1.522530</td>\n",
       "    </tr>\n",
       "    <tr>\n",
       "      <th>2519</th>\n",
       "      <td>1.424113</td>\n",
       "      <td>1.022695</td>\n",
       "      <td>2.020783</td>\n",
       "      <td>1.511017</td>\n",
       "      <td>1.837061</td>\n",
       "      <td>1.488548</td>\n",
       "      <td>1.361396</td>\n",
       "      <td>0.931624</td>\n",
       "      <td>1.298962</td>\n",
       "      <td>1.540420</td>\n",
       "      <td>...</td>\n",
       "      <td>1.415293</td>\n",
       "      <td>1.342304</td>\n",
       "      <td>1.441780</td>\n",
       "      <td>1.555512</td>\n",
       "      <td>1.221972</td>\n",
       "      <td>1.334382</td>\n",
       "      <td>1.399859</td>\n",
       "      <td>1.672014</td>\n",
       "      <td>1.338222</td>\n",
       "      <td>1.517140</td>\n",
       "    </tr>\n",
       "    <tr>\n",
       "      <th>2520</th>\n",
       "      <td>1.422119</td>\n",
       "      <td>1.013198</td>\n",
       "      <td>2.027825</td>\n",
       "      <td>1.511942</td>\n",
       "      <td>1.828432</td>\n",
       "      <td>1.485661</td>\n",
       "      <td>1.362464</td>\n",
       "      <td>0.935238</td>\n",
       "      <td>1.292996</td>\n",
       "      <td>1.533959</td>\n",
       "      <td>...</td>\n",
       "      <td>1.416091</td>\n",
       "      <td>1.346563</td>\n",
       "      <td>1.438066</td>\n",
       "      <td>1.553153</td>\n",
       "      <td>1.215344</td>\n",
       "      <td>1.332933</td>\n",
       "      <td>1.403235</td>\n",
       "      <td>1.673217</td>\n",
       "      <td>1.343449</td>\n",
       "      <td>1.517010</td>\n",
       "    </tr>\n",
       "  </tbody>\n",
       "</table>\n",
       "<p>2521 rows × 100 columns</p>\n",
       "</div>"
      ],
      "text/plain": [
       "            0         1         2         3         4         5         6   \\\n",
       "0     1.000000  1.000000  1.000000  1.000000  1.000000  1.000000  1.000000   \n",
       "1     1.000802  1.001741  1.003059  0.997947  1.002585  1.000542  1.005256   \n",
       "2     1.001490  0.998057  0.995229  1.000237  1.003871  1.003485  1.005722   \n",
       "3     1.004995  1.000641  0.997746  1.002489  1.001839  0.999864  1.002561   \n",
       "4     1.003735  0.997888  0.997399  1.004124  1.001034  1.000588  0.996478   \n",
       "...        ...       ...       ...       ...       ...       ...       ...   \n",
       "2516  1.428194  1.014129  2.011095  1.519636  1.838386  1.480004  1.353926   \n",
       "2517  1.426785  1.021684  2.005156  1.515356  1.835218  1.482320  1.353458   \n",
       "2518  1.427017  1.022452  2.007969  1.518254  1.835252  1.488087  1.366597   \n",
       "2519  1.424113  1.022695  2.020783  1.511017  1.837061  1.488548  1.361396   \n",
       "2520  1.422119  1.013198  2.027825  1.511942  1.828432  1.485661  1.362464   \n",
       "\n",
       "            7         8         9   ...        90        91        92  \\\n",
       "0     1.000000  1.000000  1.000000  ...  1.000000  1.000000  1.000000   \n",
       "1     0.995414  1.005288  0.995829  ...  1.002207  1.003048  1.003781   \n",
       "2     0.997378  1.010117  0.993016  ...  1.005351  1.007656  1.003749   \n",
       "3     0.996951  1.008223  0.993000  ...  1.011931  1.007359  0.995696   \n",
       "4     0.992013  1.001026  0.995725  ...  1.017247  1.005280  0.995034   \n",
       "...        ...       ...       ...  ...       ...       ...       ...   \n",
       "2516  0.933991  1.303502  1.542178  ...  1.419743  1.326207  1.443624   \n",
       "2517  0.937926  1.301022  1.548283  ...  1.416430  1.330531  1.447407   \n",
       "2518  0.933778  1.298519  1.551195  ...  1.419098  1.342271  1.442818   \n",
       "2519  0.931624  1.298962  1.540420  ...  1.415293  1.342304  1.441780   \n",
       "2520  0.935238  1.292996  1.533959  ...  1.416091  1.346563  1.438066   \n",
       "\n",
       "            93        94        95        96        97        98        99  \n",
       "0     1.000000  1.000000  1.000000  1.000000  1.000000  1.000000  1.000000  \n",
       "1     1.000306  1.001729  1.003233  1.001062  1.001598  1.002855  1.008670  \n",
       "2     0.996594  1.006602  0.997490  1.005502  1.006260  0.998882  1.011721  \n",
       "3     0.996418  1.007169  0.993709  1.001373  1.001344  1.000017  1.015944  \n",
       "4     0.993730  1.005747  1.000169  1.005844  1.002901  1.002704  1.014996  \n",
       "...        ...       ...       ...       ...       ...       ...       ...  \n",
       "2516  1.562659  1.209544  1.328077  1.403596  1.662199  1.335391  1.529470  \n",
       "2517  1.554885  1.210548  1.333183  1.400721  1.665927  1.337043  1.529132  \n",
       "2518  1.549562  1.214316  1.333634  1.399641  1.668653  1.333154  1.522530  \n",
       "2519  1.555512  1.221972  1.334382  1.399859  1.672014  1.338222  1.517140  \n",
       "2520  1.553153  1.215344  1.332933  1.403235  1.673217  1.343449  1.517010  \n",
       "\n",
       "[2521 rows x 100 columns]"
      ]
     },
     "execution_count": 14,
     "metadata": {},
     "output_type": "execute_result"
    }
   ],
   "source": [
    "# Run Monte Carlo simulations to forecast one year daily returns\n",
    "MC_ETF.calc_cumulative_return()"
   ]
  },
  {
   "cell_type": "code",
   "execution_count": 15,
   "id": "f3fb24eb-7bdb-4782-88d3-d159420d3b92",
   "metadata": {},
   "outputs": [
    {
     "data": {
      "image/png": "[encoded data removed]",
      "text/plain": [
       "<Figure size 432x288 with 1 Axes>"
      ]
     },
     "metadata": {
      "needs_background": "light"
     },
     "output_type": "display_data"
    }
   ],
   "source": [
    "# Plot simulation outcomes\n",
    "line_plot = MC_ETF.plot_simulation()"
   ]
  },
  {
   "cell_type": "code",
   "execution_count": 16,
   "id": "5c004698-2471-40ea-ac25-f2fbecfa0edd",
   "metadata": {},
   "outputs": [
    {
     "data": {
      "text/html": [
       "<div>\n",
       "<style scoped>\n",
       "    .dataframe tbody tr th:only-of-type {\n",
       "        vertical-align: middle;\n",
       "    }\n",
       "\n",
       "    .dataframe tbody tr th {\n",
       "        vertical-align: top;\n",
       "    }\n",
       "\n",
       "    .dataframe thead th {\n",
       "        text-align: right;\n",
       "    }\n",
       "</style>\n",
       "<table border=\"1\" class=\"dataframe\">\n",
       "  <thead>\n",
       "    <tr style=\"text-align: right;\">\n",
       "      <th></th>\n",
       "      <th>mean</th>\n",
       "      <th>median</th>\n",
       "      <th>min</th>\n",
       "      <th>max</th>\n",
       "    </tr>\n",
       "  </thead>\n",
       "  <tbody>\n",
       "    <tr>\n",
       "      <th>0</th>\n",
       "      <td>1.000000</td>\n",
       "      <td>1.000000</td>\n",
       "      <td>1.000000</td>\n",
       "      <td>1.000000</td>\n",
       "    </tr>\n",
       "    <tr>\n",
       "      <th>1</th>\n",
       "      <td>1.000445</td>\n",
       "      <td>1.000601</td>\n",
       "      <td>0.990395</td>\n",
       "      <td>1.008670</td>\n",
       "    </tr>\n",
       "    <tr>\n",
       "      <th>2</th>\n",
       "      <td>1.001173</td>\n",
       "      <td>1.001574</td>\n",
       "      <td>0.986733</td>\n",
       "      <td>1.016899</td>\n",
       "    </tr>\n",
       "    <tr>\n",
       "      <th>3</th>\n",
       "      <td>1.000540</td>\n",
       "      <td>1.000716</td>\n",
       "      <td>0.977342</td>\n",
       "      <td>1.015944</td>\n",
       "    </tr>\n",
       "    <tr>\n",
       "      <th>4</th>\n",
       "      <td>1.000367</td>\n",
       "      <td>1.000598</td>\n",
       "      <td>0.983031</td>\n",
       "      <td>1.018313</td>\n",
       "    </tr>\n",
       "    <tr>\n",
       "      <th>...</th>\n",
       "      <td>...</td>\n",
       "      <td>...</td>\n",
       "      <td>...</td>\n",
       "      <td>...</td>\n",
       "    </tr>\n",
       "    <tr>\n",
       "      <th>2516</th>\n",
       "      <td>1.347662</td>\n",
       "      <td>1.338726</td>\n",
       "      <td>0.880579</td>\n",
       "      <td>2.265919</td>\n",
       "    </tr>\n",
       "    <tr>\n",
       "      <th>2517</th>\n",
       "      <td>1.347257</td>\n",
       "      <td>1.337703</td>\n",
       "      <td>0.876201</td>\n",
       "      <td>2.257808</td>\n",
       "    </tr>\n",
       "    <tr>\n",
       "      <th>2518</th>\n",
       "      <td>1.347102</td>\n",
       "      <td>1.339922</td>\n",
       "      <td>0.868421</td>\n",
       "      <td>2.253774</td>\n",
       "    </tr>\n",
       "    <tr>\n",
       "      <th>2519</th>\n",
       "      <td>1.346997</td>\n",
       "      <td>1.340438</td>\n",
       "      <td>0.868988</td>\n",
       "      <td>2.257286</td>\n",
       "    </tr>\n",
       "    <tr>\n",
       "      <th>2520</th>\n",
       "      <td>1.346491</td>\n",
       "      <td>1.337380</td>\n",
       "      <td>0.871113</td>\n",
       "      <td>2.248494</td>\n",
       "    </tr>\n",
       "  </tbody>\n",
       "</table>\n",
       "<p>2521 rows × 4 columns</p>\n",
       "</div>"
      ],
      "text/plain": [
       "          mean    median       min       max\n",
       "0     1.000000  1.000000  1.000000  1.000000\n",
       "1     1.000445  1.000601  0.990395  1.008670\n",
       "2     1.001173  1.001574  0.986733  1.016899\n",
       "3     1.000540  1.000716  0.977342  1.015944\n",
       "4     1.000367  1.000598  0.983031  1.018313\n",
       "...        ...       ...       ...       ...\n",
       "2516  1.347662  1.338726  0.880579  2.265919\n",
       "2517  1.347257  1.337703  0.876201  2.257808\n",
       "2518  1.347102  1.339922  0.868421  2.253774\n",
       "2519  1.346997  1.340438  0.868988  2.257286\n",
       "2520  1.346491  1.337380  0.871113  2.248494\n",
       "\n",
       "[2521 rows x 4 columns]"
      ]
     },
     "execution_count": 16,
     "metadata": {},
     "output_type": "execute_result"
    }
   ],
   "source": [
    "# Compute summary statistics from the simulated daily returns\n",
    "simulated_returns_data = {\n",
    "    \"mean\": list(MC_ETF.simulated_return.mean(axis=1)),\n",
    "    \"median\": list(MC_ETF.simulated_return.median(axis=1)),\n",
    "    \"min\": list(MC_ETF.simulated_return.min(axis=1)),\n",
    "    \"max\": list(MC_ETF.simulated_return.max(axis=1))\n",
    "}\n",
    "\n",
    "# Create a DataFrame with the summary statistics\n",
    "df_simulated_returns = pd.DataFrame(simulated_returns_data)\n",
    "\n",
    "# Display sample data\n",
    "df_simulated_returns"
   ]
  },
  {
   "cell_type": "code",
   "execution_count": 17,
   "id": "2d27fc6b-254e-4a05-805c-a061aeabcd38",
   "metadata": {},
   "outputs": [
    {
     "data": {
      "text/plain": [
       "<AxesSubplot:title={'center':'Simulated Daily Returns Behavior of ETF Portfolio'}>"
      ]
     },
     "execution_count": 17,
     "metadata": {},
     "output_type": "execute_result"
    },
    {
     "data": {
      "image/png": "[encoded data removed]",
      "text/plain": [
       "<Figure size 432x288 with 1 Axes>"
      ]
     },
     "metadata": {
      "needs_background": "light"
     },
     "output_type": "display_data"
    }
   ],
   "source": [
    "# Use the `plot` function to visually analyze the trajectory of AAPL stock daily returns on a 252 trading day simulation\n",
    "df_simulated_returns.plot(title=\"Simulated Daily Returns Behavior of ETF Portfolio\")"
   ]
  },
  {
   "cell_type": "code",
   "execution_count": 18,
   "id": "ceb59ca2-d81b-41ce-8168-a57808a24d73",
   "metadata": {},
   "outputs": [],
   "source": [
    "# Set initial investment\n",
    "# Use widget to set investment amount\n"
   ]
  },
  {
   "cell_type": "code",
   "execution_count": 19,
   "id": "681e8e91-8c6d-4326-a246-d9909844bbb2",
   "metadata": {},
   "outputs": [
    {
     "data": {
      "application/vnd.jupyter.widget-view+json": {
       "model_id": "d338d6e3560a40478fc9e60104d11fa6",
       "version_major": 2,
       "version_minor": 0
      },
      "text/plain": [
       "IntSlider(value=1000, continuous_update=False, description='Investment:', max=1000000, min=1000, step=1000)"
      ]
     },
     "metadata": {},
     "output_type": "display_data"
    }
   ],
   "source": [
    "investment=widgets.IntSlider(\n",
    "    value=10,\n",
    "    min=1000,\n",
    "    max=1000000,\n",
    "    step=1000,\n",
    "    description='Investment:',\n",
    "    disabled=False,\n",
    "    continuous_update=False,\n",
    "    orientation='horizontal',\n",
    "    readout=True,\n",
    "    readout_format='d'\n",
    ")\n",
    "\n",
    "display(investment)"
   ]
  },
  {
   "cell_type": "code",
   "execution_count": 20,
   "id": "031fbba6-8a39-46eb-a02d-53e02376d06c",
   "metadata": {},
   "outputs": [
    {
     "name": "stdout",
     "output_type": "stream",
     "text": [
      "1000\n"
     ]
    }
   ],
   "source": [
    "investment = int(investment.value)\n",
    "print(investment)"
   ]
  },
  {
   "cell_type": "code",
   "execution_count": 21,
   "id": "8c96ff28-87bc-4a03-b773-97d82b1b9665",
   "metadata": {},
   "outputs": [
    {
     "data": {
      "text/html": [
       "<div>\n",
       "<style scoped>\n",
       "    .dataframe tbody tr th:only-of-type {\n",
       "        vertical-align: middle;\n",
       "    }\n",
       "\n",
       "    .dataframe tbody tr th {\n",
       "        vertical-align: top;\n",
       "    }\n",
       "\n",
       "    .dataframe thead th {\n",
       "        text-align: right;\n",
       "    }\n",
       "</style>\n",
       "<table border=\"1\" class=\"dataframe\">\n",
       "  <thead>\n",
       "    <tr style=\"text-align: right;\">\n",
       "      <th></th>\n",
       "      <th>mean</th>\n",
       "      <th>median</th>\n",
       "      <th>min</th>\n",
       "      <th>max</th>\n",
       "    </tr>\n",
       "  </thead>\n",
       "  <tbody>\n",
       "    <tr>\n",
       "      <th>0</th>\n",
       "      <td>1000.000000</td>\n",
       "      <td>1000.000000</td>\n",
       "      <td>1000.000000</td>\n",
       "      <td>1000.000000</td>\n",
       "    </tr>\n",
       "    <tr>\n",
       "      <th>1</th>\n",
       "      <td>1000.444911</td>\n",
       "      <td>1000.600599</td>\n",
       "      <td>990.395451</td>\n",
       "      <td>1008.669601</td>\n",
       "    </tr>\n",
       "    <tr>\n",
       "      <th>2</th>\n",
       "      <td>1001.172683</td>\n",
       "      <td>1001.574035</td>\n",
       "      <td>986.732754</td>\n",
       "      <td>1016.899113</td>\n",
       "    </tr>\n",
       "    <tr>\n",
       "      <th>3</th>\n",
       "      <td>1000.539788</td>\n",
       "      <td>1000.715844</td>\n",
       "      <td>977.342288</td>\n",
       "      <td>1015.944110</td>\n",
       "    </tr>\n",
       "    <tr>\n",
       "      <th>4</th>\n",
       "      <td>1000.367369</td>\n",
       "      <td>1000.598252</td>\n",
       "      <td>983.031365</td>\n",
       "      <td>1018.312730</td>\n",
       "    </tr>\n",
       "    <tr>\n",
       "      <th>...</th>\n",
       "      <td>...</td>\n",
       "      <td>...</td>\n",
       "      <td>...</td>\n",
       "      <td>...</td>\n",
       "    </tr>\n",
       "    <tr>\n",
       "      <th>2516</th>\n",
       "      <td>1347.662354</td>\n",
       "      <td>1338.725550</td>\n",
       "      <td>880.578553</td>\n",
       "      <td>2265.919069</td>\n",
       "    </tr>\n",
       "    <tr>\n",
       "      <th>2517</th>\n",
       "      <td>1347.256936</td>\n",
       "      <td>1337.702505</td>\n",
       "      <td>876.200531</td>\n",
       "      <td>2257.808057</td>\n",
       "    </tr>\n",
       "    <tr>\n",
       "      <th>2518</th>\n",
       "      <td>1347.101605</td>\n",
       "      <td>1339.922181</td>\n",
       "      <td>868.421143</td>\n",
       "      <td>2253.773689</td>\n",
       "    </tr>\n",
       "    <tr>\n",
       "      <th>2519</th>\n",
       "      <td>1346.997010</td>\n",
       "      <td>1340.438060</td>\n",
       "      <td>868.987810</td>\n",
       "      <td>2257.286331</td>\n",
       "    </tr>\n",
       "    <tr>\n",
       "      <th>2520</th>\n",
       "      <td>1346.490909</td>\n",
       "      <td>1337.380107</td>\n",
       "      <td>871.113195</td>\n",
       "      <td>2248.493714</td>\n",
       "    </tr>\n",
       "  </tbody>\n",
       "</table>\n",
       "<p>2521 rows × 4 columns</p>\n",
       "</div>"
      ],
      "text/plain": [
       "             mean       median          min          max\n",
       "0     1000.000000  1000.000000  1000.000000  1000.000000\n",
       "1     1000.444911  1000.600599   990.395451  1008.669601\n",
       "2     1001.172683  1001.574035   986.732754  1016.899113\n",
       "3     1000.539788  1000.715844   977.342288  1015.944110\n",
       "4     1000.367369  1000.598252   983.031365  1018.312730\n",
       "...           ...          ...          ...          ...\n",
       "2516  1347.662354  1338.725550   880.578553  2265.919069\n",
       "2517  1347.256936  1337.702505   876.200531  2257.808057\n",
       "2518  1347.101605  1339.922181   868.421143  2253.773689\n",
       "2519  1346.997010  1340.438060   868.987810  2257.286331\n",
       "2520  1346.490909  1337.380107   871.113195  2248.493714\n",
       "\n",
       "[2521 rows x 4 columns]"
      ]
     },
     "execution_count": 21,
     "metadata": {},
     "output_type": "execute_result"
    }
   ],
   "source": [
    "# Set initial investment\n",
    "initial_investment = investment\n",
    "\n",
    "# Multiply an initial investment by the daily returns of simulative stock prices to return the progression of daily returns in terms of money\n",
    "cumulative_pnl = initial_investment * df_simulated_returns\n",
    "\n",
    "# Display sample data\n",
    "cumulative_pnl"
   ]
  },
  {
   "cell_type": "code",
   "execution_count": 22,
   "id": "6288eaac-4ee0-4ed5-a825-e74550b9bcb7",
   "metadata": {},
   "outputs": [
    {
     "data": {
      "text/plain": [
       "<AxesSubplot:title={'center':'Simulated Outcomes Behavior of ETF Portfolio'}>"
      ]
     },
     "execution_count": 22,
     "metadata": {},
     "output_type": "execute_result"
    },
    {
     "data": {
      "image/png": "[encoded data removed]",
      "text/plain": [
       "<Figure size 432x288 with 1 Axes>"
      ]
     },
     "metadata": {
      "needs_background": "light"
     },
     "output_type": "display_data"
    }
   ],
   "source": [
    "# Use the 'plot' function to create a chart of the simulated profits/losses\n",
    "cumulative_pnl.plot(title=\"Simulated Outcomes Behavior of ETF Portfolio\")"
   ]
  },
  {
   "cell_type": "code",
   "execution_count": 23,
   "id": "0fc002e4-1a34-4215-8929-88da5ddd5bfb",
   "metadata": {},
   "outputs": [
    {
     "name": "stdout",
     "output_type": "stream",
     "text": [
      "count           100.000000\n",
      "mean              1.346491\n",
      "std               0.261716\n",
      "min               0.871113\n",
      "25%               1.132687\n",
      "50%               1.337380\n",
      "75%               1.517867\n",
      "max               2.248494\n",
      "95% CI Lower      0.943037\n",
      "95% CI Upper      1.913781\n",
      "Name: 2520, dtype: float64\n"
     ]
    }
   ],
   "source": [
    "# Fetch summary statistics from the Monte Carlo simulation results\n",
    "tbl = MC_ETF.summarize_cumulative_return()\n",
    "\n",
    "# Print summary statistics\n",
    "print(tbl)"
   ]
  },
  {
   "cell_type": "code",
   "execution_count": 24,
   "id": "80fb971f-070f-4abd-8a9c-40f0932f79d8",
   "metadata": {},
   "outputs": [
    {
     "name": "stdout",
     "output_type": "stream",
     "text": [
      "There is a 95% chance that an initial investment of $1,000.00 in the portfolio over the next year will end within in the range of $943.04 and $1,913.78.\n"
     ]
    }
   ],
   "source": [
    "# Use the lower and upper `95%` confidence intervals to calculate the range of the possible outcomes of our $10,000 investments in ETF portfolio\n",
    "# Bridge back to Widget for initial investment\n",
    "ci_lower = tbl[8]* investment\n",
    "ci_upper = tbl[9]* investment\n",
    "\n",
    "# Print results\n",
    "print(f\"There is a 95% chance that an initial investment of ${initial_investment:,.2f} in the portfolio\"\n",
    "      f\" over the next year will end within in the range of\"\n",
    "      f\" ${ci_lower:,.2f} and ${ci_upper:,.2f}.\")"
   ]
  },
  {
   "cell_type": "code",
   "execution_count": 25,
   "id": "af06d593-d2ef-444d-8f80-253fd2d572a3",
   "metadata": {},
   "outputs": [
    {
     "data": {
      "text/html": [
       "<div>\n",
       "<style scoped>\n",
       "    .dataframe tbody tr th:only-of-type {\n",
       "        vertical-align: middle;\n",
       "    }\n",
       "\n",
       "    .dataframe tbody tr th {\n",
       "        vertical-align: top;\n",
       "    }\n",
       "\n",
       "    .dataframe thead th {\n",
       "        text-align: right;\n",
       "    }\n",
       "</style>\n",
       "<table border=\"1\" class=\"dataframe\">\n",
       "  <thead>\n",
       "    <tr style=\"text-align: right;\">\n",
       "      <th></th>\n",
       "      <th>AGG</th>\n",
       "    </tr>\n",
       "  </thead>\n",
       "  <tbody>\n",
       "    <tr>\n",
       "      <th>2018-08-23</th>\n",
       "      <td>106.62</td>\n",
       "    </tr>\n",
       "    <tr>\n",
       "      <th>2018-08-24</th>\n",
       "      <td>106.72</td>\n",
       "    </tr>\n",
       "    <tr>\n",
       "      <th>2018-08-27</th>\n",
       "      <td>106.59</td>\n",
       "    </tr>\n",
       "    <tr>\n",
       "      <th>2018-08-28</th>\n",
       "      <td>106.38</td>\n",
       "    </tr>\n",
       "    <tr>\n",
       "      <th>2018-08-29</th>\n",
       "      <td>106.36</td>\n",
       "    </tr>\n",
       "  </tbody>\n",
       "</table>\n",
       "</div>"
      ],
      "text/plain": [
       "               AGG\n",
       "2018-08-23  106.62\n",
       "2018-08-24  106.72\n",
       "2018-08-27  106.59\n",
       "2018-08-28  106.38\n",
       "2018-08-29  106.36"
      ]
     },
     "execution_count": 25,
     "metadata": {},
     "output_type": "execute_result"
    }
   ],
   "source": [
    "# Creating a DataFrame that holds the closing prices for each ETF and dropping the time component from the index\n",
    "closing_prices_df= pd.DataFrame()\n",
    "\n",
    "for ticker in tickers:\n",
    "    closing_prices_df[ticker]=alpaca_df[ticker][\"close\"]\n",
    "    \n",
    "closing_prices_df.index= closing_prices_df.index.date\n",
    "closing_prices_df.head()"
   ]
  },
  {
   "cell_type": "code",
   "execution_count": 26,
   "id": "78a92b64-23a9-4432-92f0-902d3925a904",
   "metadata": {},
   "outputs": [
    {
     "data": {
      "text/html": [
       "<div>\n",
       "<style scoped>\n",
       "    .dataframe tbody tr th:only-of-type {\n",
       "        vertical-align: middle;\n",
       "    }\n",
       "\n",
       "    .dataframe tbody tr th {\n",
       "        vertical-align: top;\n",
       "    }\n",
       "\n",
       "    .dataframe thead th {\n",
       "        text-align: right;\n",
       "    }\n",
       "</style>\n",
       "<table border=\"1\" class=\"dataframe\">\n",
       "  <thead>\n",
       "    <tr style=\"text-align: right;\">\n",
       "      <th></th>\n",
       "      <th>AGG</th>\n",
       "    </tr>\n",
       "  </thead>\n",
       "  <tbody>\n",
       "    <tr>\n",
       "      <th>2018-08-24</th>\n",
       "      <td>0.000938</td>\n",
       "    </tr>\n",
       "    <tr>\n",
       "      <th>2018-08-27</th>\n",
       "      <td>-0.001218</td>\n",
       "    </tr>\n",
       "    <tr>\n",
       "      <th>2018-08-28</th>\n",
       "      <td>-0.001970</td>\n",
       "    </tr>\n",
       "    <tr>\n",
       "      <th>2018-08-29</th>\n",
       "      <td>-0.000188</td>\n",
       "    </tr>\n",
       "    <tr>\n",
       "      <th>2018-08-30</th>\n",
       "      <td>0.000658</td>\n",
       "    </tr>\n",
       "  </tbody>\n",
       "</table>\n",
       "</div>"
      ],
      "text/plain": [
       "                 AGG\n",
       "2018-08-24  0.000938\n",
       "2018-08-27 -0.001218\n",
       "2018-08-28 -0.001970\n",
       "2018-08-29 -0.000188\n",
       "2018-08-30  0.000658"
      ]
     },
     "execution_count": 26,
     "metadata": {},
     "output_type": "execute_result"
    }
   ],
   "source": [
    "#Calculating daily returns and removing the rows of data that have missing values\n",
    "daily_returns= closing_prices_df.pct_change().dropna()\n",
    "daily_returns.head()"
   ]
  },
  {
   "cell_type": "code",
   "execution_count": 27,
   "id": "0c0134b1-ee45-4e52-af5c-4c3476d5e714",
   "metadata": {},
   "outputs": [
    {
     "data": {
      "text/html": [
       "<div>\n",
       "<style scoped>\n",
       "    .dataframe tbody tr th:only-of-type {\n",
       "        vertical-align: middle;\n",
       "    }\n",
       "\n",
       "    .dataframe tbody tr th {\n",
       "        vertical-align: top;\n",
       "    }\n",
       "\n",
       "    .dataframe thead th {\n",
       "        text-align: right;\n",
       "    }\n",
       "</style>\n",
       "<table border=\"1\" class=\"dataframe\">\n",
       "  <thead>\n",
       "    <tr style=\"text-align: right;\">\n",
       "      <th></th>\n",
       "      <th>AGG</th>\n",
       "    </tr>\n",
       "  </thead>\n",
       "  <tbody>\n",
       "    <tr>\n",
       "      <th>count</th>\n",
       "      <td>752.000000</td>\n",
       "    </tr>\n",
       "    <tr>\n",
       "      <th>mean</th>\n",
       "      <td>0.000120</td>\n",
       "    </tr>\n",
       "    <tr>\n",
       "      <th>std</th>\n",
       "      <td>0.003578</td>\n",
       "    </tr>\n",
       "    <tr>\n",
       "      <th>min</th>\n",
       "      <td>-0.040343</td>\n",
       "    </tr>\n",
       "    <tr>\n",
       "      <th>25%</th>\n",
       "      <td>-0.001093</td>\n",
       "    </tr>\n",
       "    <tr>\n",
       "      <th>50%</th>\n",
       "      <td>0.000186</td>\n",
       "    </tr>\n",
       "    <tr>\n",
       "      <th>75%</th>\n",
       "      <td>0.001424</td>\n",
       "    </tr>\n",
       "    <tr>\n",
       "      <th>max</th>\n",
       "      <td>0.027948</td>\n",
       "    </tr>\n",
       "  </tbody>\n",
       "</table>\n",
       "</div>"
      ],
      "text/plain": [
       "              AGG\n",
       "count  752.000000\n",
       "mean     0.000120\n",
       "std      0.003578\n",
       "min     -0.040343\n",
       "25%     -0.001093\n",
       "50%      0.000186\n",
       "75%      0.001424\n",
       "max      0.027948"
      ]
     },
     "execution_count": 27,
     "metadata": {},
     "output_type": "execute_result"
    }
   ],
   "source": [
    "#Creates a summary data of daily returns for each ETF\n",
    "daily_returns.describe()"
   ]
  },
  {
   "cell_type": "code",
   "execution_count": 28,
   "id": "c47f5c8d-adeb-4bf4-8a79-e7c57a6695e4",
   "metadata": {},
   "outputs": [
    {
     "ename": "AttributeError",
     "evalue": "'DataFrame' object has no attribute 'hvplot'",
     "output_type": "error",
     "traceback": [
      "\u001b[1;31m---------------------------------------------------------------------------\u001b[0m",
      "\u001b[1;31mAttributeError\u001b[0m                            Traceback (most recent call last)",
      "\u001b[1;32m<ipython-input-28-238c80b4f528>\u001b[0m in \u001b[0;36m<module>\u001b[1;34m\u001b[0m\n\u001b[0;32m      1\u001b[0m \u001b[1;31m# Daynamic visaulisation of daily returns for each ETF\u001b[0m\u001b[1;33m\u001b[0m\u001b[1;33m\u001b[0m\u001b[1;33m\u001b[0m\u001b[0m\n\u001b[1;32m----> 2\u001b[1;33m daily_returns.hvplot.box(title= \"ETF Daily Returns covering the period of last three years\", \n\u001b[0m\u001b[0;32m      3\u001b[0m                      \u001b[0mylabel\u001b[0m\u001b[1;33m=\u001b[0m \u001b[1;34m\"Daily Returns\"\u001b[0m\u001b[1;33m,\u001b[0m \u001b[0mxlabel\u001b[0m\u001b[1;33m=\u001b[0m \u001b[1;34m\"ETF Ticker\"\u001b[0m\u001b[1;33m,\u001b[0m \u001b[0msize\u001b[0m\u001b[1;33m=\u001b[0m\u001b[1;33m(\u001b[0m\u001b[1;36m30\u001b[0m\u001b[1;33m,\u001b[0m\u001b[1;36m15\u001b[0m\u001b[1;33m)\u001b[0m\u001b[1;33m\u001b[0m\u001b[1;33m\u001b[0m\u001b[0m\n\u001b[0;32m      4\u001b[0m )\n",
      "\u001b[1;32m~\\anaconda3\\lib\\site-packages\\pandas\\core\\generic.py\u001b[0m in \u001b[0;36m__getattr__\u001b[1;34m(self, name)\u001b[0m\n\u001b[0;32m   5463\u001b[0m             \u001b[1;32mif\u001b[0m \u001b[0mself\u001b[0m\u001b[1;33m.\u001b[0m\u001b[0m_info_axis\u001b[0m\u001b[1;33m.\u001b[0m\u001b[0m_can_hold_identifiers_and_holds_name\u001b[0m\u001b[1;33m(\u001b[0m\u001b[0mname\u001b[0m\u001b[1;33m)\u001b[0m\u001b[1;33m:\u001b[0m\u001b[1;33m\u001b[0m\u001b[1;33m\u001b[0m\u001b[0m\n\u001b[0;32m   5464\u001b[0m                 \u001b[1;32mreturn\u001b[0m \u001b[0mself\u001b[0m\u001b[1;33m[\u001b[0m\u001b[0mname\u001b[0m\u001b[1;33m]\u001b[0m\u001b[1;33m\u001b[0m\u001b[1;33m\u001b[0m\u001b[0m\n\u001b[1;32m-> 5465\u001b[1;33m             \u001b[1;32mreturn\u001b[0m \u001b[0mobject\u001b[0m\u001b[1;33m.\u001b[0m\u001b[0m__getattribute__\u001b[0m\u001b[1;33m(\u001b[0m\u001b[0mself\u001b[0m\u001b[1;33m,\u001b[0m \u001b[0mname\u001b[0m\u001b[1;33m)\u001b[0m\u001b[1;33m\u001b[0m\u001b[1;33m\u001b[0m\u001b[0m\n\u001b[0m\u001b[0;32m   5466\u001b[0m \u001b[1;33m\u001b[0m\u001b[0m\n\u001b[0;32m   5467\u001b[0m     \u001b[1;32mdef\u001b[0m \u001b[0m__setattr__\u001b[0m\u001b[1;33m(\u001b[0m\u001b[0mself\u001b[0m\u001b[1;33m,\u001b[0m \u001b[0mname\u001b[0m\u001b[1;33m:\u001b[0m \u001b[0mstr\u001b[0m\u001b[1;33m,\u001b[0m \u001b[0mvalue\u001b[0m\u001b[1;33m)\u001b[0m \u001b[1;33m->\u001b[0m \u001b[1;32mNone\u001b[0m\u001b[1;33m:\u001b[0m\u001b[1;33m\u001b[0m\u001b[1;33m\u001b[0m\u001b[0m\n",
      "\u001b[1;31mAttributeError\u001b[0m: 'DataFrame' object has no attribute 'hvplot'"
     ]
    }
   ],
   "source": [
    "# Daynamic visaulisation of daily returns for each ETF\n",
    "daily_returns.hvplot.box(title= \"ETF Daily Returns covering the period of last three years\", \n",
    "                     ylabel= \"Daily Returns\", xlabel= \"ETF Ticker\", size=(30,15)\n",
    ")"
   ]
  },
  {
   "cell_type": "code",
   "execution_count": null,
   "id": "0a86a873-fa1f-47ee-a8ad-1c0788658546",
   "metadata": {},
   "outputs": [],
   "source": [
    "# Calculcates The Cumulative Returns on an investment over the period of last 3 years\n",
    "cumulative_returns= (1+ daily_returns).cumprod()\n",
    "cumulative_returns.tail(1)"
   ]
  },
  {
   "cell_type": "code",
   "execution_count": null,
   "id": "34721c7a-6a9d-4f77-8b9d-63e7f41d403f",
   "metadata": {},
   "outputs": [],
   "source": [
    "# Dynamic visualisation of cumulative returns of all ETFS over the period of last 3 years\n",
    "cumulative_returns.hvplot(title= \"Cumulative returns of all ETFS the period of last three years\", \n",
    "                     ylabel= \"Daily Returns\", xlabel= \"Date\")"
   ]
  },
  {
   "cell_type": "code",
   "execution_count": null,
   "id": "30bc3d89-6004-4b83-8dec-5147ac4c8639",
   "metadata": {},
   "outputs": [],
   "source": [
    "# Evaluating the risk profile of each ETFs by calculating the standard deviation and sorting them in an ascending order.\n",
    "standard_deviation = daily_returns.std()\n",
    "standard_deviation.sort_values()\n",
    "display(standard_deviation)\n",
    "print(\n",
    "          f\"The *least* volatile ETF is {standard_deviation.index[0]} with a Standard Deviation of: {round(standard_deviation[0], 3)}\\n\"\n",
    "          f\"The *most* volatile ETF is {standard_deviation.index[-1]} with a Standard Deviation of: {round(standard_deviation[-1], 3)}\\n\"\n",
    "    )\n"
   ]
  },
  {
   "cell_type": "code",
   "execution_count": null,
   "id": "213fa322-9a2f-4119-af5a-e70c5ad461cd",
   "metadata": {},
   "outputs": [],
   "source": [
    "# Evaluating the risk profile of each ETFs by calculating the standard deviation and sorting them in an ascending order.\n",
    "annual_standard_deviation = standard_deviation * np.sqrt(252)\n",
    "annual_standard_deviation.sort_values()\n",
    "display(annual_standard_deviation)\n",
    "print(\n",
    "          f\"When annualised, The *least* volatile ETF is {annual_standard_deviation.index[0]} with a Standard Deviation of: {round(annual_standard_deviation[0], 3)}\\n\"\n",
    "          f\"When annualised, The *most* volatile ETF is {annual_standard_deviation.index[-1]} with a Standard Deviation of: {round(annual_standard_deviation[-1], 3)}\\n\"\n",
    "    )"
   ]
  },
  {
   "cell_type": "code",
   "execution_count": null,
   "id": "738f6970-733f-463e-9fb8-ff7de46b89bc",
   "metadata": {},
   "outputs": [],
   "source": [
    "# Calculates and plots a 30-day rolling standard deviation for all ETFs\n",
    "rolling_std = daily_returns.rolling(window = 30).std()\n",
    "rolling_std.plot(figsize= (20,10), \n",
    "                 title = '21-day rolling standard deviation for ETFs ')"
   ]
  },
  {
   "cell_type": "code",
   "execution_count": null,
   "id": "28276eb6-324b-4109-9665-284a0388e511",
   "metadata": {},
   "outputs": [],
   "source": [
    "\n",
    "daily_returns.sum(axis=0).divide(252).sort_values()"
   ]
  },
  {
   "cell_type": "code",
   "execution_count": 29,
   "id": "5972d282-9757-4719-bab0-17fbf10c09d8",
   "metadata": {},
   "outputs": [
    {
     "data": {
      "text/plain": [
       "AGG    0.100321\n",
       "dtype: float64"
      ]
     },
     "execution_count": 29,
     "metadata": {},
     "output_type": "execute_result"
    }
   ],
   "source": [
    "sharpe_ratio = (daily_returns.sum(axis=0).divide(252).sort_values())/(daily_returns.std(axis=0).sort_values())\n",
    "sharpe_ratio.head()"
   ]
  },
  {
   "cell_type": "code",
   "execution_count": 30,
   "id": "1e5c3393-2082-41de-a318-c454a5370432",
   "metadata": {},
   "outputs": [
    {
     "data": {
      "text/plain": [
       "<AxesSubplot:title={'center':'Sharpe Ratios'}>"
      ]
     },
     "execution_count": 30,
     "metadata": {},
     "output_type": "execute_result"
    },
    {
     "data": {
      "image/png": "[encoded data removed]",
      "text/plain": [
       "<Figure size 1512x504 with 1 Axes>"
      ]
     },
     "metadata": {
      "needs_background": "light"
     },
     "output_type": "display_data"
    }
   ],
   "source": [
    "\n",
    "sharpe_ratio.plot(title=\"Sharpe Ratios\", kind=\"bar\", figsize=(21,7))"
   ]
  },
  {
   "cell_type": "code",
   "execution_count": 31,
   "id": "e80db3d8-3b22-4c95-8d82-70a32f33c24c",
   "metadata": {},
   "outputs": [
    {
     "data": {
      "text/html": [
       "<div>\n",
       "<style scoped>\n",
       "    .dataframe tbody tr th:only-of-type {\n",
       "        vertical-align: middle;\n",
       "    }\n",
       "\n",
       "    .dataframe tbody tr th {\n",
       "        vertical-align: top;\n",
       "    }\n",
       "\n",
       "    .dataframe thead th {\n",
       "        text-align: right;\n",
       "    }\n",
       "</style>\n",
       "<table border=\"1\" class=\"dataframe\">\n",
       "  <thead>\n",
       "    <tr style=\"text-align: right;\">\n",
       "      <th></th>\n",
       "      <th>sp500</th>\n",
       "    </tr>\n",
       "    <tr>\n",
       "      <th>DATE</th>\n",
       "      <th></th>\n",
       "    </tr>\n",
       "  </thead>\n",
       "  <tbody>\n",
       "    <tr>\n",
       "      <th>2018-08-23</th>\n",
       "      <td>2856.98</td>\n",
       "    </tr>\n",
       "    <tr>\n",
       "      <th>2018-08-24</th>\n",
       "      <td>2874.69</td>\n",
       "    </tr>\n",
       "    <tr>\n",
       "      <th>2018-08-27</th>\n",
       "      <td>2896.74</td>\n",
       "    </tr>\n",
       "    <tr>\n",
       "      <th>2018-08-28</th>\n",
       "      <td>2897.52</td>\n",
       "    </tr>\n",
       "    <tr>\n",
       "      <th>2018-08-29</th>\n",
       "      <td>2914.04</td>\n",
       "    </tr>\n",
       "    <tr>\n",
       "      <th>...</th>\n",
       "      <td>...</td>\n",
       "    </tr>\n",
       "    <tr>\n",
       "      <th>2021-08-16</th>\n",
       "      <td>4479.71</td>\n",
       "    </tr>\n",
       "    <tr>\n",
       "      <th>2021-08-17</th>\n",
       "      <td>4448.08</td>\n",
       "    </tr>\n",
       "    <tr>\n",
       "      <th>2021-08-18</th>\n",
       "      <td>4400.27</td>\n",
       "    </tr>\n",
       "    <tr>\n",
       "      <th>2021-08-19</th>\n",
       "      <td>4405.80</td>\n",
       "    </tr>\n",
       "    <tr>\n",
       "      <th>2021-08-20</th>\n",
       "      <td>4441.67</td>\n",
       "    </tr>\n",
       "  </tbody>\n",
       "</table>\n",
       "<p>782 rows × 1 columns</p>\n",
       "</div>"
      ],
      "text/plain": [
       "              sp500\n",
       "DATE               \n",
       "2018-08-23  2856.98\n",
       "2018-08-24  2874.69\n",
       "2018-08-27  2896.74\n",
       "2018-08-28  2897.52\n",
       "2018-08-29  2914.04\n",
       "...             ...\n",
       "2021-08-16  4479.71\n",
       "2021-08-17  4448.08\n",
       "2021-08-18  4400.27\n",
       "2021-08-19  4405.80\n",
       "2021-08-20  4441.67\n",
       "\n",
       "[782 rows x 1 columns]"
      ]
     },
     "execution_count": 31,
     "metadata": {},
     "output_type": "execute_result"
    }
   ],
   "source": [
    "start_date1 = pd.Timestamp(three_years_ago).isoformat()\n",
    "end_date1 = pd.Timestamp(today).isoformat()\n",
    "                       \n",
    "sp500_df = web.DataReader(['sp500'], 'fred', start_date1, end_date1)\n",
    "sp500_df"
   ]
  },
  {
   "cell_type": "code",
   "execution_count": 32,
   "id": "021d0fe7-ab30-41be-9022-3dc46696af09",
   "metadata": {},
   "outputs": [
    {
     "data": {
      "text/html": [
       "<div>\n",
       "<style scoped>\n",
       "    .dataframe tbody tr th:only-of-type {\n",
       "        vertical-align: middle;\n",
       "    }\n",
       "\n",
       "    .dataframe tbody tr th {\n",
       "        vertical-align: top;\n",
       "    }\n",
       "\n",
       "    .dataframe thead th {\n",
       "        text-align: right;\n",
       "    }\n",
       "</style>\n",
       "<table border=\"1\" class=\"dataframe\">\n",
       "  <thead>\n",
       "    <tr style=\"text-align: right;\">\n",
       "      <th></th>\n",
       "      <th>sp500</th>\n",
       "    </tr>\n",
       "    <tr>\n",
       "      <th>DATE</th>\n",
       "      <th></th>\n",
       "    </tr>\n",
       "  </thead>\n",
       "  <tbody>\n",
       "    <tr>\n",
       "      <th>2018-08-24</th>\n",
       "      <td>0.006199</td>\n",
       "    </tr>\n",
       "    <tr>\n",
       "      <th>2018-08-27</th>\n",
       "      <td>0.007670</td>\n",
       "    </tr>\n",
       "    <tr>\n",
       "      <th>2018-08-28</th>\n",
       "      <td>0.000269</td>\n",
       "    </tr>\n",
       "    <tr>\n",
       "      <th>2018-08-29</th>\n",
       "      <td>0.005701</td>\n",
       "    </tr>\n",
       "    <tr>\n",
       "      <th>2018-08-30</th>\n",
       "      <td>-0.004430</td>\n",
       "    </tr>\n",
       "  </tbody>\n",
       "</table>\n",
       "</div>"
      ],
      "text/plain": [
       "               sp500\n",
       "DATE                \n",
       "2018-08-24  0.006199\n",
       "2018-08-27  0.007670\n",
       "2018-08-28  0.000269\n",
       "2018-08-29  0.005701\n",
       "2018-08-30 -0.004430"
      ]
     },
     "execution_count": 32,
     "metadata": {},
     "output_type": "execute_result"
    }
   ],
   "source": [
    "\n",
    "daily_sp500_returns_df = sp500_df.pct_change().dropna()\n",
    "daily_sp500_returns_df.head()"
   ]
  },
  {
   "cell_type": "code",
   "execution_count": 33,
   "id": "d3df1620-73b2-4e86-9ccf-1341d23c711f",
   "metadata": {},
   "outputs": [
    {
     "data": {
      "text/html": [
       "<div>\n",
       "<style scoped>\n",
       "    .dataframe tbody tr th:only-of-type {\n",
       "        vertical-align: middle;\n",
       "    }\n",
       "\n",
       "    .dataframe tbody tr th {\n",
       "        vertical-align: top;\n",
       "    }\n",
       "\n",
       "    .dataframe thead th {\n",
       "        text-align: right;\n",
       "    }\n",
       "</style>\n",
       "<table border=\"1\" class=\"dataframe\">\n",
       "  <thead>\n",
       "    <tr style=\"text-align: right;\">\n",
       "      <th></th>\n",
       "      <th>sp500</th>\n",
       "    </tr>\n",
       "    <tr>\n",
       "      <th>DATE</th>\n",
       "      <th></th>\n",
       "    </tr>\n",
       "  </thead>\n",
       "  <tbody>\n",
       "    <tr>\n",
       "      <th>2018-08-30</th>\n",
       "      <td>0.000025</td>\n",
       "    </tr>\n",
       "    <tr>\n",
       "      <th>2018-08-31</th>\n",
       "      <td>0.000023</td>\n",
       "    </tr>\n",
       "    <tr>\n",
       "      <th>2018-09-03</th>\n",
       "      <td>0.000013</td>\n",
       "    </tr>\n",
       "    <tr>\n",
       "      <th>2018-09-04</th>\n",
       "      <td>0.000014</td>\n",
       "    </tr>\n",
       "    <tr>\n",
       "      <th>2018-09-05</th>\n",
       "      <td>0.000004</td>\n",
       "    </tr>\n",
       "  </tbody>\n",
       "</table>\n",
       "</div>"
      ],
      "text/plain": [
       "               sp500\n",
       "DATE                \n",
       "2018-08-30  0.000025\n",
       "2018-08-31  0.000023\n",
       "2018-09-03  0.000013\n",
       "2018-09-04  0.000014\n",
       "2018-09-05  0.000004"
      ]
     },
     "execution_count": 33,
     "metadata": {},
     "output_type": "execute_result"
    }
   ],
   "source": [
    "\n",
    "daily_sp500_returns_var = daily_sp500_returns_df.rolling(5).var().dropna()\n",
    "daily_sp500_returns_var.head()"
   ]
  },
  {
   "cell_type": "code",
   "execution_count": 35,
   "id": "cf1c7b4a-7696-4f41-8dc3-e3b30a8c8fda",
   "metadata": {},
   "outputs": [
    {
     "ename": "KeyError",
     "evalue": "'QQQ'",
     "output_type": "error",
     "traceback": [
      "\u001b[1;31m---------------------------------------------------------------------------\u001b[0m",
      "\u001b[1;31mKeyError\u001b[0m                                  Traceback (most recent call last)",
      "\u001b[1;32m~\\anaconda3\\lib\\site-packages\\pandas\\core\\indexes\\base.py\u001b[0m in \u001b[0;36mget_loc\u001b[1;34m(self, key, method, tolerance)\u001b[0m\n\u001b[0;32m   3079\u001b[0m             \u001b[1;32mtry\u001b[0m\u001b[1;33m:\u001b[0m\u001b[1;33m\u001b[0m\u001b[1;33m\u001b[0m\u001b[0m\n\u001b[1;32m-> 3080\u001b[1;33m                 \u001b[1;32mreturn\u001b[0m \u001b[0mself\u001b[0m\u001b[1;33m.\u001b[0m\u001b[0m_engine\u001b[0m\u001b[1;33m.\u001b[0m\u001b[0mget_loc\u001b[0m\u001b[1;33m(\u001b[0m\u001b[0mcasted_key\u001b[0m\u001b[1;33m)\u001b[0m\u001b[1;33m\u001b[0m\u001b[1;33m\u001b[0m\u001b[0m\n\u001b[0m\u001b[0;32m   3081\u001b[0m             \u001b[1;32mexcept\u001b[0m \u001b[0mKeyError\u001b[0m \u001b[1;32mas\u001b[0m \u001b[0merr\u001b[0m\u001b[1;33m:\u001b[0m\u001b[1;33m\u001b[0m\u001b[1;33m\u001b[0m\u001b[0m\n",
      "\u001b[1;32mpandas\\_libs\\index.pyx\u001b[0m in \u001b[0;36mpandas._libs.index.IndexEngine.get_loc\u001b[1;34m()\u001b[0m\n",
      "\u001b[1;32mpandas\\_libs\\index.pyx\u001b[0m in \u001b[0;36mpandas._libs.index.IndexEngine.get_loc\u001b[1;34m()\u001b[0m\n",
      "\u001b[1;32mpandas\\_libs\\hashtable_class_helper.pxi\u001b[0m in \u001b[0;36mpandas._libs.hashtable.PyObjectHashTable.get_item\u001b[1;34m()\u001b[0m\n",
      "\u001b[1;32mpandas\\_libs\\hashtable_class_helper.pxi\u001b[0m in \u001b[0;36mpandas._libs.hashtable.PyObjectHashTable.get_item\u001b[1;34m()\u001b[0m\n",
      "\u001b[1;31mKeyError\u001b[0m: 'QQQ'",
      "\nThe above exception was the direct cause of the following exception:\n",
      "\u001b[1;31mKeyError\u001b[0m                                  Traceback (most recent call last)",
      "\u001b[1;32m<ipython-input-35-93bb3bf007e0>\u001b[0m in \u001b[0;36m<module>\u001b[1;34m\u001b[0m\n\u001b[1;32m----> 1\u001b[1;33m \u001b[0mqqq_cov\u001b[0m \u001b[1;33m=\u001b[0m \u001b[0mdaily_returns\u001b[0m\u001b[1;33m[\u001b[0m\u001b[1;34m'QQQ'\u001b[0m\u001b[1;33m]\u001b[0m\u001b[1;33m.\u001b[0m\u001b[0mrolling\u001b[0m\u001b[1;33m(\u001b[0m\u001b[1;36m5\u001b[0m\u001b[1;33m)\u001b[0m\u001b[1;33m.\u001b[0m\u001b[0mcov\u001b[0m\u001b[1;33m(\u001b[0m\u001b[0mdaily_sp500_returns_df\u001b[0m\u001b[1;33m)\u001b[0m\u001b[1;33m.\u001b[0m\u001b[0mdropna\u001b[0m\u001b[1;33m(\u001b[0m\u001b[1;33m)\u001b[0m\u001b[1;33m\u001b[0m\u001b[1;33m\u001b[0m\u001b[0m\n\u001b[0m\u001b[0;32m      2\u001b[0m \u001b[0mdisplay\u001b[0m\u001b[1;33m(\u001b[0m\u001b[0mqqq_cov\u001b[0m\u001b[1;33m.\u001b[0m\u001b[0mhead\u001b[0m\u001b[1;33m(\u001b[0m\u001b[1;33m)\u001b[0m\u001b[1;33m)\u001b[0m\u001b[1;33m\u001b[0m\u001b[1;33m\u001b[0m\u001b[0m\n\u001b[0;32m      3\u001b[0m \u001b[0mxle_cov\u001b[0m \u001b[1;33m=\u001b[0m \u001b[0mdaily_returns\u001b[0m\u001b[1;33m[\u001b[0m\u001b[1;34m'XLE'\u001b[0m\u001b[1;33m]\u001b[0m\u001b[1;33m.\u001b[0m\u001b[0mrolling\u001b[0m\u001b[1;33m(\u001b[0m\u001b[1;36m5\u001b[0m\u001b[1;33m)\u001b[0m\u001b[1;33m.\u001b[0m\u001b[0mcov\u001b[0m\u001b[1;33m(\u001b[0m\u001b[0mdaily_sp500_returns_df\u001b[0m\u001b[1;33m)\u001b[0m\u001b[1;33m.\u001b[0m\u001b[0mdropna\u001b[0m\u001b[1;33m(\u001b[0m\u001b[1;33m)\u001b[0m\u001b[1;33m\u001b[0m\u001b[1;33m\u001b[0m\u001b[0m\n\u001b[0;32m      4\u001b[0m \u001b[0mdisplay\u001b[0m\u001b[1;33m(\u001b[0m\u001b[0mxle_cov\u001b[0m\u001b[1;33m.\u001b[0m\u001b[0mhead\u001b[0m\u001b[1;33m(\u001b[0m\u001b[1;33m)\u001b[0m\u001b[1;33m)\u001b[0m\u001b[1;33m\u001b[0m\u001b[1;33m\u001b[0m\u001b[0m\n",
      "\u001b[1;32m~\\anaconda3\\lib\\site-packages\\pandas\\core\\frame.py\u001b[0m in \u001b[0;36m__getitem__\u001b[1;34m(self, key)\u001b[0m\n\u001b[0;32m   3022\u001b[0m             \u001b[1;32mif\u001b[0m \u001b[0mself\u001b[0m\u001b[1;33m.\u001b[0m\u001b[0mcolumns\u001b[0m\u001b[1;33m.\u001b[0m\u001b[0mnlevels\u001b[0m \u001b[1;33m>\u001b[0m \u001b[1;36m1\u001b[0m\u001b[1;33m:\u001b[0m\u001b[1;33m\u001b[0m\u001b[1;33m\u001b[0m\u001b[0m\n\u001b[0;32m   3023\u001b[0m                 \u001b[1;32mreturn\u001b[0m \u001b[0mself\u001b[0m\u001b[1;33m.\u001b[0m\u001b[0m_getitem_multilevel\u001b[0m\u001b[1;33m(\u001b[0m\u001b[0mkey\u001b[0m\u001b[1;33m)\u001b[0m\u001b[1;33m\u001b[0m\u001b[1;33m\u001b[0m\u001b[0m\n\u001b[1;32m-> 3024\u001b[1;33m             \u001b[0mindexer\u001b[0m \u001b[1;33m=\u001b[0m \u001b[0mself\u001b[0m\u001b[1;33m.\u001b[0m\u001b[0mcolumns\u001b[0m\u001b[1;33m.\u001b[0m\u001b[0mget_loc\u001b[0m\u001b[1;33m(\u001b[0m\u001b[0mkey\u001b[0m\u001b[1;33m)\u001b[0m\u001b[1;33m\u001b[0m\u001b[1;33m\u001b[0m\u001b[0m\n\u001b[0m\u001b[0;32m   3025\u001b[0m             \u001b[1;32mif\u001b[0m \u001b[0mis_integer\u001b[0m\u001b[1;33m(\u001b[0m\u001b[0mindexer\u001b[0m\u001b[1;33m)\u001b[0m\u001b[1;33m:\u001b[0m\u001b[1;33m\u001b[0m\u001b[1;33m\u001b[0m\u001b[0m\n\u001b[0;32m   3026\u001b[0m                 \u001b[0mindexer\u001b[0m \u001b[1;33m=\u001b[0m \u001b[1;33m[\u001b[0m\u001b[0mindexer\u001b[0m\u001b[1;33m]\u001b[0m\u001b[1;33m\u001b[0m\u001b[1;33m\u001b[0m\u001b[0m\n",
      "\u001b[1;32m~\\anaconda3\\lib\\site-packages\\pandas\\core\\indexes\\base.py\u001b[0m in \u001b[0;36mget_loc\u001b[1;34m(self, key, method, tolerance)\u001b[0m\n\u001b[0;32m   3080\u001b[0m                 \u001b[1;32mreturn\u001b[0m \u001b[0mself\u001b[0m\u001b[1;33m.\u001b[0m\u001b[0m_engine\u001b[0m\u001b[1;33m.\u001b[0m\u001b[0mget_loc\u001b[0m\u001b[1;33m(\u001b[0m\u001b[0mcasted_key\u001b[0m\u001b[1;33m)\u001b[0m\u001b[1;33m\u001b[0m\u001b[1;33m\u001b[0m\u001b[0m\n\u001b[0;32m   3081\u001b[0m             \u001b[1;32mexcept\u001b[0m \u001b[0mKeyError\u001b[0m \u001b[1;32mas\u001b[0m \u001b[0merr\u001b[0m\u001b[1;33m:\u001b[0m\u001b[1;33m\u001b[0m\u001b[1;33m\u001b[0m\u001b[0m\n\u001b[1;32m-> 3082\u001b[1;33m                 \u001b[1;32mraise\u001b[0m \u001b[0mKeyError\u001b[0m\u001b[1;33m(\u001b[0m\u001b[0mkey\u001b[0m\u001b[1;33m)\u001b[0m \u001b[1;32mfrom\u001b[0m \u001b[0merr\u001b[0m\u001b[1;33m\u001b[0m\u001b[1;33m\u001b[0m\u001b[0m\n\u001b[0m\u001b[0;32m   3083\u001b[0m \u001b[1;33m\u001b[0m\u001b[0m\n\u001b[0;32m   3084\u001b[0m         \u001b[1;32mif\u001b[0m \u001b[0mtolerance\u001b[0m \u001b[1;32mis\u001b[0m \u001b[1;32mnot\u001b[0m \u001b[1;32mNone\u001b[0m\u001b[1;33m:\u001b[0m\u001b[1;33m\u001b[0m\u001b[1;33m\u001b[0m\u001b[0m\n",
      "\u001b[1;31mKeyError\u001b[0m: 'QQQ'"
     ]
    }
   ],
   "source": [
    "qqq_cov = daily_returns['QQQ'].rolling(5).cov(daily_sp500_returns_df).dropna()\n",
    "display(qqq_cov.head())\n",
    "xle_cov = daily_returns['XLE'].rolling(5).cov(daily_sp500_returns_df).dropna()\n",
    "display(xle_cov.head())"
   ]
  },
  {
   "cell_type": "code",
   "execution_count": 36,
   "id": "7057f64c-6ad0-427f-a259-58dc8776afbf",
   "metadata": {},
   "outputs": [
    {
     "ename": "NameError",
     "evalue": "name 'qqq_cov' is not defined",
     "output_type": "error",
     "traceback": [
      "\u001b[1;31m---------------------------------------------------------------------------\u001b[0m",
      "\u001b[1;31mNameError\u001b[0m                                 Traceback (most recent call last)",
      "\u001b[1;32m<ipython-input-36-79bea1a7ee33>\u001b[0m in \u001b[0;36m<module>\u001b[1;34m\u001b[0m\n\u001b[1;32m----> 1\u001b[1;33m \u001b[0mqqq_beta\u001b[0m \u001b[1;33m=\u001b[0m \u001b[0mqqq_cov\u001b[0m\u001b[1;33m/\u001b[0m\u001b[0mdaily_sp500_returns_var\u001b[0m\u001b[1;33m\u001b[0m\u001b[1;33m\u001b[0m\u001b[0m\n\u001b[0m\u001b[0;32m      2\u001b[0m \u001b[0mdisplay\u001b[0m\u001b[1;33m(\u001b[0m\u001b[0mqqq_beta\u001b[0m\u001b[1;33m.\u001b[0m\u001b[0mdropna\u001b[0m\u001b[1;33m(\u001b[0m\u001b[1;33m)\u001b[0m\u001b[1;33m.\u001b[0m\u001b[0mhead\u001b[0m\u001b[1;33m(\u001b[0m\u001b[1;33m)\u001b[0m\u001b[1;33m)\u001b[0m\u001b[1;33m\u001b[0m\u001b[1;33m\u001b[0m\u001b[0m\n\u001b[0;32m      3\u001b[0m \u001b[0mxle_beta\u001b[0m \u001b[1;33m=\u001b[0m \u001b[0mxle_cov\u001b[0m\u001b[1;33m/\u001b[0m\u001b[0mdaily_sp500_returns_var\u001b[0m\u001b[1;33m\u001b[0m\u001b[1;33m\u001b[0m\u001b[0m\n\u001b[0;32m      4\u001b[0m \u001b[0mdisplay\u001b[0m\u001b[1;33m(\u001b[0m\u001b[0mxle_beta\u001b[0m\u001b[1;33m.\u001b[0m\u001b[0mdropna\u001b[0m\u001b[1;33m(\u001b[0m\u001b[1;33m)\u001b[0m\u001b[1;33m.\u001b[0m\u001b[0mhead\u001b[0m\u001b[1;33m(\u001b[0m\u001b[1;33m)\u001b[0m\u001b[1;33m)\u001b[0m\u001b[1;33m\u001b[0m\u001b[1;33m\u001b[0m\u001b[0m\n",
      "\u001b[1;31mNameError\u001b[0m: name 'qqq_cov' is not defined"
     ]
    }
   ],
   "source": [
    "\n",
    "qqq_beta = qqq_cov/daily_sp500_returns_var\n",
    "display(qqq_beta.dropna().head())\n",
    "xle_beta = xle_cov/daily_sp500_returns_var\n",
    "display(xle_beta.dropna().head())"
   ]
  },
  {
   "cell_type": "code",
   "execution_count": 37,
   "id": "e57c33d2-6064-42f2-b21e-7e8ee3f88294",
   "metadata": {},
   "outputs": [
    {
     "ename": "NameError",
     "evalue": "name 'qqq_beta' is not defined",
     "output_type": "error",
     "traceback": [
      "\u001b[1;31m---------------------------------------------------------------------------\u001b[0m",
      "\u001b[1;31mNameError\u001b[0m                                 Traceback (most recent call last)",
      "\u001b[1;32m<ipython-input-37-61094c52b2b1>\u001b[0m in \u001b[0;36m<module>\u001b[1;34m\u001b[0m\n\u001b[1;32m----> 1\u001b[1;33m \u001b[0mqqq_beta_mean\u001b[0m \u001b[1;33m=\u001b[0m \u001b[0mqqq_beta\u001b[0m\u001b[1;33m.\u001b[0m\u001b[0mrolling\u001b[0m\u001b[1;33m(\u001b[0m\u001b[1;36m5\u001b[0m\u001b[1;33m)\u001b[0m\u001b[1;33m.\u001b[0m\u001b[0mmean\u001b[0m\u001b[1;33m(\u001b[0m\u001b[1;33m)\u001b[0m\u001b[1;33m.\u001b[0m\u001b[0mdropna\u001b[0m\u001b[1;33m(\u001b[0m\u001b[1;33m)\u001b[0m\u001b[1;33m\u001b[0m\u001b[1;33m\u001b[0m\u001b[0m\n\u001b[0m\u001b[0;32m      2\u001b[0m \u001b[0mdisplay\u001b[0m\u001b[1;33m(\u001b[0m\u001b[0mqqq_beta_mean\u001b[0m\u001b[1;33m.\u001b[0m\u001b[0mhead\u001b[0m\u001b[1;33m(\u001b[0m\u001b[1;33m)\u001b[0m\u001b[1;33m)\u001b[0m\u001b[1;33m\u001b[0m\u001b[1;33m\u001b[0m\u001b[0m\n\u001b[0;32m      3\u001b[0m \u001b[0mxle_beta_mean\u001b[0m \u001b[1;33m=\u001b[0m \u001b[0mxle_beta\u001b[0m\u001b[1;33m.\u001b[0m\u001b[0mrolling\u001b[0m\u001b[1;33m(\u001b[0m\u001b[1;36m5\u001b[0m\u001b[1;33m)\u001b[0m\u001b[1;33m.\u001b[0m\u001b[0mmean\u001b[0m\u001b[1;33m(\u001b[0m\u001b[1;33m)\u001b[0m\u001b[1;33m.\u001b[0m\u001b[0mdropna\u001b[0m\u001b[1;33m(\u001b[0m\u001b[1;33m)\u001b[0m\u001b[1;33m\u001b[0m\u001b[1;33m\u001b[0m\u001b[0m\n\u001b[0;32m      4\u001b[0m \u001b[0mdisplay\u001b[0m\u001b[1;33m(\u001b[0m\u001b[0mxle_beta_mean\u001b[0m\u001b[1;33m.\u001b[0m\u001b[0mhead\u001b[0m\u001b[1;33m(\u001b[0m\u001b[1;33m)\u001b[0m\u001b[1;33m)\u001b[0m\u001b[1;33m\u001b[0m\u001b[1;33m\u001b[0m\u001b[0m\n",
      "\u001b[1;31mNameError\u001b[0m: name 'qqq_beta' is not defined"
     ]
    }
   ],
   "source": [
    "qqq_beta_mean = qqq_beta.rolling(5).mean().dropna()\n",
    "display(qqq_beta_mean.head())\n",
    "xle_beta_mean = xle_beta.rolling(5).mean().dropna()\n",
    "display(xle_beta_mean.head())"
   ]
  },
  {
   "cell_type": "code",
   "execution_count": 38,
   "id": "5ef66f7e-74e8-4969-ae85-f694bc166b6c",
   "metadata": {},
   "outputs": [
    {
     "ename": "NameError",
     "evalue": "name 'qqq_beta' is not defined",
     "output_type": "error",
     "traceback": [
      "\u001b[1;31m---------------------------------------------------------------------------\u001b[0m",
      "\u001b[1;31mNameError\u001b[0m                                 Traceback (most recent call last)",
      "\u001b[1;32m<ipython-input-38-125d86274351>\u001b[0m in \u001b[0;36m<module>\u001b[1;34m\u001b[0m\n\u001b[1;32m----> 1\u001b[1;33m \u001b[0mqqq_beta\u001b[0m\u001b[1;33m.\u001b[0m\u001b[0mplot\u001b[0m\u001b[1;33m(\u001b[0m\u001b[0mtitle\u001b[0m\u001b[1;33m=\u001b[0m\u001b[1;34m\"QQQ Beta\"\u001b[0m\u001b[1;33m,\u001b[0m \u001b[0mfigsize\u001b[0m\u001b[1;33m=\u001b[0m\u001b[1;33m(\u001b[0m\u001b[1;36m14\u001b[0m\u001b[1;33m,\u001b[0m \u001b[1;36m7\u001b[0m\u001b[1;33m)\u001b[0m\u001b[1;33m)\u001b[0m\u001b[1;33m\u001b[0m\u001b[1;33m\u001b[0m\u001b[0m\n\u001b[0m",
      "\u001b[1;31mNameError\u001b[0m: name 'qqq_beta' is not defined"
     ]
    }
   ],
   "source": [
    "qqq_beta.plot(title=\"QQQ Beta\", figsize=(14, 7))"
   ]
  },
  {
   "cell_type": "code",
   "execution_count": 39,
   "id": "57d1df5b-e9b7-4d41-805e-f27009ecc9b2",
   "metadata": {},
   "outputs": [
    {
     "ename": "NameError",
     "evalue": "name 'xle_beta' is not defined",
     "output_type": "error",
     "traceback": [
      "\u001b[1;31m---------------------------------------------------------------------------\u001b[0m",
      "\u001b[1;31mNameError\u001b[0m                                 Traceback (most recent call last)",
      "\u001b[1;32m<ipython-input-39-c040bdcc8606>\u001b[0m in \u001b[0;36m<module>\u001b[1;34m\u001b[0m\n\u001b[1;32m----> 1\u001b[1;33m \u001b[0mxle_beta\u001b[0m\u001b[1;33m.\u001b[0m\u001b[0mplot\u001b[0m\u001b[1;33m(\u001b[0m\u001b[0mtitle\u001b[0m\u001b[1;33m=\u001b[0m\u001b[1;34m\"XLE Beta\"\u001b[0m\u001b[1;33m,\u001b[0m \u001b[0mfigsize\u001b[0m\u001b[1;33m=\u001b[0m\u001b[1;33m(\u001b[0m\u001b[1;36m14\u001b[0m\u001b[1;33m,\u001b[0m \u001b[1;36m7\u001b[0m\u001b[1;33m)\u001b[0m\u001b[1;33m)\u001b[0m\u001b[1;33m\u001b[0m\u001b[1;33m\u001b[0m\u001b[0m\n\u001b[0m",
      "\u001b[1;31mNameError\u001b[0m: name 'xle_beta' is not defined"
     ]
    }
   ],
   "source": [
    "xle_beta.plot(title=\"XLE Beta\", figsize=(14, 7))"
   ]
  },
  {
   "cell_type": "code",
   "execution_count": null,
   "id": "a84d8038-ea2e-4845-93d0-1164ef8323fa",
   "metadata": {},
   "outputs": [],
   "source": []
  }
 ],
 "metadata": {
  "kernelspec": {
   "display_name": "dev",
   "language": "python",
   "name": "dev"
  },
  "language_info": {
   "codemirror_mode": {
    "name": "ipython",
    "version": 3
   },
   "file_extension": ".py",
   "mimetype": "text/x-python",
   "name": "python",
   "nbconvert_exporter": "python",
   "pygments_lexer": "ipython3",
   "version": "3.8.8"
  }
 },
 "nbformat": 4,
 "nbformat_minor": 5
}
