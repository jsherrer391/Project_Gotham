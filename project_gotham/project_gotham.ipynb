{
 "cells": [
  {
   "cell_type": "code",
   "execution_count": 17,
   "id": "cdb34b43",
   "metadata": {},
   "outputs": [],
   "source": [
    "#!pip install alpaca_trade_api"
   ]
  },
  {
   "cell_type": "code",
   "execution_count": 1,
   "id": "94cec29c",
   "metadata": {},
   "outputs": [],
   "source": [
    "# Import the required libraries and dependencies\n",
    "import os\n",
    "import requests\n",
    "import pandas as pd\n",
    "from dotenv import load_dotenv\n",
    "import alpaca_trade_api as tradeapi\n"
   ]
  },
  {
   "cell_type": "code",
   "execution_count": 2,
   "id": "6fae8c73",
   "metadata": {},
   "outputs": [],
   "source": [
    "# Load .env environment varaables\n",
    "load_dotenv()\n",
    "\n",
    "# Set Alpaca API key and secret\n",
    "alpaca_api_key = os.getenv(\"API_KEY\")\n",
    "#alpaca_secret_key = os.getenv(5YiQuK9E8xlvJA18PlKX9u8MIC4Bdf2YOype1Uzn)"
   ]
  },
  {
   "cell_type": "code",
   "execution_count": 3,
   "id": "1488821a",
   "metadata": {},
   "outputs": [
    {
     "ename": "NameError",
     "evalue": "name 'alpaca_secret_key' is not defined",
     "output_type": "error",
     "traceback": [
      "\u001b[0;31m---------------------------------------------------------------------------\u001b[0m",
      "\u001b[0;31mNameError\u001b[0m                                 Traceback (most recent call last)",
      "\u001b[0;32m<ipython-input-3-f55a1117e433>\u001b[0m in \u001b[0;36m<module>\u001b[0;34m\u001b[0m\n\u001b[1;32m      2\u001b[0m alpaca = tradeapi.REST(\n\u001b[1;32m      3\u001b[0m     \u001b[0malpaca_api_key\u001b[0m\u001b[0;34m,\u001b[0m\u001b[0;34m\u001b[0m\u001b[0;34m\u001b[0m\u001b[0m\n\u001b[0;32m----> 4\u001b[0;31m     \u001b[0malpaca_secret_key\u001b[0m\u001b[0;34m,\u001b[0m\u001b[0;34m\u001b[0m\u001b[0;34m\u001b[0m\u001b[0m\n\u001b[0m\u001b[1;32m      5\u001b[0m     api_version=\"v2\")\n",
      "\u001b[0;31mNameError\u001b[0m: name 'alpaca_secret_key' is not defined"
     ]
    }
   ],
   "source": [
    "# Create the Alpaca API object\n",
    "alpaca = tradeapi.REST(\n",
    "    alpaca_api_key,\n",
    "    alpaca_secret_key,\n",
    "    api_version=\"v2\")"
   ]
  },
  {
   "cell_type": "code",
   "execution_count": 4,
   "id": "abfa4912",
   "metadata": {},
   "outputs": [
    {
     "ename": "NameError",
     "evalue": "name 'datetime' is not defined",
     "output_type": "error",
     "traceback": [
      "\u001b[0;31m---------------------------------------------------------------------------\u001b[0m",
      "\u001b[0;31mNameError\u001b[0m                                 Traceback (most recent call last)",
      "\u001b[0;32m<ipython-input-4-d25bc725942c>\u001b[0m in \u001b[0;36m<module>\u001b[0;34m\u001b[0m\n\u001b[0;32m----> 1\u001b[0;31m \u001b[0mtoday_date\u001b[0m \u001b[0;34m=\u001b[0m \u001b[0mstr\u001b[0m\u001b[0;34m(\u001b[0m\u001b[0mdatetime\u001b[0m\u001b[0;34m.\u001b[0m\u001b[0mdatetime\u001b[0m\u001b[0;34m.\u001b[0m\u001b[0mnow\u001b[0m\u001b[0;34m(\u001b[0m\u001b[0;34m)\u001b[0m\u001b[0;34m)\u001b[0m\u001b[0;34m.\u001b[0m\u001b[0msplit\u001b[0m\u001b[0;34m(\u001b[0m\u001b[0;34m)\u001b[0m\u001b[0;34m[\u001b[0m\u001b[0;36m0\u001b[0m\u001b[0;34m]\u001b[0m\u001b[0;34m\u001b[0m\u001b[0;34m\u001b[0m\u001b[0m\n\u001b[0m\u001b[1;32m      2\u001b[0m \u001b[0mone_year_ago\u001b[0m \u001b[0;34m=\u001b[0m \u001b[0mstr\u001b[0m\u001b[0;34m(\u001b[0m\u001b[0mdatetime\u001b[0m\u001b[0;34m.\u001b[0m\u001b[0mdatetime\u001b[0m\u001b[0;34m.\u001b[0m\u001b[0mnow\u001b[0m\u001b[0;34m(\u001b[0m\u001b[0;34m)\u001b[0m \u001b[0;34m-\u001b[0m \u001b[0mdatetime\u001b[0m\u001b[0;34m.\u001b[0m\u001b[0mtimedelta\u001b[0m\u001b[0;34m(\u001b[0m\u001b[0mdays\u001b[0m\u001b[0;34m=\u001b[0m\u001b[0;36m1\u001b[0m\u001b[0;34m*\u001b[0m\u001b[0;36m365\u001b[0m\u001b[0;34m)\u001b[0m\u001b[0;34m)\u001b[0m\u001b[0;34m.\u001b[0m\u001b[0msplit\u001b[0m\u001b[0;34m(\u001b[0m\u001b[0;34m)\u001b[0m\u001b[0;34m[\u001b[0m\u001b[0;36m0\u001b[0m\u001b[0;34m]\u001b[0m\u001b[0;34m\u001b[0m\u001b[0;34m\u001b[0m\u001b[0m\n\u001b[1;32m      3\u001b[0m \u001b[0mtoday_date\u001b[0m\u001b[0;34m,\u001b[0m \u001b[0mone_year_ago\u001b[0m\u001b[0;34m\u001b[0m\u001b[0;34m\u001b[0m\u001b[0m\n",
      "\u001b[0;31mNameError\u001b[0m: name 'datetime' is not defined"
     ]
    }
   ],
   "source": [
    "today_date = str(datetime.datetime.now()).split()[0]\n",
    "one_year_ago = str(datetime.datetime.now() - datetime.timedelta(days=1*365)).split()[0]\n",
    "today_date, one_year_ago"
   ]
  },
  {
   "cell_type": "code",
   "execution_count": 5,
   "id": "855f743a",
   "metadata": {},
   "outputs": [
    {
     "ename": "SyntaxError",
     "evalue": "invalid syntax (<ipython-input-5-6bd1992e24f7>, line 15)",
     "output_type": "error",
     "traceback": [
      "\u001b[0;36m  File \u001b[0;32m\"<ipython-input-5-6bd1992e24f7>\"\u001b[0;36m, line \u001b[0;32m15\u001b[0m\n\u001b[0;31m    start=start_date,\u001b[0m\n\u001b[0m        ^\u001b[0m\n\u001b[0;31mSyntaxError\u001b[0m\u001b[0;31m:\u001b[0m invalid syntax\n"
     ]
    }
   ],
   "source": [
    "# set teh tickers\n",
    "ticker = [\"GME\", \"AMZN\"]\n",
    "\n",
    "# SET TIMEFRAME TO \"1D\"\n",
    "timeframe = \"1D\"\n",
    "\n",
    "#set start and end datetimes of 1 Year, between now and 365 days ago\n",
    "start_date = pd.Timestamp(one_year_ago, tz=\"America/New_York\").isoformat()\n",
    "end_date = pd.Timestamp(today_date, tz=\"America/New_York\").isoformat()\n",
    "\n",
    "# get 1 year's worth of histroical data for \n",
    "df_ticker = alpaca.get_barest(\n",
    "    ticker,\n",
    "    timeframe\n",
    "    start=start_date,\n",
    "    end=end_date\n",
    ").df\n",
    "\n",
    "#display sample data\n",
    "df_ticker.head(10)\n"
   ]
  },
  {
   "cell_type": "code",
   "execution_count": 6,
   "id": "52f641b9",
   "metadata": {},
   "outputs": [
    {
     "ename": "SyntaxError",
     "evalue": "invalid syntax (<ipython-input-6-ece8c16ac657>, line 5)",
     "output_type": "error",
     "traceback": [
      "\u001b[0;36m  File \u001b[0;32m\"<ipython-input-6-ece8c16ac657>\"\u001b[0;36m, line \u001b[0;32m5\u001b[0m\n\u001b[0;31m    df_closing_prices[] = df_ticker[][close]\u001b[0m\n\u001b[0m                      ^\u001b[0m\n\u001b[0;31mSyntaxError\u001b[0m\u001b[0;31m:\u001b[0m invalid syntax\n"
     ]
    }
   ],
   "source": [
    "#create and empty dataframe for closing prices\n",
    "df_closing_prices = pd.DataFrame()\n",
    "\n",
    "#Fetch the closing prices of \n",
    "df_closing_prices[] = df_ticker[][close]\n",
    "df_closing_prices[] = df_ticker[][close]\n",
    "\n",
    "#drop the time componet of the date\n",
    "df_closing_prices.index = df_closing_prices.index.date\n",
    "\n",
    "#compute daily returns\n",
    "df_daily_returns = df_closing_prices.pct_change().dropna()\n",
    "\n",
    "#display smale data\n",
    "df_daily returns.head(10)\n"
   ]
  },
  {
   "cell_type": "code",
   "execution_count": null,
   "id": "36d6338b",
   "metadata": {},
   "outputs": [],
   "source": [
    "# generate descriptive statistics\n",
    "df_daily_returns.describe()"
   ]
  },
  {
   "cell_type": "code",
   "execution_count": null,
   "id": "97c1fb37",
   "metadata": {},
   "outputs": [],
   "source": [
    "# visualize distribution of  percent change in closing prices using a historgram plot\n",
    "df_daily_returns[].plot.hist()"
   ]
  }
 ],
 "metadata": {
  "kernelspec": {
   "display_name": "Python [conda env:pyvizenv] *",
   "language": "python",
   "name": "conda-env-pyvizenv-py"
  },
  "language_info": {
   "codemirror_mode": {
    "name": "ipython",
    "version": 3
   },
   "file_extension": ".py",
   "mimetype": "text/x-python",
   "name": "python",
   "nbconvert_exporter": "python",
   "pygments_lexer": "ipython3",
   "version": "3.7.10"
  }
 },
 "nbformat": 4,
 "nbformat_minor": 5
}
