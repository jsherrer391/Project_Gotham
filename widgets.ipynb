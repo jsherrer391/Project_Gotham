{
 "cells": [
  {
   "cell_type": "code",
   "execution_count": 14,
   "id": "60b8cb32",
   "metadata": {},
   "outputs": [],
   "source": [
    "from ipywidgets import interact, interactive, fixed, interact_manual\n",
    "import ipywidgets as widgets"
   ]
  },
  {
   "cell_type": "code",
   "execution_count": 15,
   "id": "91f392ff",
   "metadata": {},
   "outputs": [
    {
     "data": {
      "application/vnd.jupyter.widget-view+json": {
       "model_id": "a48f74561b8e49eaa0a999069fa621d8",
       "version_major": 2,
       "version_minor": 0
      },
      "text/plain": [
       "SelectMultiple(description='Select ETFs for analysis', index=(0,), options=('AGG', 'SPY', 'XLF', 'QQQ', 'EEM',…"
      ]
     },
     "metadata": {},
     "output_type": "display_data"
    }
   ],
   "source": [
    "ui= widgets.SelectMultiple(\n",
    "            options=[\"AGG\", \"SPY\", \"XLF\", \"QQQ\", \"EEM\", \"XLE\", \"GDX\", \"IWM\", \"IWV\"],\n",
    "            value=['AGG'],\n",
    "            description='Select ETFs for analysis',\n",
    "            readout= True,\n",
    "            disabled=False\n",
    ")\n",
    "display(ui)"
   ]
  },
  {
   "cell_type": "code",
   "execution_count": 16,
   "id": "fd085199",
   "metadata": {},
   "outputs": [
    {
     "name": "stdout",
     "output_type": "stream",
     "text": [
      "['AGG', 'SPY', 'XLF']\n"
     ]
    }
   ],
   "source": [
    "ui= list(ui.value)\n",
    "print(ui)"
   ]
  },
  {
   "cell_type": "code",
   "execution_count": null,
   "id": "bb480f07",
   "metadata": {},
   "outputs": [],
   "source": []
  },
  {
   "cell_type": "code",
   "execution_count": 22,
   "id": "182a7c98",
   "metadata": {},
   "outputs": [
    {
     "data": {
      "application/vnd.jupyter.widget-view+json": {
       "model_id": "4b21af0db59d4715a313e2d0fe417c20",
       "version_major": 2,
       "version_minor": 0
      },
      "text/plain": [
       "Select(description='num of simulations', index=1, options=('50', '100', '250', '500'), value='100')"
      ]
     },
     "metadata": {},
     "output_type": "display_data"
    }
   ],
   "source": [
    "simulations= widgets.Select(\n",
    "    options=['50','100', '250', '500'],\n",
    "    value='100',\n",
    "    description='num of simulations',\n",
    "    disabled=False\n",
    ")\n",
    "display(simulations)"
   ]
  },
  {
   "cell_type": "code",
   "execution_count": 25,
   "id": "e37ff90e",
   "metadata": {},
   "outputs": [
    {
     "name": "stdout",
     "output_type": "stream",
     "text": [
      "250\n"
     ]
    }
   ],
   "source": [
    "simulations=int(simulations.value)\n",
    "print(simulations)"
   ]
  },
  {
   "cell_type": "code",
   "execution_count": 31,
   "id": "4a7a56fb",
   "metadata": {},
   "outputs": [
    {
     "data": {
      "application/vnd.jupyter.widget-view+json": {
       "model_id": "ad09341eccdc4be5ad59551855c99951",
       "version_major": 2,
       "version_minor": 0
      },
      "text/plain": [
       "IntSlider(value=10, continuous_update=False, description='Years:', max=30, min=1)"
      ]
     },
     "metadata": {},
     "output_type": "display_data"
    }
   ],
   "source": [
    "years=widgets.IntSlider(\n",
    "    value=10,\n",
    "    min=1,\n",
    "    max=30,\n",
    "    step=1,\n",
    "    description='Years:',\n",
    "    disabled=False,\n",
    "    continuous_update=False,\n",
    "    orientation='horizontal',\n",
    "    readout=True,\n",
    "    readout_format='d'\n",
    ")\n",
    "\n",
    "display(years)"
   ]
  },
  {
   "cell_type": "code",
   "execution_count": 32,
   "id": "65e7bad4",
   "metadata": {},
   "outputs": [
    {
     "name": "stdout",
     "output_type": "stream",
     "text": [
      "16\n"
     ]
    }
   ],
   "source": [
    "years= int(years.value)\n",
    "print(years)"
   ]
  }
 ],
 "metadata": {
  "kernelspec": {
   "display_name": "Python (dev)",
   "language": "python",
   "name": "dev"
  },
  "language_info": {
   "codemirror_mode": {
    "name": "ipython",
    "version": 3
   },
   "file_extension": ".py",
   "mimetype": "text/x-python",
   "name": "python",
   "nbconvert_exporter": "python",
   "pygments_lexer": "ipython3",
   "version": "3.7.10"
  }
 },
 "nbformat": 4,
 "nbformat_minor": 5
}
